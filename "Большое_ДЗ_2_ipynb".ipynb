{
  "nbformat": 4,
  "nbformat_minor": 0,
  "metadata": {
    "colab": {
      "name": "\"Большое_ДЗ_2.ipynb\"",
      "provenance": [],
      "collapsed_sections": [],
      "include_colab_link": true
    },
    "kernelspec": {
      "name": "python3",
      "display_name": "Python 3"
    }
  },
  "cells": [
    {
      "cell_type": "markdown",
      "metadata": {
        "id": "view-in-github",
        "colab_type": "text"
      },
      "source": [
        "<a href=\"https://colab.research.google.com/github/Kazantsev-Alexey/ML_DS/blob/main/%22%D0%91%D0%BE%D0%BB%D1%8C%D1%88%D0%BE%D0%B5_%D0%94%D0%97_2_ipynb%22.ipynb\" target=\"_parent\"><img src=\"https://colab.research.google.com/assets/colab-badge.svg\" alt=\"Open In Colab\"/></a>"
      ]
    },
    {
      "cell_type": "markdown",
      "metadata": {
        "id": "PtRJ8Lka-cuI"
      },
      "source": [
        "<h2 style=\"text-align: center;\"><b>Большое домашнее задание 2. Участие в соревнованиях на Kaggle. Работа с нерепрезентативными данными.\n",
        "</b></h2>\n",
        "\n",
        "ДЗ в колабе: https://colab.research.google.com/drive/18Hi97eESCrXYht-7SIoj_19pwcZhl17Y?usp=sharing\n",
        "\n",
        "В этом домашнем задании нам нужно применить в реальном соревновании накопленные знания по машинному обучению и анализу данных!\n",
        "\n",
        "- Нужно будет провести предобработку [данных с Kaggle](https://www.kaggle.com/sid321axn/thoraric-surgery). Затем нужно будет предсказать колонку DGN (диагноз). Это задача классификации. \n",
        "- Описание датасета (что значит признаки): https://archive.ics.uci.edu/ml/datasets/Thoracic+Surgery+Data \n",
        "- Не забудьте провести анализ данных перед тем, как применять ML-модели! Вам нужно сначала понять, с чем Вы имеете дело, поискать зависимости в данных, понять природу этих зависимостей, и только после этого уже подбирать алгоритмы. Данные с подвохом! Внимательно смотрите на распределения признаков в каждом из классов!\n",
        "- В качестве основы можно использовать наработки с занятий. Необходимо попробовать сделать аугментацию данных, т.к. данных очень мало, для обучения содержательных моделей их не хватит.\n",
        "- Попробуйте kNN, логистическую регрессию, SVM. Поэкспериментируйте с добавлением композитных признаков (например, полиномиальных), выбором ядра (для SVM). Подберите гиперпараметры по кросс-валидации (GridSearchCV или RandomSearchCV, второй вариант предпочтительнее).  \n",
        "- Достичь идеального качества Вам не удастся, да и гнаться за этим не стоит. Гораздо важнее провести вдумчивый анализ и показать, что Вы разобрались в теме.\n",
        "\n",
        "**Правила:**\n",
        "\n",
        "- **Дедлайн один:** 29 января 23:59. Решения, отправленные позже, проверяться не будут, кроме случаев наличия уважительной причины.\n",
        "\n",
        "\n",
        "\n",
        "Решения, размещенные на каких-либо интернет-ресурсах, не принимаются.\n",
        " При написании кода придерживайтесь `pep8` и используйте `type hints`.\n",
        "\n",
        "**После жесткого дедлайна задания не принимаются. Так как дальше будет работа только над проектом**"
      ]
    },
    {
      "cell_type": "markdown",
      "metadata": {
        "id": "D8stSnU26k4m"
      },
      "source": [
        "# Анализ данных"
      ]
    },
    {
      "cell_type": "code",
      "metadata": {
        "id": "gfXnteaCG0Ag"
      },
      "source": [
        "import pandas as pd\r\n",
        "import numpy as np\r\n",
        "import matplotlib.pyplot as plt\r\n"
      ],
      "execution_count": 1,
      "outputs": []
    },
    {
      "cell_type": "code",
      "metadata": {
        "id": "3-J3BZ156epG"
      },
      "source": [
        "df = pd.read_csv('https://raw.githubusercontent.com/Kazantsev-Alexey/ML_DS/main/kaggledata.csv', index_col='id')"
      ],
      "execution_count": 2,
      "outputs": []
    },
    {
      "cell_type": "code",
      "metadata": {
        "colab": {
          "base_uri": "https://localhost:8080/",
          "height": 223
        },
        "id": "RewUOqgz9Pij",
        "outputId": "1652cf44-5401-4e29-c3a2-3d475bb7b853"
      },
      "source": [
        "df.head()"
      ],
      "execution_count": 3,
      "outputs": [
        {
          "output_type": "execute_result",
          "data": {
            "text/html": [
              "<div>\n",
              "<style scoped>\n",
              "    .dataframe tbody tr th:only-of-type {\n",
              "        vertical-align: middle;\n",
              "    }\n",
              "\n",
              "    .dataframe tbody tr th {\n",
              "        vertical-align: top;\n",
              "    }\n",
              "\n",
              "    .dataframe thead th {\n",
              "        text-align: right;\n",
              "    }\n",
              "</style>\n",
              "<table border=\"1\" class=\"dataframe\">\n",
              "  <thead>\n",
              "    <tr style=\"text-align: right;\">\n",
              "      <th></th>\n",
              "      <th>DGN</th>\n",
              "      <th>PRE4</th>\n",
              "      <th>PRE5</th>\n",
              "      <th>PRE6</th>\n",
              "      <th>PRE7</th>\n",
              "      <th>PRE8</th>\n",
              "      <th>PRE9</th>\n",
              "      <th>PRE10</th>\n",
              "      <th>PRE11</th>\n",
              "      <th>PRE14</th>\n",
              "      <th>PRE17</th>\n",
              "      <th>PRE19</th>\n",
              "      <th>PRE25</th>\n",
              "      <th>PRE30</th>\n",
              "      <th>PRE32</th>\n",
              "      <th>AGE</th>\n",
              "      <th>Risk1Yr</th>\n",
              "    </tr>\n",
              "    <tr>\n",
              "      <th>id</th>\n",
              "      <th></th>\n",
              "      <th></th>\n",
              "      <th></th>\n",
              "      <th></th>\n",
              "      <th></th>\n",
              "      <th></th>\n",
              "      <th></th>\n",
              "      <th></th>\n",
              "      <th></th>\n",
              "      <th></th>\n",
              "      <th></th>\n",
              "      <th></th>\n",
              "      <th></th>\n",
              "      <th></th>\n",
              "      <th></th>\n",
              "      <th></th>\n",
              "      <th></th>\n",
              "    </tr>\n",
              "  </thead>\n",
              "  <tbody>\n",
              "    <tr>\n",
              "      <th>1</th>\n",
              "      <td>DGN2</td>\n",
              "      <td>2.88</td>\n",
              "      <td>2.16</td>\n",
              "      <td>PRZ1</td>\n",
              "      <td>F</td>\n",
              "      <td>F</td>\n",
              "      <td>F</td>\n",
              "      <td>T</td>\n",
              "      <td>T</td>\n",
              "      <td>OC14</td>\n",
              "      <td>F</td>\n",
              "      <td>F</td>\n",
              "      <td>F</td>\n",
              "      <td>T</td>\n",
              "      <td>F</td>\n",
              "      <td>60</td>\n",
              "      <td>F</td>\n",
              "    </tr>\n",
              "    <tr>\n",
              "      <th>2</th>\n",
              "      <td>DGN3</td>\n",
              "      <td>3.40</td>\n",
              "      <td>1.88</td>\n",
              "      <td>PRZ0</td>\n",
              "      <td>F</td>\n",
              "      <td>F</td>\n",
              "      <td>F</td>\n",
              "      <td>F</td>\n",
              "      <td>F</td>\n",
              "      <td>OC12</td>\n",
              "      <td>F</td>\n",
              "      <td>F</td>\n",
              "      <td>F</td>\n",
              "      <td>T</td>\n",
              "      <td>F</td>\n",
              "      <td>51</td>\n",
              "      <td>F</td>\n",
              "    </tr>\n",
              "    <tr>\n",
              "      <th>3</th>\n",
              "      <td>DGN3</td>\n",
              "      <td>2.76</td>\n",
              "      <td>2.08</td>\n",
              "      <td>PRZ1</td>\n",
              "      <td>F</td>\n",
              "      <td>F</td>\n",
              "      <td>F</td>\n",
              "      <td>T</td>\n",
              "      <td>F</td>\n",
              "      <td>OC11</td>\n",
              "      <td>F</td>\n",
              "      <td>F</td>\n",
              "      <td>F</td>\n",
              "      <td>T</td>\n",
              "      <td>F</td>\n",
              "      <td>59</td>\n",
              "      <td>F</td>\n",
              "    </tr>\n",
              "    <tr>\n",
              "      <th>4</th>\n",
              "      <td>DGN3</td>\n",
              "      <td>3.68</td>\n",
              "      <td>3.04</td>\n",
              "      <td>PRZ0</td>\n",
              "      <td>F</td>\n",
              "      <td>F</td>\n",
              "      <td>F</td>\n",
              "      <td>F</td>\n",
              "      <td>F</td>\n",
              "      <td>OC11</td>\n",
              "      <td>F</td>\n",
              "      <td>F</td>\n",
              "      <td>F</td>\n",
              "      <td>F</td>\n",
              "      <td>F</td>\n",
              "      <td>54</td>\n",
              "      <td>F</td>\n",
              "    </tr>\n",
              "    <tr>\n",
              "      <th>5</th>\n",
              "      <td>DGN3</td>\n",
              "      <td>2.44</td>\n",
              "      <td>0.96</td>\n",
              "      <td>PRZ2</td>\n",
              "      <td>F</td>\n",
              "      <td>T</td>\n",
              "      <td>F</td>\n",
              "      <td>T</td>\n",
              "      <td>T</td>\n",
              "      <td>OC11</td>\n",
              "      <td>F</td>\n",
              "      <td>F</td>\n",
              "      <td>F</td>\n",
              "      <td>T</td>\n",
              "      <td>F</td>\n",
              "      <td>73</td>\n",
              "      <td>T</td>\n",
              "    </tr>\n",
              "  </tbody>\n",
              "</table>\n",
              "</div>"
            ],
            "text/plain": [
              "     DGN  PRE4  PRE5  PRE6 PRE7 PRE8  ... PRE19 PRE25 PRE30 PRE32 AGE Risk1Yr\n",
              "id                                    ...                                    \n",
              "1   DGN2  2.88  2.16  PRZ1    F    F  ...     F     F     T     F  60       F\n",
              "2   DGN3  3.40  1.88  PRZ0    F    F  ...     F     F     T     F  51       F\n",
              "3   DGN3  2.76  2.08  PRZ1    F    F  ...     F     F     T     F  59       F\n",
              "4   DGN3  3.68  3.04  PRZ0    F    F  ...     F     F     F     F  54       F\n",
              "5   DGN3  2.44  0.96  PRZ2    F    T  ...     F     F     T     F  73       T\n",
              "\n",
              "[5 rows x 17 columns]"
            ]
          },
          "metadata": {
            "tags": []
          },
          "execution_count": 3
        }
      ]
    },
    {
      "cell_type": "code",
      "metadata": {
        "colab": {
          "base_uri": "https://localhost:8080/",
          "height": 282
        },
        "id": "1_tsXl1n-4e_",
        "outputId": "9a7cd860-d4a5-43c7-990f-3a038a9379a9"
      },
      "source": [
        "df.describe()"
      ],
      "execution_count": 4,
      "outputs": [
        {
          "output_type": "execute_result",
          "data": {
            "text/html": [
              "<div>\n",
              "<style scoped>\n",
              "    .dataframe tbody tr th:only-of-type {\n",
              "        vertical-align: middle;\n",
              "    }\n",
              "\n",
              "    .dataframe tbody tr th {\n",
              "        vertical-align: top;\n",
              "    }\n",
              "\n",
              "    .dataframe thead th {\n",
              "        text-align: right;\n",
              "    }\n",
              "</style>\n",
              "<table border=\"1\" class=\"dataframe\">\n",
              "  <thead>\n",
              "    <tr style=\"text-align: right;\">\n",
              "      <th></th>\n",
              "      <th>PRE4</th>\n",
              "      <th>PRE5</th>\n",
              "      <th>AGE</th>\n",
              "    </tr>\n",
              "  </thead>\n",
              "  <tbody>\n",
              "    <tr>\n",
              "      <th>count</th>\n",
              "      <td>470.000000</td>\n",
              "      <td>470.000000</td>\n",
              "      <td>470.000000</td>\n",
              "    </tr>\n",
              "    <tr>\n",
              "      <th>mean</th>\n",
              "      <td>3.281638</td>\n",
              "      <td>4.568702</td>\n",
              "      <td>62.534043</td>\n",
              "    </tr>\n",
              "    <tr>\n",
              "      <th>std</th>\n",
              "      <td>0.871395</td>\n",
              "      <td>11.767857</td>\n",
              "      <td>8.706902</td>\n",
              "    </tr>\n",
              "    <tr>\n",
              "      <th>min</th>\n",
              "      <td>1.440000</td>\n",
              "      <td>0.960000</td>\n",
              "      <td>21.000000</td>\n",
              "    </tr>\n",
              "    <tr>\n",
              "      <th>25%</th>\n",
              "      <td>2.600000</td>\n",
              "      <td>1.960000</td>\n",
              "      <td>57.000000</td>\n",
              "    </tr>\n",
              "    <tr>\n",
              "      <th>50%</th>\n",
              "      <td>3.160000</td>\n",
              "      <td>2.400000</td>\n",
              "      <td>62.000000</td>\n",
              "    </tr>\n",
              "    <tr>\n",
              "      <th>75%</th>\n",
              "      <td>3.807500</td>\n",
              "      <td>3.080000</td>\n",
              "      <td>69.000000</td>\n",
              "    </tr>\n",
              "    <tr>\n",
              "      <th>max</th>\n",
              "      <td>6.300000</td>\n",
              "      <td>86.300000</td>\n",
              "      <td>87.000000</td>\n",
              "    </tr>\n",
              "  </tbody>\n",
              "</table>\n",
              "</div>"
            ],
            "text/plain": [
              "             PRE4        PRE5         AGE\n",
              "count  470.000000  470.000000  470.000000\n",
              "mean     3.281638    4.568702   62.534043\n",
              "std      0.871395   11.767857    8.706902\n",
              "min      1.440000    0.960000   21.000000\n",
              "25%      2.600000    1.960000   57.000000\n",
              "50%      3.160000    2.400000   62.000000\n",
              "75%      3.807500    3.080000   69.000000\n",
              "max      6.300000   86.300000   87.000000"
            ]
          },
          "metadata": {
            "tags": []
          },
          "execution_count": 4
        }
      ]
    },
    {
      "cell_type": "code",
      "metadata": {
        "colab": {
          "base_uri": "https://localhost:8080/"
        },
        "id": "rxLDSXI4G90j",
        "outputId": "916169c4-90de-47a1-cfb7-83369bef98ad"
      },
      "source": [
        "df.info()"
      ],
      "execution_count": 5,
      "outputs": [
        {
          "output_type": "stream",
          "text": [
            "<class 'pandas.core.frame.DataFrame'>\n",
            "Int64Index: 470 entries, 1 to 470\n",
            "Data columns (total 17 columns):\n",
            " #   Column   Non-Null Count  Dtype  \n",
            "---  ------   --------------  -----  \n",
            " 0   DGN      470 non-null    object \n",
            " 1   PRE4     470 non-null    float64\n",
            " 2   PRE5     470 non-null    float64\n",
            " 3   PRE6     470 non-null    object \n",
            " 4   PRE7     470 non-null    object \n",
            " 5   PRE8     470 non-null    object \n",
            " 6   PRE9     470 non-null    object \n",
            " 7   PRE10    470 non-null    object \n",
            " 8   PRE11    470 non-null    object \n",
            " 9   PRE14    470 non-null    object \n",
            " 10  PRE17    470 non-null    object \n",
            " 11  PRE19    470 non-null    object \n",
            " 12  PRE25    470 non-null    object \n",
            " 13  PRE30    470 non-null    object \n",
            " 14  PRE32    470 non-null    object \n",
            " 15  AGE      470 non-null    int64  \n",
            " 16  Risk1Yr  470 non-null    object \n",
            "dtypes: float64(2), int64(1), object(14)\n",
            "memory usage: 66.1+ KB\n"
          ],
          "name": "stdout"
        }
      ]
    },
    {
      "cell_type": "code",
      "metadata": {
        "colab": {
          "base_uri": "https://localhost:8080/",
          "height": 281
        },
        "id": "PX7L13KDHPMB",
        "outputId": "7e7f3621-d965-4f0c-e9e4-7a5dea08bdfa"
      },
      "source": [
        "false = (df['Risk1Yr']==\"F\").sum()\r\n",
        "true = (df['Risk1Yr']=='T').sum()\r\n",
        "x = ['Выжившие', 'умершие']\r\n",
        "y = [false, true]\r\n",
        "fig, ax = plt.subplots()\r\n",
        "ax.bar(x, y, color=('cornflowerblue', 'sandybrown' ))\r\n",
        "plt.title('Соотношение смерть/выживание')\r\n",
        "plt.show()\r\n"
      ],
      "execution_count": 6,
      "outputs": [
        {
          "output_type": "display_data",
          "data": {
            "image/png": "[encoded data removed]",
            "text/plain": [
              "<Figure size 432x288 with 1 Axes>"
            ]
          },
          "metadata": {
            "tags": [],
            "needs_background": "light"
          }
        }
      ]
    },
    {
      "cell_type": "code",
      "metadata": {
        "id": "OxZWYBjCeeXE"
      },
      "source": [
        "def clearing(x):\r\n",
        "  if x > 6:\r\n",
        "    del x\r\n",
        "  else:\r\n",
        "    return x\r\n",
        "df['PRE5']= df['PRE5'].apply(lambda x: clearing(x))\r\n",
        "\r\n",
        "df=df.dropna()\r\n",
        "#PRE5 еще пригодится, а вот остальные столбцы очистить так не получится"
      ],
      "execution_count": 9,
      "outputs": []
    },
    {
      "cell_type": "code",
      "metadata": {
        "id": "SvQ49T5iIZaa"
      },
      "source": [
        "y = []   # type: List[int] \r\n",
        "for i in (df['Risk1Yr']):\r\n",
        "  if i == 'F':\r\n",
        "   y.append(0)\r\n",
        "  else:\r\n",
        "    y.append(1)\r\n",
        "y = np.array(y)"
      ],
      "execution_count": 10,
      "outputs": []
    },
    {
      "cell_type": "code",
      "metadata": {
        "colab": {
          "base_uri": "https://localhost:8080/",
          "height": 223
        },
        "id": "HCaTisn0KdgK",
        "outputId": "b4e8fa08-7e3a-4c77-da22-ef05d9ce25a5"
      },
      "source": [
        "from sklearn import preprocessing as p\r\n",
        "\r\n",
        "def encoder(df):\r\n",
        "    df_copy = df.copy() \r\n",
        "    enc_dict = {}\r\n",
        "    for i in df_copy.columns:\r\n",
        "        if df_copy.dtypes[i] == np.object:\r\n",
        "            enc_dict[i] = p.LabelEncoder()\r\n",
        "            df_copy[i] = enc_dict[i].fit_transform(df_copy[i]) \r\n",
        "    return df_copy, enc_dict\r\n",
        "\r\n",
        "coded_df, encoders = encoder(df) \r\n",
        "coded_df.head() "
      ],
      "execution_count": 11,
      "outputs": [
        {
          "output_type": "execute_result",
          "data": {
            "text/html": [
              "<div>\n",
              "<style scoped>\n",
              "    .dataframe tbody tr th:only-of-type {\n",
              "        vertical-align: middle;\n",
              "    }\n",
              "\n",
              "    .dataframe tbody tr th {\n",
              "        vertical-align: top;\n",
              "    }\n",
              "\n",
              "    .dataframe thead th {\n",
              "        text-align: right;\n",
              "    }\n",
              "</style>\n",
              "<table border=\"1\" class=\"dataframe\">\n",
              "  <thead>\n",
              "    <tr style=\"text-align: right;\">\n",
              "      <th></th>\n",
              "      <th>DGN</th>\n",
              "      <th>PRE4</th>\n",
              "      <th>PRE5</th>\n",
              "      <th>PRE6</th>\n",
              "      <th>PRE7</th>\n",
              "      <th>PRE8</th>\n",
              "      <th>PRE9</th>\n",
              "      <th>PRE10</th>\n",
              "      <th>PRE11</th>\n",
              "      <th>PRE14</th>\n",
              "      <th>PRE17</th>\n",
              "      <th>PRE19</th>\n",
              "      <th>PRE25</th>\n",
              "      <th>PRE30</th>\n",
              "      <th>PRE32</th>\n",
              "      <th>AGE</th>\n",
              "      <th>Risk1Yr</th>\n",
              "    </tr>\n",
              "    <tr>\n",
              "      <th>id</th>\n",
              "      <th></th>\n",
              "      <th></th>\n",
              "      <th></th>\n",
              "      <th></th>\n",
              "      <th></th>\n",
              "      <th></th>\n",
              "      <th></th>\n",
              "      <th></th>\n",
              "      <th></th>\n",
              "      <th></th>\n",
              "      <th></th>\n",
              "      <th></th>\n",
              "      <th></th>\n",
              "      <th></th>\n",
              "      <th></th>\n",
              "      <th></th>\n",
              "      <th></th>\n",
              "    </tr>\n",
              "  </thead>\n",
              "  <tbody>\n",
              "    <tr>\n",
              "      <th>1</th>\n",
              "      <td>1</td>\n",
              "      <td>2.88</td>\n",
              "      <td>2.16</td>\n",
              "      <td>1</td>\n",
              "      <td>0</td>\n",
              "      <td>0</td>\n",
              "      <td>0</td>\n",
              "      <td>1</td>\n",
              "      <td>1</td>\n",
              "      <td>3</td>\n",
              "      <td>0</td>\n",
              "      <td>0</td>\n",
              "      <td>0</td>\n",
              "      <td>1</td>\n",
              "      <td>0</td>\n",
              "      <td>60</td>\n",
              "      <td>0</td>\n",
              "    </tr>\n",
              "    <tr>\n",
              "      <th>2</th>\n",
              "      <td>2</td>\n",
              "      <td>3.40</td>\n",
              "      <td>1.88</td>\n",
              "      <td>0</td>\n",
              "      <td>0</td>\n",
              "      <td>0</td>\n",
              "      <td>0</td>\n",
              "      <td>0</td>\n",
              "      <td>0</td>\n",
              "      <td>1</td>\n",
              "      <td>0</td>\n",
              "      <td>0</td>\n",
              "      <td>0</td>\n",
              "      <td>1</td>\n",
              "      <td>0</td>\n",
              "      <td>51</td>\n",
              "      <td>0</td>\n",
              "    </tr>\n",
              "    <tr>\n",
              "      <th>3</th>\n",
              "      <td>2</td>\n",
              "      <td>2.76</td>\n",
              "      <td>2.08</td>\n",
              "      <td>1</td>\n",
              "      <td>0</td>\n",
              "      <td>0</td>\n",
              "      <td>0</td>\n",
              "      <td>1</td>\n",
              "      <td>0</td>\n",
              "      <td>0</td>\n",
              "      <td>0</td>\n",
              "      <td>0</td>\n",
              "      <td>0</td>\n",
              "      <td>1</td>\n",
              "      <td>0</td>\n",
              "      <td>59</td>\n",
              "      <td>0</td>\n",
              "    </tr>\n",
              "    <tr>\n",
              "      <th>4</th>\n",
              "      <td>2</td>\n",
              "      <td>3.68</td>\n",
              "      <td>3.04</td>\n",
              "      <td>0</td>\n",
              "      <td>0</td>\n",
              "      <td>0</td>\n",
              "      <td>0</td>\n",
              "      <td>0</td>\n",
              "      <td>0</td>\n",
              "      <td>0</td>\n",
              "      <td>0</td>\n",
              "      <td>0</td>\n",
              "      <td>0</td>\n",
              "      <td>0</td>\n",
              "      <td>0</td>\n",
              "      <td>54</td>\n",
              "      <td>0</td>\n",
              "    </tr>\n",
              "    <tr>\n",
              "      <th>5</th>\n",
              "      <td>2</td>\n",
              "      <td>2.44</td>\n",
              "      <td>0.96</td>\n",
              "      <td>2</td>\n",
              "      <td>0</td>\n",
              "      <td>1</td>\n",
              "      <td>0</td>\n",
              "      <td>1</td>\n",
              "      <td>1</td>\n",
              "      <td>0</td>\n",
              "      <td>0</td>\n",
              "      <td>0</td>\n",
              "      <td>0</td>\n",
              "      <td>1</td>\n",
              "      <td>0</td>\n",
              "      <td>73</td>\n",
              "      <td>1</td>\n",
              "    </tr>\n",
              "  </tbody>\n",
              "</table>\n",
              "</div>"
            ],
            "text/plain": [
              "    DGN  PRE4  PRE5  PRE6  PRE7  PRE8  ...  PRE19  PRE25  PRE30  PRE32  AGE  Risk1Yr\n",
              "id                                     ...                                          \n",
              "1     1  2.88  2.16     1     0     0  ...      0      0      1      0   60        0\n",
              "2     2  3.40  1.88     0     0     0  ...      0      0      1      0   51        0\n",
              "3     2  2.76  2.08     1     0     0  ...      0      0      1      0   59        0\n",
              "4     2  3.68  3.04     0     0     0  ...      0      0      0      0   54        0\n",
              "5     2  2.44  0.96     2     0     1  ...      0      0      1      0   73        1\n",
              "\n",
              "[5 rows x 17 columns]"
            ]
          },
          "metadata": {
            "tags": []
          },
          "execution_count": 11
        }
      ]
    },
    {
      "cell_type": "code",
      "metadata": {
        "colab": {
          "base_uri": "https://localhost:8080/",
          "height": 980
        },
        "id": "BGeJSXkORVZW",
        "outputId": "21b15695-7cfb-4a28-c73d-d7afbb7fcd22"
      },
      "source": [
        "coded_df.hist(figsize=(10, 10), bins=40)"
      ],
      "execution_count": 12,
      "outputs": [
        {
          "output_type": "execute_result",
          "data": {
            "text/plain": [
              "array([[<matplotlib.axes._subplots.AxesSubplot object at 0x7f95a5f5d4a8>,\n",
              "        <matplotlib.axes._subplots.AxesSubplot object at 0x7f959590a518>,\n",
              "        <matplotlib.axes._subplots.AxesSubplot object at 0x7f95958bf780>,\n",
              "        <matplotlib.axes._subplots.AxesSubplot object at 0x7f95958739e8>],\n",
              "       [<matplotlib.axes._subplots.AxesSubplot object at 0x7f9595823c50>,\n",
              "        <matplotlib.axes._subplots.AxesSubplot object at 0x7f95957daeb8>,\n",
              "        <matplotlib.axes._subplots.AxesSubplot object at 0x7f9595799160>,\n",
              "        <matplotlib.axes._subplots.AxesSubplot object at 0x7f95957cf390>],\n",
              "       [<matplotlib.axes._subplots.AxesSubplot object at 0x7f95957cf400>,\n",
              "        <matplotlib.axes._subplots.AxesSubplot object at 0x7f9595735898>,\n",
              "        <matplotlib.axes._subplots.AxesSubplot object at 0x7f95956eab00>,\n",
              "        <matplotlib.axes._subplots.AxesSubplot object at 0x7f959569dd68>],\n",
              "       [<matplotlib.axes._subplots.AxesSubplot object at 0x7f9595654fd0>,\n",
              "        <matplotlib.axes._subplots.AxesSubplot object at 0x7f9595612278>,\n",
              "        <matplotlib.axes._subplots.AxesSubplot object at 0x7f95956474e0>,\n",
              "        <matplotlib.axes._subplots.AxesSubplot object at 0x7f95955f9748>],\n",
              "       [<matplotlib.axes._subplots.AxesSubplot object at 0x7f95955b09b0>,\n",
              "        <matplotlib.axes._subplots.AxesSubplot object at 0x7f9595561c18>,\n",
              "        <matplotlib.axes._subplots.AxesSubplot object at 0x7f9595517e80>,\n",
              "        <matplotlib.axes._subplots.AxesSubplot object at 0x7f95954d8128>]],\n",
              "      dtype=object)"
            ]
          },
          "metadata": {
            "tags": []
          },
          "execution_count": 12
        },
        {
          "output_type": "display_data",
          "data": {
            "image/png": "[encoded data removed]",
            "text/plain": [
              "<Figure size 720x720 with 20 Axes>"
            ]
          },
          "metadata": {
            "tags": [],
            "needs_background": "light"
          }
        }
      ]
    },
    {
      "cell_type": "code",
      "metadata": {
        "colab": {
          "base_uri": "https://localhost:8080/",
          "height": 690
        },
        "id": "Y1BDSAeML2oe",
        "outputId": "ec96a3a6-7bbc-4fa2-bad0-7e08397dc3f5"
      },
      "source": [
        "import seaborn as sns \r\n",
        "plt.figure(figsize=(10,10), dpi=80)\r\n",
        "heatmap = sns.heatmap(coded_df.corr(), annot=False)"
      ],
      "execution_count": 13,
      "outputs": [
        {
          "output_type": "display_data",
          "data": {
            "image/png": "[encoded data removed]",
            "text/plain": [
              "<Figure size 800x800 with 2 Axes>"
            ]
          },
          "metadata": {
            "tags": [],
            "needs_background": "light"
          }
        }
      ]
    },
    {
      "cell_type": "code",
      "metadata": {
        "id": "7S9aOvK16sx6"
      },
      "source": [
        "del coded_df['Risk1Yr']"
      ],
      "execution_count": 14,
      "outputs": []
    },
    {
      "cell_type": "markdown",
      "metadata": {
        "id": "AL32E-e0xjRK"
      },
      "source": [
        "При обучении модели некоторые столбцы за счет неравномерного распределения могут создавать ложную корреляцию и снижают точность выборки. Это столбцы использоваться в обучении не будут.\r\n",
        "$$$$Учитывая, что в обычной жизни данные все таки не аугментированные, мне кажется  и акцент при проверке стоит делать именно на них :-) \r\n",
        " "
      ]
    },
    {
      "cell_type": "code",
      "metadata": {
        "id": "UsxsZKzB64cH"
      },
      "source": [
        "X_real = coded_df[['AGE', 'PRE4', 'PRE5', 'PRE6', 'DGN', 'PRE14', 'PRE8', 'PRE7']]\r\n",
        "X = np.array(coded_df)"
      ],
      "execution_count": 15,
      "outputs": []
    },
    {
      "cell_type": "code",
      "metadata": {
        "id": "idysz3Yp900_"
      },
      "source": [
        "from sklearn.preprocessing import StandardScaler\r\n",
        "\r\n",
        "scaler_1 = StandardScaler().fit(X_real)\r\n",
        "X2= scaler_1.transform(X_real)"
      ],
      "execution_count": 16,
      "outputs": []
    },
    {
      "cell_type": "code",
      "metadata": {
        "colab": {
          "base_uri": "https://localhost:8080/"
        },
        "id": "dut6sA8iR7U2",
        "outputId": "4a732e99-cd88-4f21-c67d-cc570932ecb7"
      },
      "source": [
        "from imblearn.over_sampling import ADASYN\r\n",
        "\r\n",
        "X_2, y_2 = ADASYN(sampling_strategy=1, n_neighbors=5,  random_state=0).fit_resample(np.array(X2), np.array(y))"
      ],
      "execution_count": 17,
      "outputs": [
        {
          "output_type": "stream",
          "text": [
            "/usr/local/lib/python3.6/dist-packages/sklearn/externals/six.py:31: FutureWarning: The module is deprecated in version 0.21 and will be removed in version 0.23 since we've dropped support for Python 2.7. Please rely on the official version of six (https://pypi.org/project/six/).\n",
            "  \"(https://pypi.org/project/six/).\", FutureWarning)\n",
            "/usr/local/lib/python3.6/dist-packages/sklearn/utils/deprecation.py:144: FutureWarning: The sklearn.neighbors.base module is  deprecated in version 0.22 and will be removed in version 0.24. The corresponding classes / functions should instead be imported from sklearn.neighbors. Anything that cannot be imported from sklearn.neighbors is now part of the private API.\n",
            "  warnings.warn(message, FutureWarning)\n",
            "/usr/local/lib/python3.6/dist-packages/sklearn/utils/deprecation.py:87: FutureWarning: Function safe_indexing is deprecated; safe_indexing is deprecated in version 0.22 and will be removed in version 0.24.\n",
            "  warnings.warn(msg, category=FutureWarning)\n"
          ],
          "name": "stderr"
        }
      ]
    },
    {
      "cell_type": "code",
      "metadata": {
        "id": "-HCk_pRWAIra"
      },
      "source": [
        "from sklearn.model_selection import train_test_split\r\n",
        "\r\n",
        "X_train_aug, X_test_aug, y_train_aug, y_test_aug = train_test_split(X_2, y_2, test_size = 0.15, random_state = 0)\r\n",
        "#пожалуй, проверять стоит на тех реальных данных, с которыми модель не знакома\r\n",
        "X_train_model2, X_test_model2, y_train_model2, y_test_model2 = train_test_split(X2, y, test_size = 0.15, random_state = 0)\r\n"
      ],
      "execution_count": 18,
      "outputs": []
    },
    {
      "cell_type": "code",
      "metadata": {
        "id": "ACEMDmax8P02"
      },
      "source": [
        "from sklearn.model_selection import GridSearchCV\r\n",
        "from sklearn import metrics\r\n",
        "from sklearn.model_selection import train_test_split\r\n",
        "from sklearn.neighbors import KNeighborsClassifier\r\n",
        "from sklearn.metrics import roc_auc_score\r\n"
      ],
      "execution_count": 19,
      "outputs": []
    },
    {
      "cell_type": "code",
      "metadata": {
        "colab": {
          "base_uri": "https://localhost:8080/"
        },
        "id": "bsP7wk1vzqaK",
        "outputId": "fc2fce57-4224-4460-b904-c1137e81f4a1"
      },
      "source": [
        "#поиск оптимальных гипперпараметров \r\n",
        "knn_real = KNeighborsClassifier(weights = 'distance')\r\n",
        "grid = {'n_neighbors': np.array(np.linspace(1, 50, 100), dtype='int')}\r\n",
        "gs = GridSearchCV(knn_real, grid, cv=2 )\r\n",
        "gs.fit(X_train_aug, y_train_aug)\r\n",
        "param = gs.best_params_\r\n",
        "\r\n",
        "#модель\r\n",
        "knn_real = KNeighborsClassifier(n_neighbors=param['n_neighbors'])\r\n",
        "knn_real.fit(X_train_aug, y_train_aug)\r\n"
      ],
      "execution_count": 20,
      "outputs": [
        {
          "output_type": "execute_result",
          "data": {
            "text/plain": [
              "KNeighborsClassifier(algorithm='auto', leaf_size=30, metric='minkowski',\n",
              "                     metric_params=None, n_jobs=None, n_neighbors=1, p=2,\n",
              "                     weights='uniform')"
            ]
          },
          "metadata": {
            "tags": []
          },
          "execution_count": 20
        }
      ]
    },
    {
      "cell_type": "code",
      "metadata": {
        "colab": {
          "base_uri": "https://localhost:8080/"
        },
        "id": "HBoV1UUP8afw",
        "outputId": "00e5f345-4866-44ab-b099-05fcf26b96c9"
      },
      "source": [
        "print('Тест модели на аугментированных данных \\n', metrics.classification_report(y_test_aug, knn_real.predict(X_test_aug)))\r\n",
        "print('AUC ROC тест для knn_real:', roc_auc_score(y_test_aug, knn_real.predict(X_test_aug)))"
      ],
      "execution_count": 21,
      "outputs": [
        {
          "output_type": "stream",
          "text": [
            "Тест модели на аугментированных данных \n",
            "               precision    recall  f1-score   support\n",
            "\n",
            "           0       0.94      0.79      0.86        62\n",
            "           1       0.80      0.94      0.86        54\n",
            "\n",
            "    accuracy                           0.86       116\n",
            "   macro avg       0.87      0.87      0.86       116\n",
            "weighted avg       0.87      0.86      0.86       116\n",
            "\n",
            "AUC ROC тест для knn_real: 0.8673835125448028\n"
          ],
          "name": "stdout"
        }
      ]
    },
    {
      "cell_type": "code",
      "metadata": {
        "colab": {
          "base_uri": "https://localhost:8080/"
        },
        "id": "EivDX3f2EYQr",
        "outputId": "99a1e191-bfa4-40dc-e58c-3fc3f8e442a1"
      },
      "source": [
        "print(y_test_model2)\r\n",
        "print(knn_real.predict(X_test_model2))"
      ],
      "execution_count": 22,
      "outputs": [
        {
          "output_type": "stream",
          "text": [
            "[1 0 0 0 0 0 0 1 0 0 1 0 1 0 0 0 0 0 0 1 0 0 0 0 1 1 1 0 1 0 0 0 0 0 0 0 0\n",
            " 0 0 0 1 1 0 0 0 0 0 0 1 0 0 0 0 1 0 1 0 0 0 0 0 0 1 0 1 1 1 1 0]\n",
            "[1 0 0 0 0 0 0 1 0 0 1 0 1 0 0 0 0 0 0 1 0 0 0 0 1 1 1 0 1 0 0 0 0 0 0 0 0\n",
            " 0 0 0 1 1 0 0 0 0 0 0 1 0 0 0 0 1 0 1 0 0 0 0 0 0 1 0 1 1 1 1 0]\n"
          ],
          "name": "stdout"
        }
      ]
    },
    {
      "cell_type": "code",
      "metadata": {
        "colab": {
          "base_uri": "https://localhost:8080/"
        },
        "id": "zBYcl8IW2d7k",
        "outputId": "cccde35c-136b-465a-c3db-26c673d6ce7b"
      },
      "source": [
        "\r\n",
        "print('Тест модели на реальных данных \\n', metrics.classification_report(y_test_model2, knn_real.predict(X_test_model2)))\r\n",
        "print('AUC ROC тест для knn_real:', roc_auc_score(y_test_model2, knn_real.predict(X_test_model2)))"
      ],
      "execution_count": 23,
      "outputs": [
        {
          "output_type": "stream",
          "text": [
            "Тест модели на реальных данных \n",
            "               precision    recall  f1-score   support\n",
            "\n",
            "           0       1.00      1.00      1.00        50\n",
            "           1       1.00      1.00      1.00        19\n",
            "\n",
            "    accuracy                           1.00        69\n",
            "   macro avg       1.00      1.00      1.00        69\n",
            "weighted avg       1.00      1.00      1.00        69\n",
            "\n",
            "AUC ROC тест для knn_real: 1.0\n"
          ],
          "name": "stdout"
        }
      ]
    },
    {
      "cell_type": "code",
      "metadata": {
        "colab": {
          "base_uri": "https://localhost:8080/"
        },
        "id": "ZqaS8kDIABSJ",
        "outputId": "e733d77f-0371-4110-d8c7-4200375fa79d"
      },
      "source": [
        "#и на полной выборке\r\n",
        "print('Тест модели на реальных данных \\n', metrics.classification_report(y, knn_real.predict(X2)))\r\n",
        "print('AUC ROC тест для knn_real:', roc_auc_score(y, knn_real.predict(X2)))"
      ],
      "execution_count": 24,
      "outputs": [
        {
          "output_type": "stream",
          "text": [
            "Тест модели на реальных данных \n",
            "               precision    recall  f1-score   support\n",
            "\n",
            "           0       1.00      0.97      0.98       386\n",
            "           1       0.84      1.00      0.91        69\n",
            "\n",
            "    accuracy                           0.97       455\n",
            "   macro avg       0.92      0.98      0.95       455\n",
            "weighted avg       0.98      0.97      0.97       455\n",
            "\n",
            "AUC ROC тест для knn_real: 0.983160621761658\n"
          ],
          "name": "stdout"
        }
      ]
    },
    {
      "cell_type": "code",
      "metadata": {
        "id": "CSZ9LRIDy3yi",
        "colab": {
          "base_uri": "https://localhost:8080/"
        },
        "outputId": "8dbc690c-5d56-4e92-aed3-62f11adeddea"
      },
      "source": [
        "import warnings\r\n",
        "warnings.filterwarnings(\"ignore\")\r\n",
        "from sklearn.linear_model import LogisticRegression\r\n",
        "grid = {\"C\": np.arange(0, 3, 0.1),\r\n",
        "              \"penalty\":[\"l1\",\"l2\"],\r\n",
        "        'solver': ['newton-cg', 'lbfgs', 'liblinear', 'sag', 'saga']}\r\n",
        "\r\n",
        "log = LogisticRegression()\r\n",
        "\r\n",
        "gs = GridSearchCV(log, grid, cv=5,)\r\n",
        "gs.fit(X_train_aug, y_train_aug)\r\n",
        "log_param= gs.best_params_\r\n",
        "alg = LogisticRegression(C=log_param['C'], penalty=log_param['penalty'],\r\n",
        "                         solver=log_param['solver'])\r\n",
        "alg.fit(X_train_aug, y_train_aug)"
      ],
      "execution_count": 25,
      "outputs": [
        {
          "output_type": "execute_result",
          "data": {
            "text/plain": [
              "LogisticRegression(C=0.5, class_weight=None, dual=False, fit_intercept=True,\n",
              "                   intercept_scaling=1, l1_ratio=None, max_iter=100,\n",
              "                   multi_class='auto', n_jobs=None, penalty='l2',\n",
              "                   random_state=None, solver='newton-cg', tol=0.0001, verbose=0,\n",
              "                   warm_start=False)"
            ]
          },
          "metadata": {
            "tags": []
          },
          "execution_count": 25
        }
      ]
    },
    {
      "cell_type": "code",
      "metadata": {
        "colab": {
          "base_uri": "https://localhost:8080/"
        },
        "id": "x4hmAmECzorI",
        "outputId": "b94494a7-ed6d-4b42-ede1-a8c86b0c8be9"
      },
      "source": [
        "print('Тест модели на аугментированных данных \\n', metrics.classification_report(y_test_aug, alg.predict(X_test_aug)))\r\n",
        "print('AUC ROC тест для логистической регрессии:', roc_auc_score(y_test_aug, alg.predict(X_test_aug)))"
      ],
      "execution_count": 26,
      "outputs": [
        {
          "output_type": "stream",
          "text": [
            "Тест модели на аугментированных данных \n",
            "               precision    recall  f1-score   support\n",
            "\n",
            "           0       0.66      0.56      0.61        62\n",
            "           1       0.57      0.67      0.62        54\n",
            "\n",
            "    accuracy                           0.61       116\n",
            "   macro avg       0.62      0.62      0.61       116\n",
            "weighted avg       0.62      0.61      0.61       116\n",
            "\n",
            "AUC ROC тест для логистической регрессии: 0.6155913978494623\n"
          ],
          "name": "stdout"
        }
      ]
    },
    {
      "cell_type": "code",
      "metadata": {
        "colab": {
          "base_uri": "https://localhost:8080/"
        },
        "id": "rMKuGo1r0Fjv",
        "outputId": "4f5aeeb0-8978-44f1-e5cf-36cc3a0fdb6f"
      },
      "source": [
        "print('Тест модели на реальных данных \\n', metrics.classification_report(y_test_model2, alg.predict(X_test_model2)))\r\n",
        "print('AUC ROC тест для логистической регрессии:', roc_auc_score(y_test_model2, alg.predict(X_test_model2)))"
      ],
      "execution_count": 27,
      "outputs": [
        {
          "output_type": "stream",
          "text": [
            "Тест модели на реальных данных \n",
            "               precision    recall  f1-score   support\n",
            "\n",
            "           0       0.82      0.56      0.67        50\n",
            "           1       0.37      0.68      0.48        19\n",
            "\n",
            "    accuracy                           0.59        69\n",
            "   macro avg       0.60      0.62      0.57        69\n",
            "weighted avg       0.70      0.59      0.62        69\n",
            "\n",
            "AUC ROC тест для логистической регрессии: 0.6221052631578948\n"
          ],
          "name": "stdout"
        }
      ]
    },
    {
      "cell_type": "code",
      "metadata": {
        "colab": {
          "base_uri": "https://localhost:8080/"
        },
        "id": "GInHp0k_3fit",
        "outputId": "1feeb8bc-716c-4775-b694-92002ffda7e7"
      },
      "source": [
        "from sklearn.model_selection import RandomizedSearchCV\r\n",
        "from sklearn.svm import SVC\r\n",
        "clf = SVC()\r\n",
        "hyper_param = {\"C\": np.arange(0, 3, 0.0001),\r\n",
        "               'gamma':  np.arange(0, 3, 0.0001),\r\n",
        "               'kernel': ['rbf', 'linear', 'sigmoid'],\r\n",
        "               'class_weight':['balanced', None]}\r\n",
        "RCV = RandomizedSearchCV(clf, hyper_param, cv=5)\r\n",
        "\r\n",
        "RCV.fit(X_train_aug, y_train_aug)\r\n",
        "RCV_param= RCV.best_params_\r\n",
        "clf = SVC(C=RCV_param['C'], gamma=RCV_param['gamma'],\r\n",
        "          kernel=RCV_param['kernel'], \r\n",
        "          class_weight=RCV_param['class_weight'])\r\n",
        "\r\n",
        "clf.fit(X_train_aug, y_train_aug)\r\n",
        "RCV_param"
      ],
      "execution_count": 28,
      "outputs": [
        {
          "output_type": "execute_result",
          "data": {
            "text/plain": [
              "{'C': 2.1337, 'class_weight': 'balanced', 'gamma': 1.415, 'kernel': 'rbf'}"
            ]
          },
          "metadata": {
            "tags": []
          },
          "execution_count": 28
        }
      ]
    },
    {
      "cell_type": "code",
      "metadata": {
        "colab": {
          "base_uri": "https://localhost:8080/"
        },
        "id": "qL1rIb8l9MS8",
        "outputId": "c5778f52-5a45-4d94-d81a-18e958d5c4e4"
      },
      "source": [
        "clf.predict(X_test_aug)"
      ],
      "execution_count": 29,
      "outputs": [
        {
          "output_type": "execute_result",
          "data": {
            "text/plain": [
              "array([1, 0, 0, 0, 1, 1, 0, 0, 1, 0, 0, 0, 0, 1, 1, 1, 1, 0, 1, 0, 0, 0,\n",
              "       1, 0, 0, 1, 0, 1, 1, 1, 1, 1, 1, 0, 0, 1, 1, 1, 1, 1, 1, 0, 1, 1,\n",
              "       1, 0, 0, 1, 1, 1, 1, 0, 0, 0, 0, 0, 0, 0, 1, 0, 1, 0, 0, 1, 1, 0,\n",
              "       0, 1, 1, 0, 1, 1, 1, 1, 1, 0, 1, 0, 0, 1, 1, 1, 0, 1, 1, 1, 0, 1,\n",
              "       1, 1, 1, 1, 1, 0, 0, 0, 1, 0, 1, 1, 0, 0, 0, 1, 0, 0, 0, 0, 0, 0,\n",
              "       1, 0, 1, 1, 0, 1])"
            ]
          },
          "metadata": {
            "tags": []
          },
          "execution_count": 29
        }
      ]
    },
    {
      "cell_type": "code",
      "metadata": {
        "colab": {
          "base_uri": "https://localhost:8080/"
        },
        "id": "Gs5Q2bir8-S-",
        "outputId": "56e1e8ea-c1eb-4ffb-b96e-6613b27539a5"
      },
      "source": [
        "print('Тест модели на аугментированных данных \\n', metrics.classification_report(y_test_aug, clf.predict(X_test_aug)))\r\n",
        "print('AUC ROC тест для логистической регрессии:', roc_auc_score(y_test_aug, clf.predict(X_test_aug)))"
      ],
      "execution_count": 30,
      "outputs": [
        {
          "output_type": "stream",
          "text": [
            "Тест модели на аугментированных данных \n",
            "               precision    recall  f1-score   support\n",
            "\n",
            "           0       0.94      0.82      0.88        62\n",
            "           1       0.82      0.94      0.88        54\n",
            "\n",
            "    accuracy                           0.88       116\n",
            "   macro avg       0.88      0.88      0.88       116\n",
            "weighted avg       0.89      0.88      0.88       116\n",
            "\n",
            "AUC ROC тест для логистической регрессии: 0.8835125448028673\n"
          ],
          "name": "stdout"
        }
      ]
    },
    {
      "cell_type": "code",
      "metadata": {
        "colab": {
          "base_uri": "https://localhost:8080/"
        },
        "id": "gxEvsG5u9EL1",
        "outputId": "ea056257-db92-4b8e-e368-86f92b21f7ae"
      },
      "source": [
        "print('Тест модели на реальных данных \\n', metrics.classification_report(y_test_model2, clf.predict(X_test_model2)))\r\n",
        "print('AUC ROC тест для логистической регрессии:', roc_auc_score(y_test_model2, clf.predict(X_test_model2)))"
      ],
      "execution_count": 31,
      "outputs": [
        {
          "output_type": "stream",
          "text": [
            "Тест модели на реальных данных \n",
            "               precision    recall  f1-score   support\n",
            "\n",
            "           0       1.00      0.94      0.97        50\n",
            "           1       0.86      1.00      0.93        19\n",
            "\n",
            "    accuracy                           0.96        69\n",
            "   macro avg       0.93      0.97      0.95        69\n",
            "weighted avg       0.96      0.96      0.96        69\n",
            "\n",
            "AUC ROC тест для логистической регрессии: 0.97\n"
          ],
          "name": "stdout"
        }
      ]
    }
  ]
}
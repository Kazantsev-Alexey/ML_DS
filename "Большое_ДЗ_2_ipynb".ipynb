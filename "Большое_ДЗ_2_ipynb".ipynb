{
  "nbformat": 4,
  "nbformat_minor": 0,
  "metadata": {
    "colab": {
      "name": "\"Большое_ДЗ_2.ipynb\"",
      "provenance": [],
      "collapsed_sections": [],
      "include_colab_link": true
    },
    "kernelspec": {
      "name": "python3",
      "display_name": "Python 3"
    }
  },
  "cells": [
    {
      "cell_type": "markdown",
      "metadata": {
        "id": "view-in-github",
        "colab_type": "text"
      },
      "source": [
        "<a href=\"https://colab.research.google.com/github/Kazantsev-Alexey/ML_DS/blob/main/%22%D0%91%D0%BE%D0%BB%D1%8C%D1%88%D0%BE%D0%B5_%D0%94%D0%97_2_ipynb%22.ipynb\" target=\"_parent\"><img src=\"https://colab.research.google.com/assets/colab-badge.svg\" alt=\"Open In Colab\"/></a>"
      ]
    },
    {
      "cell_type": "markdown",
      "metadata": {
        "id": "PtRJ8Lka-cuI"
      },
      "source": [
        "<h2 style=\"text-align: center;\"><b>Большое домашнее задание 2. Участие в соревнованиях на Kaggle. Работа с нерепрезентативными данными.\n",
        "</b></h2>\n",
        "\n",
        "ДЗ в колабе: https://colab.research.google.com/drive/18Hi97eESCrXYht-7SIoj_19pwcZhl17Y?usp=sharing\n",
        "\n",
        "В этом домашнем задании нам нужно применить в реальном соревновании накопленные знания по машинному обучению и анализу данных!\n",
        "\n",
        "- Нужно будет провести предобработку [данных с Kaggle](https://www.kaggle.com/sid321axn/thoraric-surgery). Затем нужно будет предсказать колонку DGN (диагноз). Это задача классификации. \n",
        "- Описание датасета (что значит признаки): https://archive.ics.uci.edu/ml/datasets/Thoracic+Surgery+Data \n",
        "- Не забудьте провести анализ данных перед тем, как применять ML-модели! Вам нужно сначала понять, с чем Вы имеете дело, поискать зависимости в данных, понять природу этих зависимостей, и только после этого уже подбирать алгоритмы. Данные с подвохом! Внимательно смотрите на распределения признаков в каждом из классов!\n",
        "- В качестве основы можно использовать наработки с занятий. Необходимо попробовать сделать аугментацию данных, т.к. данных очень мало, для обучения содержательных моделей их не хватит.\n",
        "- Попробуйте kNN, логистическую регрессию, SVM. Поэкспериментируйте с добавлением композитных признаков (например, полиномиальных), выбором ядра (для SVM). Подберите гиперпараметры по кросс-валидации (GridSearchCV или RandomSearchCV, второй вариант предпочтительнее).  \n",
        "- Достичь идеального качества Вам не удастся, да и гнаться за этим не стоит. Гораздо важнее провести вдумчивый анализ и показать, что Вы разобрались в теме.\n",
        "\n",
        "**Правила:**\n",
        "\n",
        "- **Дедлайн один:** 29 января 23:59. Решения, отправленные позже, проверяться не будут, кроме случаев наличия уважительной причины.\n",
        "\n",
        "\n",
        "\n",
        "Решения, размещенные на каких-либо интернет-ресурсах, не принимаются.\n",
        " При написании кода придерживайтесь `pep8` и используйте `type hints`.\n",
        "\n",
        "**После жесткого дедлайна задания не принимаются. Так как дальше будет работа только над проектом**"
      ]
    },
    {
      "cell_type": "markdown",
      "metadata": {
        "id": "D8stSnU26k4m"
      },
      "source": [
        "# Анализ данных"
      ]
    },
    {
      "cell_type": "code",
      "metadata": {
        "id": "gfXnteaCG0Ag"
      },
      "source": [
        "import pandas as pd\r\n",
        "import numpy as np\r\n",
        "import matplotlib.pyplot as plt\r\n"
      ],
      "execution_count": 1,
      "outputs": []
    },
    {
      "cell_type": "code",
      "metadata": {
        "id": "3-J3BZ156epG"
      },
      "source": [
        "df = pd.read_csv('https://raw.githubusercontent.com/Kazantsev-Alexey/ML_DS/main/kaggledata.csv', index_col='id')"
      ],
      "execution_count": 2,
      "outputs": []
    },
    {
      "cell_type": "code",
      "metadata": {
        "colab": {
          "base_uri": "https://localhost:8080/",
          "height": 235
        },
        "id": "RewUOqgz9Pij",
        "outputId": "6e18ebb2-f3da-4f59-912a-7aa527059aed"
      },
      "source": [
        "df.head()"
      ],
      "execution_count": 3,
      "outputs": [
        {
          "output_type": "execute_result",
          "data": {
            "text/html": [
              "<div>\n",
              "<style scoped>\n",
              "    .dataframe tbody tr th:only-of-type {\n",
              "        vertical-align: middle;\n",
              "    }\n",
              "\n",
              "    .dataframe tbody tr th {\n",
              "        vertical-align: top;\n",
              "    }\n",
              "\n",
              "    .dataframe thead th {\n",
              "        text-align: right;\n",
              "    }\n",
              "</style>\n",
              "<table border=\"1\" class=\"dataframe\">\n",
              "  <thead>\n",
              "    <tr style=\"text-align: right;\">\n",
              "      <th></th>\n",
              "      <th>DGN</th>\n",
              "      <th>PRE4</th>\n",
              "      <th>PRE5</th>\n",
              "      <th>PRE6</th>\n",
              "      <th>PRE7</th>\n",
              "      <th>PRE8</th>\n",
              "      <th>PRE9</th>\n",
              "      <th>PRE10</th>\n",
              "      <th>PRE11</th>\n",
              "      <th>PRE14</th>\n",
              "      <th>PRE17</th>\n",
              "      <th>PRE19</th>\n",
              "      <th>PRE25</th>\n",
              "      <th>PRE30</th>\n",
              "      <th>PRE32</th>\n",
              "      <th>AGE</th>\n",
              "      <th>Risk1Yr</th>\n",
              "    </tr>\n",
              "    <tr>\n",
              "      <th>id</th>\n",
              "      <th></th>\n",
              "      <th></th>\n",
              "      <th></th>\n",
              "      <th></th>\n",
              "      <th></th>\n",
              "      <th></th>\n",
              "      <th></th>\n",
              "      <th></th>\n",
              "      <th></th>\n",
              "      <th></th>\n",
              "      <th></th>\n",
              "      <th></th>\n",
              "      <th></th>\n",
              "      <th></th>\n",
              "      <th></th>\n",
              "      <th></th>\n",
              "      <th></th>\n",
              "    </tr>\n",
              "  </thead>\n",
              "  <tbody>\n",
              "    <tr>\n",
              "      <th>1</th>\n",
              "      <td>DGN2</td>\n",
              "      <td>2.88</td>\n",
              "      <td>2.16</td>\n",
              "      <td>PRZ1</td>\n",
              "      <td>F</td>\n",
              "      <td>F</td>\n",
              "      <td>F</td>\n",
              "      <td>T</td>\n",
              "      <td>T</td>\n",
              "      <td>OC14</td>\n",
              "      <td>F</td>\n",
              "      <td>F</td>\n",
              "      <td>F</td>\n",
              "      <td>T</td>\n",
              "      <td>F</td>\n",
              "      <td>60</td>\n",
              "      <td>F</td>\n",
              "    </tr>\n",
              "    <tr>\n",
              "      <th>2</th>\n",
              "      <td>DGN3</td>\n",
              "      <td>3.40</td>\n",
              "      <td>1.88</td>\n",
              "      <td>PRZ0</td>\n",
              "      <td>F</td>\n",
              "      <td>F</td>\n",
              "      <td>F</td>\n",
              "      <td>F</td>\n",
              "      <td>F</td>\n",
              "      <td>OC12</td>\n",
              "      <td>F</td>\n",
              "      <td>F</td>\n",
              "      <td>F</td>\n",
              "      <td>T</td>\n",
              "      <td>F</td>\n",
              "      <td>51</td>\n",
              "      <td>F</td>\n",
              "    </tr>\n",
              "    <tr>\n",
              "      <th>3</th>\n",
              "      <td>DGN3</td>\n",
              "      <td>2.76</td>\n",
              "      <td>2.08</td>\n",
              "      <td>PRZ1</td>\n",
              "      <td>F</td>\n",
              "      <td>F</td>\n",
              "      <td>F</td>\n",
              "      <td>T</td>\n",
              "      <td>F</td>\n",
              "      <td>OC11</td>\n",
              "      <td>F</td>\n",
              "      <td>F</td>\n",
              "      <td>F</td>\n",
              "      <td>T</td>\n",
              "      <td>F</td>\n",
              "      <td>59</td>\n",
              "      <td>F</td>\n",
              "    </tr>\n",
              "    <tr>\n",
              "      <th>4</th>\n",
              "      <td>DGN3</td>\n",
              "      <td>3.68</td>\n",
              "      <td>3.04</td>\n",
              "      <td>PRZ0</td>\n",
              "      <td>F</td>\n",
              "      <td>F</td>\n",
              "      <td>F</td>\n",
              "      <td>F</td>\n",
              "      <td>F</td>\n",
              "      <td>OC11</td>\n",
              "      <td>F</td>\n",
              "      <td>F</td>\n",
              "      <td>F</td>\n",
              "      <td>F</td>\n",
              "      <td>F</td>\n",
              "      <td>54</td>\n",
              "      <td>F</td>\n",
              "    </tr>\n",
              "    <tr>\n",
              "      <th>5</th>\n",
              "      <td>DGN3</td>\n",
              "      <td>2.44</td>\n",
              "      <td>0.96</td>\n",
              "      <td>PRZ2</td>\n",
              "      <td>F</td>\n",
              "      <td>T</td>\n",
              "      <td>F</td>\n",
              "      <td>T</td>\n",
              "      <td>T</td>\n",
              "      <td>OC11</td>\n",
              "      <td>F</td>\n",
              "      <td>F</td>\n",
              "      <td>F</td>\n",
              "      <td>T</td>\n",
              "      <td>F</td>\n",
              "      <td>73</td>\n",
              "      <td>T</td>\n",
              "    </tr>\n",
              "  </tbody>\n",
              "</table>\n",
              "</div>"
            ],
            "text/plain": [
              "     DGN  PRE4  PRE5  PRE6 PRE7 PRE8  ... PRE19 PRE25 PRE30 PRE32 AGE Risk1Yr\n",
              "id                                    ...                                    \n",
              "1   DGN2  2.88  2.16  PRZ1    F    F  ...     F     F     T     F  60       F\n",
              "2   DGN3  3.40  1.88  PRZ0    F    F  ...     F     F     T     F  51       F\n",
              "3   DGN3  2.76  2.08  PRZ1    F    F  ...     F     F     T     F  59       F\n",
              "4   DGN3  3.68  3.04  PRZ0    F    F  ...     F     F     F     F  54       F\n",
              "5   DGN3  2.44  0.96  PRZ2    F    T  ...     F     F     T     F  73       T\n",
              "\n",
              "[5 rows x 17 columns]"
            ]
          },
          "metadata": {
            "tags": []
          },
          "execution_count": 3
        }
      ]
    },
    {
      "cell_type": "code",
      "metadata": {
        "colab": {
          "base_uri": "https://localhost:8080/",
          "height": 297
        },
        "id": "1_tsXl1n-4e_",
        "outputId": "41939844-b576-4d7a-98c5-3cf0aa6d977f"
      },
      "source": [
        "df.describe()"
      ],
      "execution_count": 4,
      "outputs": [
        {
          "output_type": "execute_result",
          "data": {
            "text/html": [
              "<div>\n",
              "<style scoped>\n",
              "    .dataframe tbody tr th:only-of-type {\n",
              "        vertical-align: middle;\n",
              "    }\n",
              "\n",
              "    .dataframe tbody tr th {\n",
              "        vertical-align: top;\n",
              "    }\n",
              "\n",
              "    .dataframe thead th {\n",
              "        text-align: right;\n",
              "    }\n",
              "</style>\n",
              "<table border=\"1\" class=\"dataframe\">\n",
              "  <thead>\n",
              "    <tr style=\"text-align: right;\">\n",
              "      <th></th>\n",
              "      <th>PRE4</th>\n",
              "      <th>PRE5</th>\n",
              "      <th>AGE</th>\n",
              "    </tr>\n",
              "  </thead>\n",
              "  <tbody>\n",
              "    <tr>\n",
              "      <th>count</th>\n",
              "      <td>470.000000</td>\n",
              "      <td>470.000000</td>\n",
              "      <td>470.000000</td>\n",
              "    </tr>\n",
              "    <tr>\n",
              "      <th>mean</th>\n",
              "      <td>3.281638</td>\n",
              "      <td>4.568702</td>\n",
              "      <td>62.534043</td>\n",
              "    </tr>\n",
              "    <tr>\n",
              "      <th>std</th>\n",
              "      <td>0.871395</td>\n",
              "      <td>11.767857</td>\n",
              "      <td>8.706902</td>\n",
              "    </tr>\n",
              "    <tr>\n",
              "      <th>min</th>\n",
              "      <td>1.440000</td>\n",
              "      <td>0.960000</td>\n",
              "      <td>21.000000</td>\n",
              "    </tr>\n",
              "    <tr>\n",
              "      <th>25%</th>\n",
              "      <td>2.600000</td>\n",
              "      <td>1.960000</td>\n",
              "      <td>57.000000</td>\n",
              "    </tr>\n",
              "    <tr>\n",
              "      <th>50%</th>\n",
              "      <td>3.160000</td>\n",
              "      <td>2.400000</td>\n",
              "      <td>62.000000</td>\n",
              "    </tr>\n",
              "    <tr>\n",
              "      <th>75%</th>\n",
              "      <td>3.807500</td>\n",
              "      <td>3.080000</td>\n",
              "      <td>69.000000</td>\n",
              "    </tr>\n",
              "    <tr>\n",
              "      <th>max</th>\n",
              "      <td>6.300000</td>\n",
              "      <td>86.300000</td>\n",
              "      <td>87.000000</td>\n",
              "    </tr>\n",
              "  </tbody>\n",
              "</table>\n",
              "</div>"
            ],
            "text/plain": [
              "             PRE4        PRE5         AGE\n",
              "count  470.000000  470.000000  470.000000\n",
              "mean     3.281638    4.568702   62.534043\n",
              "std      0.871395   11.767857    8.706902\n",
              "min      1.440000    0.960000   21.000000\n",
              "25%      2.600000    1.960000   57.000000\n",
              "50%      3.160000    2.400000   62.000000\n",
              "75%      3.807500    3.080000   69.000000\n",
              "max      6.300000   86.300000   87.000000"
            ]
          },
          "metadata": {
            "tags": []
          },
          "execution_count": 4
        }
      ]
    },
    {
      "cell_type": "code",
      "metadata": {
        "colab": {
          "base_uri": "https://localhost:8080/"
        },
        "id": "rxLDSXI4G90j",
        "outputId": "aff20c85-ad41-4001-a791-00e5fde53ce1"
      },
      "source": [
        "df.info()"
      ],
      "execution_count": 5,
      "outputs": [
        {
          "output_type": "stream",
          "text": [
            "<class 'pandas.core.frame.DataFrame'>\n",
            "Int64Index: 470 entries, 1 to 470\n",
            "Data columns (total 17 columns):\n",
            " #   Column   Non-Null Count  Dtype  \n",
            "---  ------   --------------  -----  \n",
            " 0   DGN      470 non-null    object \n",
            " 1   PRE4     470 non-null    float64\n",
            " 2   PRE5     470 non-null    float64\n",
            " 3   PRE6     470 non-null    object \n",
            " 4   PRE7     470 non-null    object \n",
            " 5   PRE8     470 non-null    object \n",
            " 6   PRE9     470 non-null    object \n",
            " 7   PRE10    470 non-null    object \n",
            " 8   PRE11    470 non-null    object \n",
            " 9   PRE14    470 non-null    object \n",
            " 10  PRE17    470 non-null    object \n",
            " 11  PRE19    470 non-null    object \n",
            " 12  PRE25    470 non-null    object \n",
            " 13  PRE30    470 non-null    object \n",
            " 14  PRE32    470 non-null    object \n",
            " 15  AGE      470 non-null    int64  \n",
            " 16  Risk1Yr  470 non-null    object \n",
            "dtypes: float64(2), int64(1), object(14)\n",
            "memory usage: 66.1+ KB\n"
          ],
          "name": "stdout"
        }
      ]
    },
    {
      "cell_type": "code",
      "metadata": {
        "colab": {
          "base_uri": "https://localhost:8080/",
          "height": 281
        },
        "id": "PX7L13KDHPMB",
        "outputId": "2d37f9a3-c317-43e8-d65a-ca34f1108597"
      },
      "source": [
        "false = (df['Risk1Yr']==\"F\").sum()\r\n",
        "true = (df['Risk1Yr']=='T').sum()\r\n",
        "x = ['Выжившие', 'умершие']\r\n",
        "y = [false, true]\r\n",
        "fig, ax = plt.subplots()\r\n",
        "ax.bar(x, y, color=('cornflowerblue', 'sandybrown' ))\r\n",
        "plt.title('Соотношение смерть/выживание')\r\n",
        "plt.show()\r\n"
      ],
      "execution_count": 6,
      "outputs": [
        {
          "output_type": "display_data",
          "data": {
            "image/png": "[encoded data removed]",
            "text/plain": [
              "<Figure size 432x288 with 1 Axes>"
            ]
          },
          "metadata": {
            "tags": [],
            "needs_background": "light"
          }
        }
      ]
    },
    {
      "cell_type": "code",
      "metadata": {
        "id": "SvQ49T5iIZaa"
      },
      "source": [
        "y = []   # type: List[int] \r\n",
        "for i in (df['Risk1Yr']):\r\n",
        "  if i == 'F':\r\n",
        "   y.append(0)\r\n",
        "  else:\r\n",
        "    y.append(1)\r\n",
        "y = np.array(y)"
      ],
      "execution_count": 7,
      "outputs": []
    },
    {
      "cell_type": "code",
      "metadata": {
        "colab": {
          "base_uri": "https://localhost:8080/",
          "height": 235
        },
        "id": "HCaTisn0KdgK",
        "outputId": "eccc40a3-b4ca-40f4-8d0b-880fae56a69a"
      },
      "source": [
        "from sklearn import preprocessing as p\r\n",
        "\r\n",
        "def encoder(df):\r\n",
        "    df_copy = df.copy() \r\n",
        "    enc_dict = {}\r\n",
        "    for i in df_copy.columns:\r\n",
        "        if df_copy.dtypes[i] == np.object:\r\n",
        "            enc_dict[i] = p.LabelEncoder()\r\n",
        "            df_copy[i] = enc_dict[i].fit_transform(df_copy[i]) \r\n",
        "    return df_copy, enc_dict\r\n",
        "\r\n",
        "coded_df, encoders = encoder(df) \r\n",
        "coded_df.head() "
      ],
      "execution_count": 8,
      "outputs": [
        {
          "output_type": "execute_result",
          "data": {
            "text/html": [
              "<div>\n",
              "<style scoped>\n",
              "    .dataframe tbody tr th:only-of-type {\n",
              "        vertical-align: middle;\n",
              "    }\n",
              "\n",
              "    .dataframe tbody tr th {\n",
              "        vertical-align: top;\n",
              "    }\n",
              "\n",
              "    .dataframe thead th {\n",
              "        text-align: right;\n",
              "    }\n",
              "</style>\n",
              "<table border=\"1\" class=\"dataframe\">\n",
              "  <thead>\n",
              "    <tr style=\"text-align: right;\">\n",
              "      <th></th>\n",
              "      <th>DGN</th>\n",
              "      <th>PRE4</th>\n",
              "      <th>PRE5</th>\n",
              "      <th>PRE6</th>\n",
              "      <th>PRE7</th>\n",
              "      <th>PRE8</th>\n",
              "      <th>PRE9</th>\n",
              "      <th>PRE10</th>\n",
              "      <th>PRE11</th>\n",
              "      <th>PRE14</th>\n",
              "      <th>PRE17</th>\n",
              "      <th>PRE19</th>\n",
              "      <th>PRE25</th>\n",
              "      <th>PRE30</th>\n",
              "      <th>PRE32</th>\n",
              "      <th>AGE</th>\n",
              "      <th>Risk1Yr</th>\n",
              "    </tr>\n",
              "    <tr>\n",
              "      <th>id</th>\n",
              "      <th></th>\n",
              "      <th></th>\n",
              "      <th></th>\n",
              "      <th></th>\n",
              "      <th></th>\n",
              "      <th></th>\n",
              "      <th></th>\n",
              "      <th></th>\n",
              "      <th></th>\n",
              "      <th></th>\n",
              "      <th></th>\n",
              "      <th></th>\n",
              "      <th></th>\n",
              "      <th></th>\n",
              "      <th></th>\n",
              "      <th></th>\n",
              "      <th></th>\n",
              "    </tr>\n",
              "  </thead>\n",
              "  <tbody>\n",
              "    <tr>\n",
              "      <th>1</th>\n",
              "      <td>1</td>\n",
              "      <td>2.88</td>\n",
              "      <td>2.16</td>\n",
              "      <td>1</td>\n",
              "      <td>0</td>\n",
              "      <td>0</td>\n",
              "      <td>0</td>\n",
              "      <td>1</td>\n",
              "      <td>1</td>\n",
              "      <td>3</td>\n",
              "      <td>0</td>\n",
              "      <td>0</td>\n",
              "      <td>0</td>\n",
              "      <td>1</td>\n",
              "      <td>0</td>\n",
              "      <td>60</td>\n",
              "      <td>0</td>\n",
              "    </tr>\n",
              "    <tr>\n",
              "      <th>2</th>\n",
              "      <td>2</td>\n",
              "      <td>3.40</td>\n",
              "      <td>1.88</td>\n",
              "      <td>0</td>\n",
              "      <td>0</td>\n",
              "      <td>0</td>\n",
              "      <td>0</td>\n",
              "      <td>0</td>\n",
              "      <td>0</td>\n",
              "      <td>1</td>\n",
              "      <td>0</td>\n",
              "      <td>0</td>\n",
              "      <td>0</td>\n",
              "      <td>1</td>\n",
              "      <td>0</td>\n",
              "      <td>51</td>\n",
              "      <td>0</td>\n",
              "    </tr>\n",
              "    <tr>\n",
              "      <th>3</th>\n",
              "      <td>2</td>\n",
              "      <td>2.76</td>\n",
              "      <td>2.08</td>\n",
              "      <td>1</td>\n",
              "      <td>0</td>\n",
              "      <td>0</td>\n",
              "      <td>0</td>\n",
              "      <td>1</td>\n",
              "      <td>0</td>\n",
              "      <td>0</td>\n",
              "      <td>0</td>\n",
              "      <td>0</td>\n",
              "      <td>0</td>\n",
              "      <td>1</td>\n",
              "      <td>0</td>\n",
              "      <td>59</td>\n",
              "      <td>0</td>\n",
              "    </tr>\n",
              "    <tr>\n",
              "      <th>4</th>\n",
              "      <td>2</td>\n",
              "      <td>3.68</td>\n",
              "      <td>3.04</td>\n",
              "      <td>0</td>\n",
              "      <td>0</td>\n",
              "      <td>0</td>\n",
              "      <td>0</td>\n",
              "      <td>0</td>\n",
              "      <td>0</td>\n",
              "      <td>0</td>\n",
              "      <td>0</td>\n",
              "      <td>0</td>\n",
              "      <td>0</td>\n",
              "      <td>0</td>\n",
              "      <td>0</td>\n",
              "      <td>54</td>\n",
              "      <td>0</td>\n",
              "    </tr>\n",
              "    <tr>\n",
              "      <th>5</th>\n",
              "      <td>2</td>\n",
              "      <td>2.44</td>\n",
              "      <td>0.96</td>\n",
              "      <td>2</td>\n",
              "      <td>0</td>\n",
              "      <td>1</td>\n",
              "      <td>0</td>\n",
              "      <td>1</td>\n",
              "      <td>1</td>\n",
              "      <td>0</td>\n",
              "      <td>0</td>\n",
              "      <td>0</td>\n",
              "      <td>0</td>\n",
              "      <td>1</td>\n",
              "      <td>0</td>\n",
              "      <td>73</td>\n",
              "      <td>1</td>\n",
              "    </tr>\n",
              "  </tbody>\n",
              "</table>\n",
              "</div>"
            ],
            "text/plain": [
              "    DGN  PRE4  PRE5  PRE6  PRE7  PRE8  ...  PRE19  PRE25  PRE30  PRE32  AGE  Risk1Yr\n",
              "id                                     ...                                          \n",
              "1     1  2.88  2.16     1     0     0  ...      0      0      1      0   60        0\n",
              "2     2  3.40  1.88     0     0     0  ...      0      0      1      0   51        0\n",
              "3     2  2.76  2.08     1     0     0  ...      0      0      1      0   59        0\n",
              "4     2  3.68  3.04     0     0     0  ...      0      0      0      0   54        0\n",
              "5     2  2.44  0.96     2     0     1  ...      0      0      1      0   73        1\n",
              "\n",
              "[5 rows x 17 columns]"
            ]
          },
          "metadata": {
            "tags": []
          },
          "execution_count": 8
        }
      ]
    },
    {
      "cell_type": "code",
      "metadata": {
        "colab": {
          "base_uri": "https://localhost:8080/",
          "height": 964
        },
        "id": "BGeJSXkORVZW",
        "outputId": "54d1a6e5-e38a-407b-d424-47696df77c20"
      },
      "source": [
        "coded_df.hist(figsize=(10, 10), bins=40)"
      ],
      "execution_count": 9,
      "outputs": [
        {
          "output_type": "execute_result",
          "data": {
            "text/plain": [
              "array([[<matplotlib.axes._subplots.AxesSubplot object at 0x7f03aa34b828>,\n",
              "        <matplotlib.axes._subplots.AxesSubplot object at 0x7f03aa2ffa90>,\n",
              "        <matplotlib.axes._subplots.AxesSubplot object at 0x7f03aa2b2cf8>,\n",
              "        <matplotlib.axes._subplots.AxesSubplot object at 0x7f03aa2e6f60>],\n",
              "       [<matplotlib.axes._subplots.AxesSubplot object at 0x7f03aa2a6208>,\n",
              "        <matplotlib.axes._subplots.AxesSubplot object at 0x7f03aa25a470>,\n",
              "        <matplotlib.axes._subplots.AxesSubplot object at 0x7f03aa20d6d8>,\n",
              "        <matplotlib.axes._subplots.AxesSubplot object at 0x7f03aa1c0908>],\n",
              "       [<matplotlib.axes._subplots.AxesSubplot object at 0x7f03aa1c0978>,\n",
              "        <matplotlib.axes._subplots.AxesSubplot object at 0x7f03aa1ace10>,\n",
              "        <matplotlib.axes._subplots.AxesSubplot object at 0x7f03aa16b0b8>,\n",
              "        <matplotlib.axes._subplots.AxesSubplot object at 0x7f03aa11e320>],\n",
              "       [<matplotlib.axes._subplots.AxesSubplot object at 0x7f03aa0d2588>,\n",
              "        <matplotlib.axes._subplots.AxesSubplot object at 0x7f03aa0847f0>,\n",
              "        <matplotlib.axes._subplots.AxesSubplot object at 0x7f03aa039a58>,\n",
              "        <matplotlib.axes._subplots.AxesSubplot object at 0x7f03a9fefcc0>],\n",
              "       [<matplotlib.axes._subplots.AxesSubplot object at 0x7f03aa023f28>,\n",
              "        <matplotlib.axes._subplots.AxesSubplot object at 0x7f03a9fe11d0>,\n",
              "        <matplotlib.axes._subplots.AxesSubplot object at 0x7f03a9f95438>,\n",
              "        <matplotlib.axes._subplots.AxesSubplot object at 0x7f03a9f4b6a0>]],\n",
              "      dtype=object)"
            ]
          },
          "metadata": {
            "tags": []
          },
          "execution_count": 9
        },
        {
          "output_type": "display_data",
          "data": {
            "image/png": "[encoded data removed]",
            "text/plain": [
              "<Figure size 720x720 with 20 Axes>"
            ]
          },
          "metadata": {
            "tags": [],
            "needs_background": "light"
          }
        }
      ]
    },
    {
      "cell_type": "code",
      "metadata": {
        "colab": {
          "base_uri": "https://localhost:8080/",
          "height": 690
        },
        "id": "Y1BDSAeML2oe",
        "outputId": "eee69341-4516-4c7a-d415-0193035cd037"
      },
      "source": [
        "import seaborn as sns \r\n",
        "plt.figure(figsize=(10,10), dpi=80)\r\n",
        "heatmap = sns.heatmap(coded_df.corr(), annot=False)"
      ],
      "execution_count": 10,
      "outputs": [
        {
          "output_type": "display_data",
          "data": {
            "image/png": "[encoded data removed]",
            "text/plain": [
              "<Figure size 800x800 with 2 Axes>"
            ]
          },
          "metadata": {
            "tags": [],
            "needs_background": "light"
          }
        }
      ]
    },
    {
      "cell_type": "code",
      "metadata": {
        "id": "7S9aOvK16sx6"
      },
      "source": [
        "del coded_df['Risk1Yr']"
      ],
      "execution_count": 11,
      "outputs": []
    },
    {
      "cell_type": "markdown",
      "metadata": {
        "id": "AL32E-e0xjRK"
      },
      "source": [
        "При обучении модели некоторые столбцы за счет неравномерного распределения могут создавать ложную корреляцию и снижают точность выборки. Это столбцы использоваться в обучении не будут.\r\n",
        "$$$$Учитывая, что в обычной жизни данные все таки не аугментированные, мне кажется  и акцент при проверке стоит делать именно на них :-) \r\n",
        " "
      ]
    },
    {
      "cell_type": "code",
      "metadata": {
        "id": "UsxsZKzB64cH"
      },
      "source": [
        "X_real = coded_df[['AGE', 'PRE4', 'PRE5', 'PRE6', 'DGN', 'PRE14', 'PRE8', 'PRE7', 'PRE19', 'PRE25', 'PRE17']]\r\n",
        "X = np.array(coded_df)"
      ],
      "execution_count": 12,
      "outputs": []
    },
    {
      "cell_type": "code",
      "metadata": {
        "id": "idysz3Yp900_"
      },
      "source": [
        "from sklearn.preprocessing import StandardScaler\r\n",
        "\r\n",
        "scaler_1 = StandardScaler().fit(X_real)\r\n",
        "X2= scaler_1.transform(X_real)"
      ],
      "execution_count": 13,
      "outputs": []
    },
    {
      "cell_type": "code",
      "metadata": {
        "colab": {
          "base_uri": "https://localhost:8080/"
        },
        "id": "dut6sA8iR7U2",
        "outputId": "23976a09-d6ef-4a0a-9824-569d1496b092"
      },
      "source": [
        "from imblearn.over_sampling import ADASYN\r\n",
        "\r\n",
        "X_2, y_2 = ADASYN(sampling_strategy=1, n_neighbors=5,  random_state=0).fit_resample(np.array(X2), np.array(y))"
      ],
      "execution_count": 14,
      "outputs": [
        {
          "output_type": "stream",
          "text": [
            "/usr/local/lib/python3.6/dist-packages/sklearn/externals/six.py:31: FutureWarning: The module is deprecated in version 0.21 and will be removed in version 0.23 since we've dropped support for Python 2.7. Please rely on the official version of six (https://pypi.org/project/six/).\n",
            "  \"(https://pypi.org/project/six/).\", FutureWarning)\n",
            "/usr/local/lib/python3.6/dist-packages/sklearn/utils/deprecation.py:144: FutureWarning: The sklearn.neighbors.base module is  deprecated in version 0.22 and will be removed in version 0.24. The corresponding classes / functions should instead be imported from sklearn.neighbors. Anything that cannot be imported from sklearn.neighbors is now part of the private API.\n",
            "  warnings.warn(message, FutureWarning)\n",
            "/usr/local/lib/python3.6/dist-packages/sklearn/utils/deprecation.py:87: FutureWarning: Function safe_indexing is deprecated; safe_indexing is deprecated in version 0.22 and will be removed in version 0.24.\n",
            "  warnings.warn(msg, category=FutureWarning)\n"
          ],
          "name": "stderr"
        }
      ]
    },
    {
      "cell_type": "code",
      "metadata": {
        "id": "-HCk_pRWAIra"
      },
      "source": [
        "from sklearn.model_selection import train_test_split\r\n",
        "\r\n",
        "X_train_aug, X_test_aug, y_train_aug, y_test_aug = train_test_split(X_2, y_2, test_size = 0.15, random_state = 0)\r\n",
        "#пожалуй, проверять стоит на тех реальных данных, с которыми модель не знакома\r\n",
        "X_train_model2, X_test_model2, y_train_model2, y_test_model2 = train_test_split(X2, y, test_size = 0.15, random_state = 0)\r\n"
      ],
      "execution_count": 15,
      "outputs": []
    },
    {
      "cell_type": "code",
      "metadata": {
        "id": "ACEMDmax8P02"
      },
      "source": [
        "from sklearn.model_selection import GridSearchCV\r\n",
        "from sklearn import metrics\r\n",
        "from sklearn.model_selection import train_test_split\r\n",
        "from sklearn.neighbors import KNeighborsClassifier\r\n",
        "from sklearn.metrics import roc_auc_score\r\n"
      ],
      "execution_count": 16,
      "outputs": []
    },
    {
      "cell_type": "code",
      "metadata": {
        "colab": {
          "base_uri": "https://localhost:8080/"
        },
        "id": "bsP7wk1vzqaK",
        "outputId": "8550b3cb-d693-43c6-f4b6-f4b6e03afc36"
      },
      "source": [
        "#поиск оптимальных гипперпараметров \r\n",
        "knn_real = KNeighborsClassifier(weights = 'distance')\r\n",
        "grid = {'n_neighbors': np.array(np.linspace(1, 50, 100), dtype='int')}\r\n",
        "gs = GridSearchCV(knn_real, grid, cv=2 )\r\n",
        "gs.fit(X_train_aug, y_train_aug)\r\n",
        "param = gs.best_params_\r\n",
        "\r\n",
        "#модель\r\n",
        "knn_real = KNeighborsClassifier(n_neighbors=param['n_neighbors'])\r\n",
        "knn_real.fit(X_train_aug, y_train_aug)\r\n"
      ],
      "execution_count": 17,
      "outputs": [
        {
          "output_type": "execute_result",
          "data": {
            "text/plain": [
              "KNeighborsClassifier(algorithm='auto', leaf_size=30, metric='minkowski',\n",
              "                     metric_params=None, n_jobs=None, n_neighbors=1, p=2,\n",
              "                     weights='uniform')"
            ]
          },
          "metadata": {
            "tags": []
          },
          "execution_count": 17
        }
      ]
    },
    {
      "cell_type": "code",
      "metadata": {
        "colab": {
          "base_uri": "https://localhost:8080/"
        },
        "id": "HBoV1UUP8afw",
        "outputId": "0fc7f4d5-5e24-4e6c-c51f-a9c4e0be4bec"
      },
      "source": [
        "print('Тест модели на аугментированных данных \\n', metrics.classification_report(y_test_aug, knn_real.predict(X_test_aug)))\r\n",
        "print('AUC ROC тест для knn_real:', roc_auc_score(y_test_aug, knn_real.predict(X_test_aug)))"
      ],
      "execution_count": 18,
      "outputs": [
        {
          "output_type": "stream",
          "text": [
            "Тест модели на аугментированных данных \n",
            "               precision    recall  f1-score   support\n",
            "\n",
            "           0       0.93      0.84      0.88        63\n",
            "           1       0.84      0.93      0.88        57\n",
            "\n",
            "    accuracy                           0.88       120\n",
            "   macro avg       0.89      0.89      0.88       120\n",
            "weighted avg       0.89      0.88      0.88       120\n",
            "\n",
            "AUC ROC тест для knn_real: 0.885547201336675\n"
          ],
          "name": "stdout"
        }
      ]
    },
    {
      "cell_type": "code",
      "metadata": {
        "colab": {
          "base_uri": "https://localhost:8080/"
        },
        "id": "EivDX3f2EYQr",
        "outputId": "cfc31017-ba38-4239-d9e5-a39e770fa88d"
      },
      "source": [
        "print(y_test_model2)\r\n",
        "print(knn_real.predict(X_test_model2))"
      ],
      "execution_count": 19,
      "outputs": [
        {
          "output_type": "stream",
          "text": [
            "[0 0 0 0 1 0 1 0 0 0 0 0 0 1 0 0 0 1 0 0 0 0 0 0 1 0 0 0 0 0 0 0 0 0 1 0 0\n",
            " 0 0 1 0 0 0 0 0 0 0 1 0 0 0 0 0 0 1 1 0 0 1 0 0 0 0 0 0 0 0 0 1 1 1]\n",
            "[0 0 0 0 1 0 1 0 0 0 0 0 0 1 0 0 0 1 0 0 0 0 0 0 1 0 0 0 0 0 0 0 0 0 1 0 0\n",
            " 0 0 1 0 0 0 0 0 0 0 1 0 0 0 0 0 0 1 1 0 0 1 0 0 0 0 0 0 0 0 0 1 1 1]\n"
          ],
          "name": "stdout"
        }
      ]
    },
    {
      "cell_type": "code",
      "metadata": {
        "colab": {
          "base_uri": "https://localhost:8080/"
        },
        "id": "zBYcl8IW2d7k",
        "outputId": "1de784b8-8164-454b-8acc-cce9a9426074"
      },
      "source": [
        "\r\n",
        "print('Тест модели на реальных данных \\n', metrics.classification_report(y_test_model2, knn_real.predict(X_test_model2)))\r\n",
        "print('AUC ROC тест для knn_real:', roc_auc_score(y_test_model2, knn_real.predict(X_test_model2)))"
      ],
      "execution_count": 20,
      "outputs": [
        {
          "output_type": "stream",
          "text": [
            "Тест модели на реальных данных \n",
            "               precision    recall  f1-score   support\n",
            "\n",
            "           0       1.00      1.00      1.00        57\n",
            "           1       1.00      1.00      1.00        14\n",
            "\n",
            "    accuracy                           1.00        71\n",
            "   macro avg       1.00      1.00      1.00        71\n",
            "weighted avg       1.00      1.00      1.00        71\n",
            "\n",
            "AUC ROC тест для knn_real: 1.0\n"
          ],
          "name": "stdout"
        }
      ]
    },
    {
      "cell_type": "code",
      "metadata": {
        "colab": {
          "base_uri": "https://localhost:8080/"
        },
        "id": "ZqaS8kDIABSJ",
        "outputId": "a0149dd4-0483-49ff-eca9-0470444c83f6"
      },
      "source": [
        "#и на полной выборке\r\n",
        "print('Тест модели на реальных данных \\n', metrics.classification_report(y, knn_real.predict(X2)))\r\n",
        "print('AUC ROC тест для knn_real:', roc_auc_score(y, knn_real.predict(X2)))"
      ],
      "execution_count": 21,
      "outputs": [
        {
          "output_type": "stream",
          "text": [
            "Тест модели на реальных данных \n",
            "               precision    recall  f1-score   support\n",
            "\n",
            "           0       0.99      0.97      0.98       400\n",
            "           1       0.87      0.97      0.92        70\n",
            "\n",
            "    accuracy                           0.97       470\n",
            "   macro avg       0.93      0.97      0.95       470\n",
            "weighted avg       0.98      0.97      0.98       470\n",
            "\n",
            "AUC ROC тест для knn_real: 0.9732142857142857\n"
          ],
          "name": "stdout"
        }
      ]
    },
    {
      "cell_type": "code",
      "metadata": {
        "id": "CSZ9LRIDy3yi",
        "colab": {
          "base_uri": "https://localhost:8080/"
        },
        "outputId": "670dd4d7-4a34-454c-c3ce-979ad843ae45"
      },
      "source": [
        "import warnings\r\n",
        "warnings.filterwarnings(\"ignore\")\r\n",
        "from sklearn.linear_model import LogisticRegression\r\n",
        "grid = {\"C\": np.arange(0, 3, 0.1),\r\n",
        "              \"penalty\":[\"l1\",\"l2\"],\r\n",
        "        'solver': ['newton-cg', 'lbfgs', 'liblinear', 'sag', 'saga']}\r\n",
        "\r\n",
        "log = LogisticRegression()\r\n",
        "\r\n",
        "gs = GridSearchCV(log, grid, cv=5,)\r\n",
        "gs.fit(X_train_aug, y_train_aug)\r\n",
        "log_param= gs.best_params_\r\n",
        "alg = LogisticRegression(C=log_param['C'], penalty=log_param['penalty'],\r\n",
        "                         solver=log_param['solver'])\r\n",
        "alg.fit(X_train_aug, y_train_aug)"
      ],
      "execution_count": 22,
      "outputs": [
        {
          "output_type": "execute_result",
          "data": {
            "text/plain": [
              "LogisticRegression(C=0.1, class_weight=None, dual=False, fit_intercept=True,\n",
              "                   intercept_scaling=1, l1_ratio=None, max_iter=100,\n",
              "                   multi_class='auto', n_jobs=None, penalty='l2',\n",
              "                   random_state=None, solver='liblinear', tol=0.0001, verbose=0,\n",
              "                   warm_start=False)"
            ]
          },
          "metadata": {
            "tags": []
          },
          "execution_count": 22
        }
      ]
    },
    {
      "cell_type": "code",
      "metadata": {
        "colab": {
          "base_uri": "https://localhost:8080/"
        },
        "id": "x4hmAmECzorI",
        "outputId": "ed407266-2957-4227-d719-eb046ec07da5"
      },
      "source": [
        "print('Тест модели на аугментированных данных \\n', metrics.classification_report(y_test_aug, alg.predict(X_test_aug)))\r\n",
        "print('AUC ROC тест для логистической регрессии:', roc_auc_score(y_test_aug, alg.predict(X_test_aug)))"
      ],
      "execution_count": 23,
      "outputs": [
        {
          "output_type": "stream",
          "text": [
            "Тест модели на аугментированных данных \n",
            "               precision    recall  f1-score   support\n",
            "\n",
            "           0       0.61      0.57      0.59        63\n",
            "           1       0.56      0.60      0.58        57\n",
            "\n",
            "    accuracy                           0.58       120\n",
            "   macro avg       0.58      0.58      0.58       120\n",
            "weighted avg       0.59      0.58      0.58       120\n",
            "\n",
            "AUC ROC тест для логистической регрессии: 0.5839598997493733\n"
          ],
          "name": "stdout"
        }
      ]
    },
    {
      "cell_type": "code",
      "metadata": {
        "colab": {
          "base_uri": "https://localhost:8080/"
        },
        "id": "rMKuGo1r0Fjv",
        "outputId": "b3f9a1ce-4aa9-477a-c4b3-c0148b2d7909"
      },
      "source": [
        "print('Тест модели на реальных данных \\n', metrics.classification_report(y_test_model2, alg.predict(X_test_model2)))\r\n",
        "print('AUC ROC тест для логистической регрессии:', roc_auc_score(y_test_model2, alg.predict(X_test_model2)))"
      ],
      "execution_count": 24,
      "outputs": [
        {
          "output_type": "stream",
          "text": [
            "Тест модели на реальных данных \n",
            "               precision    recall  f1-score   support\n",
            "\n",
            "           0       0.89      0.72      0.80        57\n",
            "           1       0.36      0.64      0.46        14\n",
            "\n",
            "    accuracy                           0.70        71\n",
            "   macro avg       0.63      0.68      0.63        71\n",
            "weighted avg       0.79      0.70      0.73        71\n",
            "\n",
            "AUC ROC тест для логистической регрессии: 0.681077694235589\n"
          ],
          "name": "stdout"
        }
      ]
    },
    {
      "cell_type": "code",
      "metadata": {
        "colab": {
          "base_uri": "https://localhost:8080/"
        },
        "id": "GInHp0k_3fit",
        "outputId": "4f7d68d0-3a5e-4c0e-b985-399783ab933e"
      },
      "source": [
        "from sklearn.model_selection import RandomizedSearchCV\r\n",
        "from sklearn.svm import SVC\r\n",
        "clf = SVC()\r\n",
        "hyper_param = {\"C\": np.arange(0, 3, 0.0001),\r\n",
        "               'gamma':  np.arange(0, 3, 0.0001),\r\n",
        "               'kernel': ['rbf', 'linear', 'sigmoid'],\r\n",
        "               'class_weight':['balanced', None]}\r\n",
        "RCV = RandomizedSearchCV(clf, hyper_param, cv=5)\r\n",
        "\r\n",
        "RCV.fit(X_train_aug, y_train_aug)\r\n",
        "RCV_param= RCV.best_params_\r\n",
        "clf = SVC(C=RCV_param['C'], gamma=RCV_param['gamma'],\r\n",
        "          kernel=RCV_param['kernel'], \r\n",
        "          class_weight=RCV_param['class_weight'])\r\n",
        "\r\n",
        "clf.fit(X_train_aug, y_train_aug)\r\n",
        "RCV_param"
      ],
      "execution_count": 25,
      "outputs": [
        {
          "output_type": "execute_result",
          "data": {
            "text/plain": [
              "{'C': 2.1991, 'class_weight': 'balanced', 'gamma': 2.033, 'kernel': 'rbf'}"
            ]
          },
          "metadata": {
            "tags": []
          },
          "execution_count": 25
        }
      ]
    },
    {
      "cell_type": "code",
      "metadata": {
        "colab": {
          "base_uri": "https://localhost:8080/"
        },
        "id": "qL1rIb8l9MS8",
        "outputId": "18e8105d-dbf4-4960-9e77-d67f17a9a083"
      },
      "source": [
        "clf.predict(X_test_aug)"
      ],
      "execution_count": 26,
      "outputs": [
        {
          "output_type": "execute_result",
          "data": {
            "text/plain": [
              "array([1, 1, 1, 1, 1, 1, 0, 1, 0, 1, 1, 0, 1, 0, 0, 0, 0, 1, 0, 1, 1, 1,\n",
              "       0, 0, 1, 0, 1, 1, 0, 0, 0, 0, 0, 0, 1, 1, 1, 0, 1, 0, 0, 0, 1, 0,\n",
              "       1, 0, 0, 0, 0, 0, 0, 0, 1, 0, 1, 0, 0, 1, 0, 0, 1, 1, 1, 1, 0, 0,\n",
              "       1, 1, 0, 1, 1, 0, 1, 0, 0, 1, 0, 1, 0, 1, 0, 0, 1, 1, 1, 1, 0, 0,\n",
              "       0, 0, 0, 0, 1, 1, 0, 1, 1, 0, 1, 0, 1, 0, 1, 1, 0, 1, 0, 0, 0, 1,\n",
              "       0, 1, 1, 0, 1, 1, 0, 0, 0, 0])"
            ]
          },
          "metadata": {
            "tags": []
          },
          "execution_count": 26
        }
      ]
    },
    {
      "cell_type": "code",
      "metadata": {
        "colab": {
          "base_uri": "https://localhost:8080/"
        },
        "id": "Gs5Q2bir8-S-",
        "outputId": "66a83858-0ab6-4524-aca4-e1f2158d15c0"
      },
      "source": [
        "print('Тест модели на аугментированных данных \\n', metrics.classification_report(y_test_aug, clf.predict(X_test_aug)))\r\n",
        "print('AUC ROC тест для логистической регрессии:', roc_auc_score(y_test_aug, clf.predict(X_test_aug)))"
      ],
      "execution_count": 27,
      "outputs": [
        {
          "output_type": "stream",
          "text": [
            "Тест модели на аугментированных данных \n",
            "               precision    recall  f1-score   support\n",
            "\n",
            "           0       0.88      0.89      0.88        63\n",
            "           1       0.88      0.86      0.87        57\n",
            "\n",
            "    accuracy                           0.88       120\n",
            "   macro avg       0.88      0.87      0.87       120\n",
            "weighted avg       0.88      0.88      0.87       120\n",
            "\n",
            "AUC ROC тест для логистической регрессии: 0.8742690058479532\n"
          ],
          "name": "stdout"
        }
      ]
    },
    {
      "cell_type": "code",
      "metadata": {
        "colab": {
          "base_uri": "https://localhost:8080/"
        },
        "id": "gxEvsG5u9EL1",
        "outputId": "5c23fc0d-d8d7-4d2a-ef5b-3dbf1d846b5e"
      },
      "source": [
        "print('Тест модели на реальных данных \\n', metrics.classification_report(y_test_model2, clf.predict(X_test_model2)))\r\n",
        "print('AUC ROC тест для логистической регрессии:', roc_auc_score(y_test_model2, clf.predict(X_test_model2)))"
      ],
      "execution_count": 29,
      "outputs": [
        {
          "output_type": "stream",
          "text": [
            "Тест модели на реальных данных \n",
            "               precision    recall  f1-score   support\n",
            "\n",
            "           0       0.98      0.95      0.96        57\n",
            "           1       0.81      0.93      0.87        14\n",
            "\n",
            "    accuracy                           0.94        71\n",
            "   macro avg       0.90      0.94      0.92        71\n",
            "weighted avg       0.95      0.94      0.95        71\n",
            "\n",
            "AUC ROC тест для логистической регрессии: 0.9379699248120301\n"
          ],
          "name": "stdout"
        }
      ]
    }
  ]
}
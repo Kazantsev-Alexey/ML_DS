{
  "nbformat": 4,
  "nbformat_minor": 0,
  "metadata": {
    "colab": {
      "name": "ДЗ_по_матрицам.ipynb",
      "provenance": [],
      "collapsed_sections": [],
      "include_colab_link": true
    },
    "kernelspec": {
      "name": "python3",
      "display_name": "Python 3"
    }
  },
  "cells": [
    {
      "cell_type": "markdown",
      "metadata": {
        "id": "view-in-github",
        "colab_type": "text"
      },
      "source": [
        "<a href=\"https://colab.research.google.com/github/Kazantsev-Alexey/ML_DS/blob/main/%D0%94%D0%97_%D0%BF%D0%BE_%D0%BC%D0%B0%D1%82%D1%80%D0%B8%D1%86%D0%B0%D0%BC.ipynb\" target=\"_parent\"><img src=\"https://colab.research.google.com/assets/colab-badge.svg\" alt=\"Open In Colab\"/></a>"
      ]
    },
    {
      "cell_type": "markdown",
      "metadata": {
        "id": "PDkG3Bis38V_"
      },
      "source": [
        "# Домашнее задание к 7 уроку.\n",
        "\n",
        "**Дедлайн: 23.12.2020**"
      ]
    },
    {
      "cell_type": "markdown",
      "metadata": {
        "id": "T_frQ-789isH"
      },
      "source": [
        "colab: https://colab.research.google.com/drive/1KLD5pDCa0ka_g1U4D2ExihaaEwXzfTPW?usp=sharing"
      ]
    },
    {
      "cell_type": "markdown",
      "metadata": {
        "id": "PzhnPFbL3igE"
      },
      "source": [
        "**ФОРМАТ ОТЧЕТНОСТИ:** pdf-файл с решенными задачами (задачи 2-9), ноутбук с проверкой решения этих задач (при помощи numpy), и pdf файл с отчетом по 1-ой задаче (краткий пересказ статьи). Вы можете оформить решения с использованием Markdown (писать текст прямо в юпитер ноутбуке), Latex, Word или же решить в тетради и сформировать pdf из фото.\n",
        "\n",
        "Итого: 2 pdf файла.\n",
        "\n",
        "Все задания необходимо выполнять ВРУЧНУЮ. А также проверить корректность полученных результатов с использованием Numpy.\n",
        "\n",
        "Туториал как писать \"Latex-формулы\" прямо в Юпитере:\n",
        "https://www.youtube.com/watch?v=vSc25kdgecg\n",
        "\n",
        "Ноутбук с примером формул: https://nbviewer.jupyter.org/github/postlogist/course_opt/blob/master/jupyter_tutorial/02_markdown.ipynb\n"
      ]
    },
    {
      "cell_type": "markdown",
      "metadata": {
        "id": "RU2u4fG55fBq"
      },
      "source": [
        "## Пример\n",
        "\n",
        "\n",
        "Найдем ранг матрицы \n",
        "\n",
        "$$\\begin{pmatrix}\n",
        "1 & 2 & 3 & 4 & 5\\\\ \n",
        "2 & 5 & 8 & 11 & 14\\\\ \n",
        "3 & 9 & 14 & 20 & 26\\\\ \n",
        "5 & 14 & 22 & 31 & 40\n",
        "\\end{pmatrix}.$$\n",
        "\n",
        "Четвертая строка является суммой второй и третьей строк, а значит, ее можно отбросить:\n",
        "\n",
        "$$\\begin{pmatrix}\n",
        "1 & 2 & 3 & 4 & 5\\\\ \n",
        "2 & 5 & 8 & 11 & 14\\\\ \n",
        "3 & 9 & 14 & 20 & 26\n",
        "\\end{pmatrix}.$$\n",
        "\n",
        "Из второй и третьей строк вычтем первую, умноженную на $2$ и $3$ соответственно:\n",
        "\n",
        "$$\\begin{pmatrix}\n",
        "1 & 2 & 3 & 4 & 5\\\\ \n",
        "0 & 1 & 2 & 3 & 4\\\\ \n",
        "0 & 2 & 5 & 8 & 11\n",
        "\\end{pmatrix}.$$\n",
        "\n",
        "И вычтем из третьей строки вторую, умноженную на $2$:\n",
        "\n",
        "$$\\begin{pmatrix}\n",
        "1 & 2 & 3 & 4 & 5\\\\ \n",
        "0 & 1 & 2 & 3 & 4\\\\ \n",
        "0 & 0 & 1 & 2 & 3\n",
        "\\end{pmatrix}.$$\n",
        "\n",
        "Таким образом, ранг матрицы равен $3$."
      ]
    },
    {
      "cell_type": "code",
      "metadata": {
        "colab": {
          "base_uri": "https://localhost:8080/"
        },
        "id": "c3mJUpE65vak",
        "outputId": "5a5debbc-1a4a-47a5-8b35-9b40b7caf531"
      },
      "source": [
        "# Проверка\n",
        "\n",
        "import numpy as np\n",
        "a = [1, 2, 3, 4, 5]\n",
        "b = [2, 5, 8, 11, 14]\n",
        "c = [3, 9, 14, 20, 26]\n",
        "d = [5, 14, 22, 31, 40]\n",
        "\n",
        "x = np.array([a, b, c, d])\n",
        "r = np.linalg.matrix_rank(x)\n",
        "\n",
        "print(f'Ранг матрицы: {r}')"
      ],
      "execution_count": null,
      "outputs": [
        {
          "output_type": "stream",
          "text": [
            "Ранг матрицы: 3\n"
          ],
          "name": "stdout"
        }
      ]
    },
    {
      "cell_type": "markdown",
      "metadata": {
        "id": "1NlQHLnE5iV-"
      },
      "source": [
        "# Задачи"
      ]
    },
    {
      "cell_type": "markdown",
      "metadata": {
        "id": "oOoLPT-d232H"
      },
      "source": [
        "**1.** Прочитать статью http://www.scielo.org.mx/pdf/cys/v18n3/v18n3a7.pdf и сделать следующее:\n",
        "\n",
        "- Написать кратко (не более 300 слов (минимум 100), отчет в формате pdf) о различиях между cosine similarity и soft similarity. Привести примеры использования и написать собственный пример вычисления cosine similarity и soft similarity для произвольных векторов (не брать вектора из статьи! надо самим придумать координаты/размерность векторов)"
      ]
    },
    {
      "cell_type": "markdown",
      "metadata": {
        "id": "DyhuYw_g_feC"
      },
      "source": [
        "Cosine similarity является мерой вычисления сходства между двумя векторами. Фактически вычисляется косинус угла между векторами, отображая сходства направленности. Чем меньше угол тем больше косинус и при нулевом значении угла косинус равен 1, что соответствует полной схожести значений. Сходство косинуса рассматривает векторы как изначально независимые друг от друга и расчитывается как произведение веркторов разделенное на произведение норм. Для обработки текста такой подход не совсем подходит т.к. не учитывает контекст слов и их семантическое значение. А soft cosine similarity дополнительно учитывает сходство для пары слов с помощью создания матрицы, вычесленной по расстоянию Левенштейна. И она перемножается в тойже формуле, добавляя семантическую связь в измерение. Если между элементами вектора отсутствует сходство, то результат будет тот же, что и у обычного косинусного сходства."
      ]
    },
    {
      "cell_type": "code",
      "metadata": {
        "id": "w0Jt5SPA-W4p"
      },
      "source": [
        "from gensim.matutils import softcossim\r\n",
        "from gensim import corpora\r\n",
        "import gensim.downloader as api\r\n",
        "\r\n",
        "\r\n",
        "#создание матрицы схожести по словарю\r\n",
        "rus = api.load('word2vec-ruscorpora-300')\r\n",
        "sent_1 = 'Я пытаюсь разобраться в создании мягкого сходства и векторах'.lower().split()\r\n",
        "sent_2 = 'Я только и делаю вид и уже не пытаюсь разобраться в создании сходства'.lower().split()\r\n",
        "doc=[sent_1, sent_2]\r\n",
        "dictionary = corpora.Dictionary(doc)\r\n",
        "similarity_matrix = rus.similarity_matrix(dictionary)\r\n",
        "\r\n",
        "#теперь необходимо выявить количество уникальных слов для определения пространства\r\n",
        "sent_unique_1 = []\r\n",
        "for word in sent_1: \r\n",
        "    if word not in sent_unique_1: \r\n",
        "        sent_unique_1.append(word) \r\n",
        "\r\n",
        "sent_unique_2 = []\r\n",
        "for word in sent_2: \r\n",
        "    if word not in sent_unique_2: \r\n",
        "        sent_unique_2.append(word) \r\n",
        "\r\n",
        "documents = sent_unique_2 + sent_unique_1\r\n",
        "documents = sorted(list(set(documents)))\r\n",
        "for word in documents:\r\n",
        "  if word == 'в' or 'и':\r\n",
        "    documents.remove(word)\r\n",
        "#7 уникальных слов\r\n",
        "#теперь необходимо создать векторы в этом пространстве\r\n",
        "\r\n",
        "vec=[]\r\n",
        "for i in documents:\r\n",
        "  if i in sent_1:\r\n",
        "    count=sent_1.count(i)\r\n",
        "    vec.append((documents.index(i),count))\r\n",
        "  else:\r\n",
        "    vec.append((documents.index(i), 0))\r\n",
        "vec1=[]\r\n",
        "for i in documents:\r\n",
        "  if i in sent_2:\r\n",
        "    count=sent_2.count(i)\r\n",
        "    vec1.append((documents.index(i),count))\r\n",
        "  else:\r\n",
        "    vec1.append((documents.index(i), 0))\r\n",
        "\r\n",
        "# векторы есть, теперь необходимо расчитать soft cosine similarity\r\n",
        "# с использованием матрицы\r\n",
        "print(softcossim(vec1, vec, similarity_matrix))\r\n",
        "# я если честно не совсем пониманию логику наполнения векторов\r\n",
        "# как вариант еще можно посчитать частоту встречаемости во всем тексте\r\n",
        "all_text=sent_1+sent_2\r\n",
        "vec2=[]\r\n",
        "for i in sent_1:\r\n",
        "  count=all_text.count(i)\r\n",
        "  vec2.append((sent_1.index(i),count))\r\n",
        "vec3=[]\r\n",
        "for i in sent_2:\r\n",
        "  count=all_text.count(i)\r\n",
        "  vec3.append((sent_2.index(i),count))\r\n",
        "print(softcossim(vec2, vec3, similarity_matrix))\r\n"
      ],
      "execution_count": null,
      "outputs": []
    },
    {
      "cell_type": "markdown",
      "metadata": {
        "id": "2A79cNRu3BUA"
      },
      "source": [
        "__2.__ Найти сумму и произведение матриц $A=\\begin{pmatrix}\n",
        "1 & -2\\\\ \n",
        "3 & 0\n",
        "\\end{pmatrix}$ и $B=\\begin{pmatrix}\n",
        "4 & -1\\\\ \n",
        "0 & 5\n",
        "\\end{pmatrix}.$\n",
        "\n",
        "__3.__ Из закономерностей сложения и умножения матриц на число можно сделать вывод, что матрицы одного размера образуют линейное пространство. Вычислить линейную комбинацию $3A-2B+4C$ для матриц $A=\\begin{pmatrix}\n",
        "1 & 7\\\\ \n",
        "3 & -6\n",
        "\\end{pmatrix}$, $B=\\begin{pmatrix}\n",
        "0 & 5\\\\ \n",
        "2 & -1\n",
        "\\end{pmatrix}$, $C=\\begin{pmatrix}\n",
        "2 & -4\\\\ \n",
        "1 & 1\n",
        "\\end{pmatrix}.$\n",
        "    \n",
        "__4.__ Дана матрица $A=\\begin{pmatrix}\n",
        "4 & 1\\\\ \n",
        "5 & -2\\\\ \n",
        "2 & 3\n",
        "\\end{pmatrix}$.\n",
        "Вычислить $AA^{T}$ и $A^{T}A$.\n",
        "\n",
        "__5*.__ Написать на Python функцию для перемножения двух произвольных матриц, не используя NumPy."
      ]
    },
    {
      "cell_type": "markdown",
      "metadata": {
        "id": "pngeRSdzmDin"
      },
      "source": [
        "6. a) $\r\n",
        "\\left(\r\n",
        "\\begin{array}{cccc}\r\n",
        "{sinx} & {-cosx} \\\\\r\n",
        "{cosx} & {sinx} \r\n",
        "\\end{array}\r\n",
        "\\right)= sinx^2-(-cosx)2=1 $\r\n"
      ]
    },
    {
      "cell_type": "markdown",
      "metadata": {
        "id": "_zI58H0cmk-5"
      },
      "source": [
        "6. б) $\r\n",
        "\\left(\r\n",
        "\\begin{array}{cccc}\r\n",
        "{8} & {4} & {6} \\\\\r\n",
        "{0} & {5} & {1} \\\\\r\n",
        "{0} & {0} & {9} \r\n",
        "\\end{array}\r\n",
        "\\right) = 8*5*9+0*4*1+0*0*6-0*5*6-8*0*1-0*5*9=360+0+0-0-0-0=360$"
      ]
    },
    {
      "cell_type": "markdown",
      "metadata": {
        "id": "pG9mSvQnn00b"
      },
      "source": [
        "6. б) $\r\n",
        "\\left(\r\n",
        "\\begin{array}{cccc}\r\n",
        "{2} & {3} & {4} \\\\\r\n",
        "{5} & {6} & {7} \\\\\r\n",
        "{8} & {9} & {10} \r\n",
        "\\end{array}\r\n",
        "\\right)=2*6*10+8*3*7+5*9*4-8*6*4-2*9*7-5*3*10=120+168+180-192-126-150=468-468=0$"
      ]
    },
    {
      "cell_type": "markdown",
      "metadata": {
        "id": "-naSOZaf3L7s"
      },
      "source": [
        "\n",
        "__6.__ Вычислить определитель (используйте любой удобный для вас способ вычисления определителя: через миноры, через перестановки или другой):\n",
        "\n",
        "   a)\n",
        "\n",
        "$$\\begin{vmatrix}\n",
        "sinx & -cosx\\\\ \n",
        "cosx & sinx\n",
        "\\end{vmatrix};$$\n",
        "\n",
        "   б)\n",
        "    \n",
        "$$\\begin{vmatrix}\n",
        "8 & 4 & 6\\\\ \n",
        "0 & 5 & 1\\\\ \n",
        "0 & 0 & 9\n",
        "\\end{vmatrix};$$\n",
        "    \n",
        "   в)\n",
        "\n",
        "$$\\begin{vmatrix}\n",
        "2 & 3 & 4\\\\ \n",
        "5 & 6 & 7\\\\ \n",
        "8 & 9 & 10\n",
        "\\end{vmatrix}.$$\n",
        "\n",
        "\n",
        "__7.__ Определитель матрицы $A$ равен $4$. Найти:\n",
        "\n",
        "   а) $det(A^{2})$;\n",
        "    \n",
        "   б) $det(A^{T})$;\n",
        "    \n",
        "   в) $det(2A)$.\n",
        "   \n",
        "__8.__  Доказать, что матрица\n",
        "\n",
        "$$\\begin{pmatrix}\n",
        "-2 & 7 & -3\\\\ \n",
        "4 & -14 & 6\\\\ \n",
        "-3 & 7 & 13\n",
        "\\end{pmatrix}$$\n",
        "   \n",
        "вырожденная.\n",
        "\n",
        "__9.__ Найти ранг матрицы:\n",
        "\n",
        "   а) $\\begin{pmatrix}\n",
        "1 & 2 & 3\\\\ \n",
        "1 & 1 & 1\\\\ \n",
        "2 & 3 & 4\n",
        "\\end{pmatrix};$\n",
        "\n",
        "   б) $\\begin{pmatrix}\n",
        "0 & 0 & 2 & 1\\\\ \n",
        "0 & 0 & 2 & 2\\\\ \n",
        "0 & 0 & 4 & 3\\\\ \n",
        "2 & 3 & 5 & 6\n",
        "\\end{pmatrix}.$"
      ]
    },
    {
      "cell_type": "markdown",
      "metadata": {
        "id": "HISclPxejYTF"
      },
      "source": [
        "2.Сложение $\r\n",
        "\\left(\r\n",
        "\\begin{array}{cccc}\r\n",
        "{1} & {-2} \\\\\r\n",
        "{3} & {0} \r\n",
        "\\end{array}\r\n",
        "\\right) + \\left(\r\n",
        "\\begin{array}{cccc}\r\n",
        "{4} & {-1} \\\\\r\n",
        "{0} & {5} \r\n",
        "\\end{array}\r\n",
        "\\right) = \\left(\r\n",
        "\\begin{array}{cccc}\r\n",
        "{5} & {-3} \\\\\r\n",
        "{3} & {5} \r\n",
        "\\end{array}\r\n",
        "\\right)\r\n",
        "$\r\n",
        "2. Умножение $\\left(\r\n",
        "\\begin{array}{cccc}\r\n",
        "{1} & {-2} \\\\\r\n",
        "{3} & {0} \r\n",
        "\\end{array}\r\n",
        "\\right) * \\left(\r\n",
        "\\begin{array}{cccc}\r\n",
        "{4} & {-1} \\\\\r\n",
        "{0} & {5} \r\n",
        "\\end{array}\r\n",
        "\\right) = \\left(\r\n",
        "\\begin{array}{cccc}\r\n",
        "{1*4 + (-2)*0} & {1*(-1) + (-2)*5} \\\\\r\n",
        "{3*4 + 0*0} & {3*(-1) + 0*5} \r\n",
        "\\end{array}\r\n",
        "\\right)=\\left(\r\n",
        "\\begin{array}{cccc}\r\n",
        "{4} & {-11} \\\\\r\n",
        "{12} & {-3} \r\n",
        "\\end{array}\r\n",
        "\\right) $"
      ]
    },
    {
      "cell_type": "code",
      "metadata": {
        "colab": {
          "base_uri": "https://localhost:8080/"
        },
        "id": "8lq8z91Mvh1L",
        "outputId": "0ea1b172-063c-4f00-a0ea-e7573c19aba6"
      },
      "source": [
        "a = [1, -2]\r\n",
        "b = [3, 0]\r\n",
        "x = np.array([a, b])\r\n",
        "\r\n",
        "a = [4, -1]\r\n",
        "b = [0, 5]\r\n",
        "\r\n",
        "\r\n",
        "y = np.array([a, b])\r\n",
        "print(x+y)\r\n",
        "\r\n",
        "print(x.dot(y))"
      ],
      "execution_count": null,
      "outputs": [
        {
          "output_type": "stream",
          "text": [
            "[[ 5 -3]\n",
            " [ 3  5]]\n",
            "[[  4 -11]\n",
            " [ 12  -3]]\n"
          ],
          "name": "stdout"
        }
      ]
    },
    {
      "cell_type": "markdown",
      "metadata": {
        "id": "qlVJy0t4jYTI"
      },
      "source": [
        "3. $$3\\left(\r\n",
        "\\begin{array}{cccc}\r\n",
        "{1} & {7} \\\\\r\n",
        "{3} & {6} \r\n",
        "\\end{array}\r\n",
        "\\right) - 2\\left(\r\n",
        "\\begin{array}{cccc}\r\n",
        "{0} & {5} \\\\\r\n",
        "{2} & {-1} \r\n",
        "\\end{array}\r\n",
        "\\right) + 4\\left(\r\n",
        "\\begin{array}{cccc}\r\n",
        "{2} & {-4} \\\\\r\n",
        "{1} & {1} \r\n",
        "\\end{array}\r\n",
        "\\right)= \\left(\r\n",
        "\\begin{array}{cccc}\r\n",
        "{3} & {21} \\\\\r\n",
        "{9} & {18} \r\n",
        "\\end{array}\r\n",
        "\\right) - \\left(\r\n",
        "\\begin{array}{cccc}\r\n",
        "{0} & {10} \\\\\r\n",
        "{4} & {-2} \r\n",
        "\\end{array}\r\n",
        "\\right) + \\left(\r\n",
        "\\begin{array}{cccc}\r\n",
        "{8} & {-16} \\\\\r\n",
        "{4} & {4} \r\n",
        "\\end{array}\r\n",
        "\\right)= \\left(\r\n",
        "\\begin{array}{cccc}\r\n",
        "{3-0+8} & {21-10-16} \\\\\r\n",
        "{9-4+4} & {18+2+4} \r\n",
        "\\end{array}\r\n",
        "\\right)=\\left(\r\n",
        "\\begin{array}{cccc}\r\n",
        "{11} & {-5} \\\\\r\n",
        "{9} & {24} \r\n",
        "\\end{array}\r\n",
        "\\right)  $$"
      ]
    },
    {
      "cell_type": "code",
      "metadata": {
        "colab": {
          "base_uri": "https://localhost:8080/"
        },
        "id": "BjuxcpLFu1kS",
        "outputId": "f3b2a5c2-4b7c-4e68-f2fa-213b96da5f9d"
      },
      "source": [
        "a = [1, 7]\r\n",
        "b = [3, 6]\r\n",
        "x = np.array([a, b])\r\n",
        "\r\n",
        "a = [0, 5]\r\n",
        "b = [2, -1]\r\n",
        "\r\n",
        "y = np.array([a, b])\r\n",
        "\r\n",
        "a = [2, -4]\r\n",
        "b = [1, 1]\r\n",
        "\r\n",
        "z = np.array([a, b])\r\n",
        "lin_comb=3*x-2*y+4*z\r\n",
        "lin_comb"
      ],
      "execution_count": null,
      "outputs": [
        {
          "output_type": "execute_result",
          "data": {
            "text/plain": [
              "array([[11, -5],\n",
              "       [ 9, 24]])"
            ]
          },
          "metadata": {
            "tags": []
          },
          "execution_count": 284
        }
      ]
    },
    {
      "cell_type": "markdown",
      "metadata": {
        "id": "RbpwP3gTjYTK"
      },
      "source": [
        "4.  $ AA^{T}=\\left(\r\n",
        "\\begin{array}{cccc}\r\n",
        "{4} & {1} \\\\\r\n",
        "{5} & {-2} \\\\\r\n",
        "{2} & {3}\r\n",
        "\\end{array}\r\n",
        "\\right) * \\left(\r\n",
        "\\begin{array}{cccc}\r\n",
        "{4} & {5} & {2}\\\\\r\n",
        "{1} & {-2} & {3}\r\n",
        "\\end{array}\r\n",
        "\\right)= \\left(\r\n",
        "\\begin{array}{cccc}\r\n",
        "{4^2+1^2} & {4*5+1*(-2)} & {4*2+1*3} \\\\\r\n",
        "{5*4+(-2)*1} & {5^2+(-2)^2} &{5*2+(-2)*3} \\\\\r\n",
        "{2*4+3*1} & {2*5+3*(-2)} & {2^2+3^3}  \r\n",
        "\\end{array}\r\n",
        "\\right)= \\left(\r\n",
        "\\begin{array}{cccc}\r\n",
        "{17} & {18} & {11} \\\\\r\n",
        "{18} & {29} &{4} \\\\\r\n",
        "{11} & {4} & {31}  \r\n",
        "\\end{array}\r\n",
        "\\right)$"
      ]
    },
    {
      "cell_type": "code",
      "metadata": {
        "colab": {
          "base_uri": "https://localhost:8080/"
        },
        "id": "ENsMs1Fatv4d",
        "outputId": "8d814ffe-5b6d-4d75-e173-be4c73678ea6"
      },
      "source": [
        "a = [4, 5, 2]\r\n",
        "b = [1, -2, 3]\r\n",
        "x = np.array([a, b])\r\n",
        "\r\n",
        "a = [4, 1]\r\n",
        "b = [5, -2]\r\n",
        "c = [2, 3]\r\n",
        "\r\n",
        "y = np.array([a, b, c])\r\n",
        "y.dot(x)"
      ],
      "execution_count": null,
      "outputs": [
        {
          "output_type": "execute_result",
          "data": {
            "text/plain": [
              "array([[17, 18, 11],\n",
              "       [18, 29,  4],\n",
              "       [11,  4, 13]])"
            ]
          },
          "metadata": {
            "tags": []
          },
          "execution_count": 285
        }
      ]
    },
    {
      "cell_type": "markdown",
      "metadata": {
        "id": "pHJ1wwGmjYTL"
      },
      "source": [
        "4. $A^{T}A= \\left(\r\n",
        "\\begin{array}{cccc}\r\n",
        "{4} & {5} & {2}\\\\\r\n",
        "{1} & {-2} & {3}\r\n",
        "\\end{array}\r\n",
        "\\right) *\\left(\r\n",
        "\\begin{array}{cccc}\r\n",
        "{4} & {1} \\\\\r\n",
        "{5} & {-2} \\\\\r\n",
        "{2} & {3}\r\n",
        "\\end{array}\r\n",
        "\\right) = \\left(\r\n",
        "\\begin{array}{cccc}\r\n",
        "{4^2+5^5+2^2} & {4*1+5*(-2)+2*3}\\\\\r\n",
        "{1*4+(-2)*5+3*2} & {1^1+(-2)^2+3^2}\r\n",
        "\\end{array}\r\n",
        "\\right) = \\left(\r\n",
        "\\begin{array}{cccc}\r\n",
        "{45} & {0}\\\\\r\n",
        "{0} & {14}\r\n",
        "\\end{array}\r\n",
        "\\right) $"
      ]
    },
    {
      "cell_type": "code",
      "metadata": {
        "colab": {
          "base_uri": "https://localhost:8080/"
        },
        "id": "m9m4NuHcssj_",
        "outputId": "c0f87149-680f-4f2c-c26a-f55737809697"
      },
      "source": [
        "a = [4, 5, 2]\r\n",
        "b = [1, -2, 3]\r\n",
        "x = np.array([a, b])\r\n",
        "\r\n",
        "a = [4, 1]\r\n",
        "b = [5, -2]\r\n",
        "c = [2, 3]\r\n",
        "\r\n",
        "y = np.array([a, b, c])\r\n",
        "x.dot(y)"
      ],
      "execution_count": null,
      "outputs": [
        {
          "output_type": "execute_result",
          "data": {
            "text/plain": [
              "array([[45,  0],\n",
              "       [ 0, 14]])"
            ]
          },
          "metadata": {
            "tags": []
          },
          "execution_count": 276
        }
      ]
    },
    {
      "cell_type": "code",
      "metadata": {
        "colab": {
          "base_uri": "https://localhost:8080/"
        },
        "id": "kSYFNvbBqcMQ",
        "outputId": "51a074c8-d342-4879-c927-4f31591fd6fe"
      },
      "source": [
        "# Задание №5\r\n",
        "A= [[1, 3, 5, 5],\r\n",
        "    [2, 6, 6, 6], \r\n",
        "    [4, 8, 8, 2],\r\n",
        "    [3, 1, 4, 5],\r\n",
        "    [5, 1, 6, 7]]\r\n",
        "B= [[2, 4, 5, 9, 4],\r\n",
        "    [2, 7, 9, 3, 8],\r\n",
        "    [3, 6, 2, 7, 3],\r\n",
        "    [2, 8, 9, 9, 4]]\r\n",
        "\r\n",
        "\r\n",
        "def martix(A,B):\r\n",
        "  if len(A[0]) != len(B):\r\n",
        "    print('''Умножать матрицы можно тогда и только тогда,\r\n",
        "когда количество столбцов первой матрицы равно количеству строк второй матрицы''')\r\n",
        "  else:\r\n",
        "#сначала создаем пустую матрицу, по которой можно итерировать\r\n",
        "    row=0\r\n",
        "    column=0\r\n",
        "    C=[]\r\n",
        "    for i in A:\r\n",
        "      C.append([])\r\n",
        "    for i in C:\r\n",
        "      while len(i)<len(A):\r\n",
        "        j = 0\r\n",
        "        i.append(j)\r\n",
        "    row_a=0\r\n",
        "    column_a=0\r\n",
        "    row_b=0\r\n",
        "    column_b=0\r\n",
        "    elem=0\r\n",
        "#теперь необходимо по каждому элементу провести операции сложения произведений\r\n",
        "    for i in C: \r\n",
        "      while elem<len(C):\r\n",
        "          while row_b<len(B):\r\n",
        "            i[elem]+=(A[row_a])[column_a]*(B[row_b])[column_b]\r\n",
        "            column_a+=1\r\n",
        "            row_b+=1\r\n",
        "          elem+=1\r\n",
        "          row_b=0\r\n",
        "          column_a=0\r\n",
        "          column_b+=1\r\n",
        "      row_a+=1\r\n",
        "      column_a=0\r\n",
        "      row_b=0\r\n",
        "      column_b=0\r\n",
        "      elem=0\r\n",
        "\r\n",
        "      row_b=0\r\n",
        "    return C\r\n",
        "    \r\n",
        "\r\n",
        "  #return C\r\n",
        "martix(A,B)\r\n",
        "\r\n"
      ],
      "execution_count": null,
      "outputs": [
        {
          "output_type": "execute_result",
          "data": {
            "text/plain": [
              "[[33, 95, 87, 98, 63],\n",
              " [46, 134, 130, 132, 98],\n",
              " [52, 136, 126, 134, 112],\n",
              " [30, 83, 77, 103, 52],\n",
              " [44, 119, 109, 153, 74]]"
            ]
          },
          "metadata": {
            "tags": []
          },
          "execution_count": 137
        }
      ]
    },
    {
      "cell_type": "markdown",
      "metadata": {
        "id": "2E0uGv3cqQUw"
      },
      "source": [
        "6. a) $\r\n",
        "\\left(\r\n",
        "\\begin{array}{cccc}\r\n",
        "{sinx} & {-cosx} \\\\\r\n",
        "{cosx} & {sinx} \r\n",
        "\\end{array}\r\n",
        "\\right)= sinx^2-(-cosx)2=1 $\r\n"
      ]
    },
    {
      "cell_type": "code",
      "metadata": {
        "colab": {
          "base_uri": "https://localhost:8080/",
          "height": 0
        },
        "id": "yIrWzmxNnCHO",
        "outputId": "d15e6142-e122-4384-9fd1-267cb3e72316"
      },
      "source": [
        "import numpy as np\r\n",
        "x=np.random.sample()\r\n",
        "a = [np.sin(x), -(np.cos(x))]\r\n",
        "b = [np.cos(x), np.sin(x)]\r\n",
        "\r\n",
        "\r\n",
        "x = np.array([a, b])\r\n",
        "r=np.linalg.det(x)\r\n",
        "\r\n",
        "r=float('{:.6f}'.format(r))\r\n",
        "print(r)"
      ],
      "execution_count": 2,
      "outputs": [
        {
          "output_type": "stream",
          "text": [
            "1.0\n"
          ],
          "name": "stdout"
        }
      ]
    },
    {
      "cell_type": "markdown",
      "metadata": {
        "id": "TCl60YvBqQVO"
      },
      "source": [
        "6. б) $\r\n",
        "\\left(\r\n",
        "\\begin{array}{cccc}\r\n",
        "{8} & {4} & {6} \\\\\r\n",
        "{0} & {5} & {1} \\\\\r\n",
        "{0} & {0} & {9} \r\n",
        "\\end{array}\r\n",
        "\\right) = 8*5*9+0*4*1+0*0*6-0*5*6-8*0*1-0*5*9=360+0+0-0-0-0=360$"
      ]
    },
    {
      "cell_type": "code",
      "metadata": {
        "colab": {
          "base_uri": "https://localhost:8080/"
        },
        "id": "wFcln2M3mL6k",
        "outputId": "c65ae1de-3287-4c6d-f314-92344a7c5d1e"
      },
      "source": [
        "a = [8, 4, 6]\r\n",
        "b = [0, 5, 1]\r\n",
        "c = [0, 0, 9]\r\n",
        "\r\n",
        "x = np.array([a, b, c])\r\n",
        "r=np.linalg.det(x)\r\n",
        "r=float('{:.6f}'.format(r))\r\n",
        "print(r)"
      ],
      "execution_count": null,
      "outputs": [
        {
          "output_type": "stream",
          "text": [
            "360.0\n"
          ],
          "name": "stdout"
        }
      ]
    },
    {
      "cell_type": "markdown",
      "metadata": {
        "id": "sxvDUsSPqQVP"
      },
      "source": [
        "6. б) $\r\n",
        "\\left(\r\n",
        "\\begin{array}{cccc}\r\n",
        "{2} & {3} & {4} \\\\\r\n",
        "{5} & {6} & {7} \\\\\r\n",
        "{8} & {9} & {10} \r\n",
        "\\end{array}\r\n",
        "\\right)=2*6*10+8*3*7+5*9*4-8*6*4-2*9*7-5*3*10=120+168+180-192-126-150=468-468=0$"
      ]
    },
    {
      "cell_type": "code",
      "metadata": {
        "colab": {
          "base_uri": "https://localhost:8080/"
        },
        "id": "fwSFHT1ml9Hk",
        "outputId": "a0316ae8-0e93-4e5e-b719-4b094126ee42"
      },
      "source": [
        "a = [2, 3, 4]\r\n",
        "b = [5, 6, 7]\r\n",
        "c = [8, 9, 10]\r\n",
        "\r\n",
        "x = np.array([a, b, c])\r\n",
        "r=np.linalg.det(x)\r\n",
        "r"
      ],
      "execution_count": null,
      "outputs": [
        {
          "output_type": "execute_result",
          "data": {
            "text/plain": [
              "0.0"
            ]
          },
          "metadata": {
            "tags": []
          },
          "execution_count": 288
        }
      ]
    },
    {
      "cell_type": "markdown",
      "metadata": {
        "id": "9jBJoYYKwhqo"
      },
      "source": [
        "7.\r\n",
        "а) $det(A^{2})=|A|*|A|=4*4=16$;\r\n",
        "    \r\n",
        "б) $det(A^{T})= 4$;\r\n",
        "    \r\n",
        "в) $det(2A)=8$."
      ]
    },
    {
      "cell_type": "markdown",
      "metadata": {
        "id": "PnnYgYBiu2M2"
      },
      "source": [
        "8.  $\r\n",
        "\\left(\r\n",
        "\\begin{array}{cccc}\r\n",
        "{-2} & {7} & {-3} \\\\\r\n",
        "{4} & {-14} & {6} \\\\\r\n",
        "{-3} & {7} & {13} \r\n",
        "\\end{array}\r\n",
        "\\right)=(-2)*(-14)*13+(-3)*7*6+4*7*(-3)-(-3)*(-14)*(-3)-(-2)*7*6-4*7*13=364+(-126)+(-84)-(-126)-(-84)-364= 0 $\r\n",
        "Определитель матрицы равен 0, а значит матрица вырожденная"
      ]
    },
    {
      "cell_type": "code",
      "metadata": {
        "colab": {
          "base_uri": "https://localhost:8080/",
          "height": 0
        },
        "id": "gYqYr69MlAXG",
        "outputId": "84ef2751-399c-4c16-9aac-2ab2f973870b"
      },
      "source": [
        "a = [-2, 7, -3]\r\n",
        "b = [4, -14, 6]\r\n",
        "c = [-3, 7, 13]\r\n",
        "\r\n",
        "x = np.array([a, b, c])\r\n",
        "r=np.linalg.det(x)\r\n",
        "if r == 0:\r\n",
        "  print('матрица вырожденная')\r\n",
        "else:\r\n",
        "  print('матрица не вырожденная')"
      ],
      "execution_count": 3,
      "outputs": [
        {
          "output_type": "stream",
          "text": [
            "матрица вырожденная\n"
          ],
          "name": "stdout"
        }
      ]
    },
    {
      "cell_type": "markdown",
      "metadata": {
        "id": "6zxtKTQo3igo"
      },
      "source": [
        "9. из первой строки вычтем вторую, затем из третьей строки вычтем две вторых строки. Т.к. строки 1 и 3 равны убираем последнюю и матрица становится 2 на 3. Следовательно ранг равен 2. $$\r\n",
        "\\left(\r\n",
        "\\begin{array}{cccc}\r\n",
        "{0} & {1} & {2} \\\\\r\n",
        "{1} & {1} & {1} \\\\\r\n",
        "{2} & {3} & {4} \r\n",
        "\\end{array}\r\n",
        "\\right) - - \\left(\r\n",
        "\\begin{array}{cccc}\r\n",
        "{0} & {1} & {2} \\\\\r\n",
        "{1} & {1} & {1} \\\\\r\n",
        "{0} & {1} & {2} \r\n",
        "\\end{array}\r\n",
        "\\right)-- \\left(\r\n",
        "\\begin{array}{cccc}\r\n",
        "{0} & {1} & {2} \\\\\r\n",
        "{1} & {1} & {1}\r\n",
        "\\end{array}\r\n",
        "\\right)$$"
      ]
    },
    {
      "cell_type": "code",
      "metadata": {
        "colab": {
          "base_uri": "https://localhost:8080/"
        },
        "id": "18_euejyjJWH",
        "outputId": "2eecd9ec-b2cd-4533-cce1-edfe24db6fb5"
      },
      "source": [
        "import numpy as np\r\n",
        "a = [1, 2, 3]\r\n",
        "b = [1, 1, 1]\r\n",
        "c = [2, 3, 4]\r\n",
        "\r\n",
        "\r\n",
        "x = np.array([a, b, c])\r\n",
        "r = np.linalg.matrix_rank(x)\r\n",
        "\r\n",
        "print(f'Ранг матрицы: {r}')"
      ],
      "execution_count": null,
      "outputs": [
        {
          "output_type": "stream",
          "text": [
            "Ранг матрицы: 2\n"
          ],
          "name": "stdout"
        }
      ]
    },
    {
      "cell_type": "markdown",
      "metadata": {
        "id": "_z9Eeqgv87du"
      },
      "source": [
        "9. К первой строке прибавляем третью и вычетаем из не три вторых строки. Потом третью строку умножаем на два и вычитваем из нее четыре вторых строки. Т.к. первая и третья строки эквивалентны удаляем первую и получаем матрицу из трех независимых строк. Значит ранг равен 3 $$\r\n",
        "\\left(\r\n",
        "\\begin{array}{cccc}\r\n",
        "{0} & {0} & {2} & {1}\\\\\r\n",
        "{0} & {0} & {2} & {2}\\\\\r\n",
        "{0} & {0} & {4} & {3}\\\\\r\n",
        "{2} & {3} & {5} & {6}\r\n",
        "\\end{array}\r\n",
        "\\right) - - \\left(\r\n",
        "\\begin{array}{cccc}\r\n",
        "{0} & {0} & {0} & {0}\\\\\r\n",
        "{0} & {0} & {2} & {2}\\\\\r\n",
        "{0} & {0} & {4} & {3}\\\\\r\n",
        "{2} & {3} & {5} & {6}\r\n",
        "\\end{array}\r\n",
        "\\right)-- \\left(\r\n",
        "\\begin{array}{cccc}\r\n",
        "{0} & {0} & {0} & {0}\\\\\r\n",
        "{0} & {0} & {2} & {2}\\\\\r\n",
        "{0} & {0} & {0} & {0}\\\\\r\n",
        "{2} & {3} & {5} & {6}\r\n",
        "\\end{array}\r\n",
        "\\right)--\\left(\r\n",
        "\\begin{array}{cccc}\r\n",
        "{0} & {0} & {0} & {0}\\\\\r\n",
        "{0} & {0} & {2} & {2}\\\\\r\n",
        "{2} & {3} & {5} & {6}\r\n",
        "\\end{array}\r\n",
        "\\right)$$"
      ]
    },
    {
      "cell_type": "code",
      "metadata": {
        "colab": {
          "base_uri": "https://localhost:8080/"
        },
        "id": "5UJ2KkI7jk56",
        "outputId": "50f214e1-51d8-4643-cc18-77675357db31"
      },
      "source": [
        "import numpy as np\r\n",
        "a = [0, 0, 2, 1]\r\n",
        "b = [0, 0, 2, 2]\r\n",
        "c = [0, 0, 3, 4]\r\n",
        "d = [2, 3, 5, 6]\r\n",
        "\r\n",
        "x = np.array([a, b, c, d])\r\n",
        "r = np.linalg.matrix_rank(x)\r\n",
        "\r\n",
        "print(f'Ранг матрицы: {r}')"
      ],
      "execution_count": null,
      "outputs": [
        {
          "output_type": "stream",
          "text": [
            "Ранг матрицы: 3\n"
          ],
          "name": "stdout"
        }
      ]
    },
    {
      "cell_type": "markdown",
      "metadata": {
        "id": "ekAaqmaE3E1T"
      },
      "source": [
        "# Доп материалы\n",
        "1. [Способы задать матрицу в NumPy](https://docs.scipy.org/doc/numpy-1.10.1/user/basics.creation.html).\n",
        "2. [numpy.transpose](https://docs.scipy.org/doc/numpy-1.10.0/reference/generated/numpy.transpose.html).\n",
        "3. [array.T](https://docs.scipy.org/doc/numpy-1.10.0/reference/generated/numpy.ndarray.T.html).\n",
        "4. [Перемножение матриц в NumPy](https://docs.scipy.org/doc/numpy-1.10.0/reference/routines.linalg.html#matrix-and-vector-products).\n",
        "\n",
        "5. [Определитель матрицы в NumPy](https://docs.scipy.org/doc/numpy-1.14.2/reference/generated/numpy.linalg.det.html)\n",
        "\n",
        "6. [Ранг матрицы в NumPy](https://docs.scipy.org/doc/numpy-1.14.2/reference/generated/numpy.linalg.matrix_rank.html)\n",
        "\n",
        "7. [Обращение матриц в NumPy](https://docs.scipy.org/doc/numpy/reference/generated/numpy.linalg.inv.html)"
      ]
    }
  ]
}
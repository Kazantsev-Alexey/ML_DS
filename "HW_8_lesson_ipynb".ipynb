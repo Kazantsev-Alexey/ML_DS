{
  "nbformat": 4,
  "nbformat_minor": 0,
  "metadata": {
    "colab": {
      "name": "Копия блокнота \"HW_8_lesson.ipynb\"",
      "provenance": [],
      "collapsed_sections": [],
      "include_colab_link": true
    },
    "kernelspec": {
      "name": "python3",
      "display_name": "Python 3"
    }
  },
  "cells": [
    {
      "cell_type": "markdown",
      "metadata": {
        "id": "view-in-github",
        "colab_type": "text"
      },
      "source": [
        "<a href=\"https://colab.research.google.com/github/Kazantsev-Alexey/ML_DS/blob/main/%22HW_8_lesson_ipynb%22.ipynb\" target=\"_parent\"><img src=\"https://colab.research.google.com/assets/colab-badge.svg\" alt=\"Open In Colab\"/></a>"
      ]
    },
    {
      "cell_type": "markdown",
      "metadata": {
        "id": "EXNSbmw6XLxd"
      },
      "source": [
        "# Домашнее задание к 8 уроку\n",
        "\n",
        "**Дедлайн: 26.12.2020**"
      ]
    },
    {
      "cell_type": "markdown",
      "metadata": {
        "id": "W_0KSzEQYPKp"
      },
      "source": [
        "HW in colab: https://colab.research.google.com/drive/1RKW91O1ZpMuu63th7P_hj9qOsaaD3qP1?usp=sharing"
      ]
    },
    {
      "cell_type": "markdown",
      "metadata": {
        "id": "NGqts9_OHZJA"
      },
      "source": [
        "Ссылка на решенное дз: https://colab.research.google.com/drive/1JUGnkotvg_hepgCtN0-c0RO5gZNRwUpp?usp=sharing"
      ]
    },
    {
      "cell_type": "markdown",
      "metadata": {
        "id": "1kAn7WV4XOMZ"
      },
      "source": [
        "**ФОРМАТ ОТЧЕТНОСТИ:** pdf-файл с решенными задачами или же ноутбук с решенными задачи на языке Markdown."
      ]
    },
    {
      "cell_type": "markdown",
      "metadata": {
        "id": "PllPM_9rLzSh"
      },
      "source": [
        "# Часть 1. СЛАУ"
      ]
    },
    {
      "cell_type": "markdown",
      "metadata": {
        "id": "GSL00ab2HVDc"
      },
      "source": [
        "__1.__ Решить систему уравнений методом Гаусса:\n",
        "\n",
        "$$\\begin{cases}\n",
        "x_{1}+x_{2}-x_{3}-2x_{4}=0, \\\\\n",
        "2x_{1}+x_{2}-x_{3}+x_{4}=-2, \\\\\n",
        "x_{1}+x_{2}-3x_{3}+x_{4}=4.\n",
        "\\end{cases}$$\n",
        "\n",
        "__2.__ Проверить на совместность и выяснить, сколько решений будет иметь система линейных уравнений:\n",
        "\n",
        "   а) $\\begin{cases}\n",
        "3x_{1}-x_{2}+x_{3}=4, \\\\\n",
        "2x_{1}-5x_{2}-3x_{3}=-17, \\\\\n",
        "x_{1}+x_{2}-x_{3}=0;\n",
        "\\end{cases}$\n",
        "    \n",
        "   б) $\\begin{cases}\n",
        "2x_{1}-4x_{2}+6x_{3}=1, \\\\\n",
        "x_{1}-2x_{2}+3x_{3}=-2, \\\\\n",
        "3x_{1}-6x_{2}+9x_{3}=5;\n",
        "\\end{cases}$\n",
        "    \n",
        "   в) $\\begin{cases}\n",
        "x_{1}+2x_{2}+5x_{3}=4, \\\\\n",
        "3x_{1}+x_{2}-8x_{3}=-2. \n",
        "\\end{cases}$"
      ]
    },
    {
      "cell_type": "markdown",
      "metadata": {
        "id": "uNUi5P9Jw0QN"
      },
      "source": [
        ""
      ]
    },
    {
      "cell_type": "markdown",
      "metadata": {
        "id": "cBTLhpCylm5g"
      },
      "source": [
        "1. Задание \r\n",
        "$\\begin{cases}\r\n",
        "x_{1}+x_{2}-x_{3}-2x_{4}=0, \\\\\r\n",
        "2x_{1}+x_{2}-x_{3}+x_{4}=-2, \\\\\r\n",
        "x_{1}+x_{2}-3x_{3}+x_{4}=4.\r\n",
        "\\end{cases}= \\left(\r\n",
        "\\begin{array}{cccc}\r\n",
        "{1} & {1} & {-1} & {-2} &| {0} \\\\\r\n",
        "{2} & {1} & {-1}& {1} &| {-2}\\\\\r\n",
        "{1} & {1} & {-3}& {1} &| {4}\r\n",
        "\\end{array}\r\n",
        "\\right)=\\left(\r\n",
        "\\begin{array}{cccc}\r\n",
        "{1} & {1} & {-1} & {-2} &| {0} \\\\\r\n",
        "{2} & {1} & {-1}& {1} &| {-2}\\\\\r\n",
        "{0} & {0} & {-2}& {3} &| {4}\r\n",
        "\\end{array}\r\n",
        "\\right)=\\left(\r\n",
        "\\begin{array}{cccc}\r\n",
        "{1} & {1} & {-1} & {-2} &| {0} \\\\\r\n",
        "{0} & {-1} & {1}& {5} &| {-2}\\\\\r\n",
        "{0} & {0} & {-2}& {3} &| {4}\r\n",
        "\\end{array}\r\n",
        "\\right)= \\begin{cases}\r\n",
        "x_{1}+x_{2}-x_{3}-2x_{4}=0, \\\\\r\n",
        "-x_{2}+x_{3}+5x_{4}=-2, \\\\\r\n",
        "-2x_{3}+3x_{4}=4.\r\n",
        "\\end{cases}= \\begin{cases}\r\n",
        "x_{1}+x_{2}-x_{3}-2x_{4}=0, \\\\\r\n",
        "-x_{2}+x_{3}+5x_{4}=-2, \\\\\r\n",
        "-x_{3}=2-1,5x_{4}.\r\n",
        "\\end{cases}=\\begin{cases}\r\n",
        "x_{1}+x_{2}-x_{3}-2x_{4}=0, \\\\\r\n",
        "x_{2}=6,5x_{4}, \\\\\r\n",
        "x_{3}=-2+1,5x_{4}.\r\n",
        "\\end{cases}=\\begin{cases}\r\n",
        "x_{1}=-6,5x_{4}-2+1,5x_{4}+2x_{4}, \\\\\r\n",
        "x_{2}=6,5x_{4}, \\\\\r\n",
        "x_{3}=-2+1,5x_{4}.\r\n",
        "\\end{cases}=\\begin{cases}\r\n",
        "x_{1}=-2-3x_{4}, \\\\\r\n",
        "x_{2}=6,5x_{4}, \\\\\r\n",
        "x_{3}=-2+1,5x_{4}.\r\n",
        "\\end{cases}$"
      ]
    },
    {
      "cell_type": "markdown",
      "metadata": {
        "id": "m9QIlE1XAc5c"
      },
      "source": [
        "Задание 2.А\r\n",
        "$\\begin{cases}\r\n",
        "3x_{1}-x_{2}+x_{3}=4, \\\\\r\n",
        "2x_{1}-5x_{2}-3x_{3}=-17, \\\\\r\n",
        "x_{1}+x_{2}-x_{3}=0\r\n",
        "\\end{cases}= \\left(\r\n",
        "\\begin{array}{cccc}\r\n",
        "{0} & {-13} & {-11}  &| {-59} \\\\\r\n",
        "{2} & {-5} & {-3} &| {-17}\\\\\r\n",
        "{1} & {1} & {-1}  &| {0}\r\n",
        "\\end{array}\r\n",
        "\\right)=\\left(\r\n",
        "\\begin{array}{cccc}\r\n",
        "{0} & {0} & {-64}  &| {-192} \\\\\r\n",
        "{0} & {7} & {1} &| {17}\\\\\r\n",
        "{1} & {1} & {-1}  &| {0}\r\n",
        "\\end{array}\r\n",
        "\\right)=\\begin{cases}\r\n",
        "-64x_{3}=-192, \\\\\r\n",
        "7x_{2}+1x_{3}=17, \\\\\r\n",
        "x_{1}+x_{2}-x_{3}=0\r\n",
        "\\end{cases} =  \\begin{cases}\r\n",
        "x_{3}=3, \\\\\r\n",
        "7x_{2}+3=17, \\\\\r\n",
        "x_{1}+x_{2}-x_{3}=0\r\n",
        "\\end{cases} \\ x_{3}=3, x_{2}=2, x_{3}=1$"
      ]
    },
    {
      "cell_type": "markdown",
      "metadata": {
        "id": "SQMVSW1oxJcE"
      },
      "source": [
        "Задание 2.Б\r\n",
        "$$\\begin{cases}\r\n",
        "2x_{1}-4x_{2}+6x_{3}=1, \\\\\r\n",
        "x_{1}-2x_{2}+3x_{3}=-2, \\\\\r\n",
        "3x_{1}-6_{2}+9x_{3}=5\r\n",
        "\\end{cases}= \\left(\r\n",
        "\\begin{array}{cccc}\r\n",
        "{2} & {-4} & {6}  &| {1} \\\\\r\n",
        "{1} & {-2} & {3} &| {-2}\\\\\r\n",
        "{3} & {-6} & {9}  &| {5}\r\n",
        "\\end{array}\r\n",
        "\\right)= \\left(\r\n",
        "\\begin{array}{cccc}\r\n",
        "{0} & {0} & {0}  &| {5} \\\\\r\n",
        "{1} & {-2} & {3} &| {-2}\\\\\r\n",
        "{3} & {-6} & {9}  &| {5}\r\n",
        "\\end{array}\r\n",
        "\\right)=\\left(\r\n",
        "\\begin{array}{cccc}\r\n",
        "{0} & {0} & {0}  &| {5} \\\\\r\n",
        "{1} & {-2} & {3} &| {-2}\\\\\r\n",
        "{0} & {0} & {0}  &| {11}\r\n",
        "\\end{array}\r\n",
        "\\right) = \\left(\r\n",
        "\\begin{array}{cccc}\r\n",
        "{0} & {0} & {0}  &| {5} \\\\\r\n",
        "{1} & {-2} & {3} &| {-2}\r\n",
        "\\end{array}\r\n",
        "\\right)$$\r\n",
        "Количество ненулевых строк в матрице равно 1, в расширенной - 2. СЛАУ несовместна"
      ]
    },
    {
      "cell_type": "markdown",
      "metadata": {
        "id": "gziiwXFPm1-Z"
      },
      "source": [
        "Задание 2.В\r\n",
        "$$\\begin{cases}\r\n",
        "x_{1}+2x_{2}+5x_{3}=4, \\\\\r\n",
        "3x_{1}+x_{2}-8x_{3}=-2, \r\n",
        "\\end{cases}= \\left(\r\n",
        "\\begin{array}{cccc}\r\n",
        "{1} & {2} & {5}  &| {4} \\\\\r\n",
        "{3} & {1} & {-8} &| {-2}\r\n",
        "\\end{array}\r\n",
        "\\right)= \\left(\r\n",
        "\\begin{array}{cccc}\r\n",
        "{1} & {2} & {5}  &| {4} \\\\\r\n",
        "{0} & {-5} & {-23} &| {-14}\r\n",
        "\\end{array}\r\n",
        "\\right)= \\begin{cases}\r\n",
        "x_{1}+2x_{2}+5x_{3}=4, \\\\\r\n",
        "-5x_{2}-23x_{3}=-14, \r\n",
        "\\end{cases}= \\begin{cases}\r\n",
        "x_{1}+2x_{2}=4-5x_{3}, \\\\\r\n",
        "x_{2}=14/5 - 23/5x, \r\n",
        "\\end{cases}=\\begin{cases}\r\n",
        "x_{1}=-28/5 + 46/5x_{3}+20/5 -25/5x_{3}, \\\\\r\n",
        "x_{2}=14/5 - 23/5x_{3}, \r\n",
        "\\end{cases}=\\begin{cases}\r\n",
        "x_{1}=-8/5 + 21/5x_{3}, \\\\\r\n",
        "x_{2}=14/5 - 23/5x, \r\n",
        "\\end{cases}$$\r\n",
        "Система является неопределенной"
      ]
    },
    {
      "cell_type": "markdown",
      "metadata": {
        "id": "GABKcHcfL3sC"
      },
      "source": [
        "# Часть 2. Дифференцируемость функций"
      ]
    },
    {
      "cell_type": "markdown",
      "metadata": {
        "id": "d8AAGigdHVGZ"
      },
      "source": [
        "Прочитайте краткую статью-обзор про **функции активации** в нейронных сетях. Дальше в курсе мы еще с Вами об этом поговорим, а сейчас достаточно знать какие функции активации нейронов существуют и определять дифференцируемы они или нет.\n",
        "\n",
        "Прочитайте следющие статьи:\n",
        "- https://www.machinelearningmastery.ru/complete-guide-of-activation-functions-34076e95d044/\n",
        "- https://missinglink.ai/guides/neural-network-concepts/7-types-neural-network-activation-functions-right/\n",
        "\n",
        "и выполните следующие задачи:"
      ]
    },
    {
      "cell_type": "markdown",
      "metadata": {
        "id": "yuSNlofZXAL3"
      },
      "source": [
        "## Задания"
      ]
    },
    {
      "cell_type": "markdown",
      "metadata": {
        "id": "g17tNv9WLx0n"
      },
      "source": [
        "**1.** Для чего необходимо определять дифференцируемость/недефференцируемость функций активации в сетях?"
      ]
    },
    {
      "cell_type": "markdown",
      "metadata": {
        "id": "xDhZHzR30KXE"
      },
      "source": [
        "1. Это необходимо для понимания возможно ли будет задать для обучения метод обратного распространения ошибки. Если функция дифференцируема не на всей длине оси, то будут возникать проблемы с методом градиентного спуска"
      ]
    },
    {
      "cell_type": "markdown",
      "metadata": {
        "id": "OxYiiJhGMErP"
      },
      "source": [
        "**2.** Даны 1-6. Вычислите следующие характеристики:\n",
        "\n",
        "- производную функции\n",
        "- область значений\n",
        "- монотонность (монотонная или нет)\n",
        "\n",
        "1. **Identity.** $f(x)=x$\n",
        "2. **Binary step/Единичная ступенька**. $f(x)=\\left\\{\\begin{array}{ll}0 & x<0 \\\\ 1 & x \\geqslant 0\\end{array}\\right.$\n",
        "3. **Hyperbolic tangent/Гиперболический тангенс**. $f(x)=\\operatorname{th}(x)=\\frac{\\left(e^{x}-e^{-x}\\right)}{\\left(e^{x}+e^{-x}\\right)}$\n",
        "4. **ReLU**. $f(x)=\\left\\{\\begin{array}{ll}0 & x<0 \\\\ x & x \\geqslant 0\\end{array}\\right.$\n",
        "5. **Softplus**. $f(x)=\\ln \\left(1+e^{x}\\right)$\n",
        "6. **Синусоида**. $f(x)=\\sin (x)$\n",
        "\n",
        "Если функция дифференцируема на интервале  (a,b) и принадлежит к одному из четырехтипов (т.е. является возрастающей, строго возрастающей, убывающей или строго убывающей), то такая функция называется **монотонной** на данном интервале. \n",
        "<img src=\"https://github.com/ddvika/Data-Science-School-2020/blob/main/lecture_8/imgs/graphs.png?raw=true\" height=400 />"
      ]
    },
    {
      "cell_type": "markdown",
      "metadata": {
        "id": "fKHN1URvMcdb"
      },
      "source": [
        "Пример:\n",
        "\n",
        " **0**. Дана функция **Softsign:** $f(x)=\\frac{x}{1+|x|}$\n",
        "\n",
        " 1. Производная функции:\n",
        " $f'(x)=(\\frac{x}{1+|x|})' $\n",
        "\n",
        "- Воспользуемся правилом нахождения производной от частного: \n",
        "\n",
        "\n",
        "$$\\frac{d}{d x}\\left(\\frac{u}{v}\\right)=\\frac{v \\frac{d u}{d x}-u \\frac{d v}{d x}}{v^{2}}$$\n",
        "Где $u = x$ и $ v = |x| + 1$.\n",
        "\n",
        "Следовательно, в нашем случае имеем:\n",
        "\n",
        "$\\frac{d}{d x}\\left(\\frac{x}{1+|x|}\\right)= \\frac{(1+|x|)\\left(\\frac{d}{d x}(x)\\right)-x\\left(\\frac{d}{d x}(1+|x|)\\right)}{(1+|x|)^{2}}= \\frac{1+|x|-x\\left(\\frac{d}{d x}(1+|x|)\\right)}{(1+|x|)^{2}}=\\frac{1+|x|-x\\left(\\frac{d}{d x}(|x|)+0\\right)}{(1+|x|)^{2}} = $\n",
        "\n",
        "- Запишем $\\frac{d}{d x}(|x|)$ след. образом  $\\frac{d}{d x}(|x|)=\\frac{d|u|}{d u} \\frac{d u}{d x}$, где $u=x$, $\\frac{d}{d u}(|u|)=\\frac{u}{|u|}$\n",
        "\n",
        "$= \\frac{1+|x|-\\frac{x\\left(\\frac{d}{d x}(x)\\right)}{|x|}}{(1+|x|)^{2}}= \\frac{1+|x|-\\frac{x^{2}\\left(\\frac{d}{d x}(x)\\right)}{|x|}}{(1+|x|)^{2}}= \\frac{1+|x|-1 \\mid \\frac{x^{2}}{|x|}}{(1+|x|)^{2}}= \\frac{1}{(1+|x|)^{2}}$\n",
        "\n",
        "$$f'(x) = \\frac{1}{(1+|x|)^{2}}$$\n",
        "\n",
        "**P.S.** Находить производную можно менее подробно!\n",
        "\n",
        "2. Область значений функции:\n",
        "\n",
        "Знаменатель функции не должен быть равен 0:\n",
        "\n",
        "$|x|+1 \\neq 0 \\rightarrow x \\in R$, то есть область значений - множество всех действительных чисел. \n",
        "\n",
        "Теперь найдем множество значений:\n",
        "\n",
        "Пусть $$\\frac{x}{1+|x|} = a$$\n",
        "Решая уравнение $ \\frac{x}{1+|x|}- a =0 $, получим $E = (-1,1)$\n",
        "\n",
        "\n",
        "\n",
        "$$E = (-1,1)$$\n",
        "\n",
        "3. Определим моннотонна ли функция\n",
        "\n",
        "- построим график функции"
      ]
    },
    {
      "cell_type": "code",
      "metadata": {
        "colab": {
          "base_uri": "https://localhost:8080/",
          "height": 295
        },
        "id": "3gBae6jJUUJ3",
        "outputId": "2a04b714-ca77-42b4-b108-f86bdde96e90"
      },
      "source": [
        "import numpy as np\n",
        "import matplotlib.pyplot as plt\n",
        "\n",
        "def f(x):\n",
        "    return x/(1+abs(x))\n",
        "\n",
        "a = np.arange(-100, 100)\n",
        "plt.plot(a, f(a))\n",
        "plt.title('Softsign')\n",
        "plt.xlabel('x')\n",
        "plt.ylabel('f(x)')\n",
        "plt.show()"
      ],
      "execution_count": null,
      "outputs": [
        {
          "output_type": "display_data",
          "data": {
            "image/png": "[encoded data removed]",
            "text/plain": [
              "<Figure size 432x288 with 1 Axes>"
            ]
          },
          "metadata": {
            "tags": [],
            "needs_background": "light"
          }
        }
      ]
    },
    {
      "cell_type": "markdown",
      "metadata": {
        "id": "lZz_LHD1U7u_"
      },
      "source": [
        "**Ответ: функция монотонна**"
      ]
    },
    {
      "cell_type": "markdown",
      "metadata": {
        "id": "o060JYePVAIU"
      },
      "source": [
        "# Ваше решение тут"
      ]
    },
    {
      "cell_type": "markdown",
      "metadata": {
        "id": "2rX5sIMBXtja"
      },
      "source": [
        "\n",
        "**P.S.** Находить производну можно менее подробно чем в примере! но нахождение каждого пункта решения и отрисовка графиков обязательна (С названием графика и подписью осей как в примере!)."
      ]
    },
    {
      "cell_type": "markdown",
      "metadata": {
        "id": "7v7CPyLbRbm5"
      },
      "source": [
        "1. Дана функция **Identity.** $f(x)=x$\r\n",
        "Тогда $$f'(x)=1$$\r\n",
        "2. Область значений функции:\r\n",
        "$$y = (-{\\infty},+{\\infty}R$$\r\n",
        "3. Определим моннотонна ли функция"
      ]
    },
    {
      "cell_type": "code",
      "metadata": {
        "id": "IDs8FAL0Lpm_",
        "colab": {
          "base_uri": "https://localhost:8080/",
          "height": 295
        },
        "outputId": "0d762786-fff1-410e-94c4-75185552371f"
      },
      "source": [
        "import numpy as np\r\n",
        "import matplotlib.pyplot as plt\r\n",
        "\r\n",
        "def f(x):\r\n",
        "    return x\r\n",
        "\r\n",
        "a = np.arange(-100, 100)\r\n",
        "plt.plot(a, f(a))\r\n",
        "plt.title('Identity')\r\n",
        "plt.xlabel('x')\r\n",
        "plt.ylabel('f(x)')\r\n",
        "plt.show()"
      ],
      "execution_count": null,
      "outputs": [
        {
          "output_type": "display_data",
          "data": {
            "image/png": "[encoded data removed]",
            "text/plain": [
              "<Figure size 432x288 with 1 Axes>"
            ]
          },
          "metadata": {
            "tags": [],
            "needs_background": "light"
          }
        }
      ]
    },
    {
      "cell_type": "markdown",
      "metadata": {
        "id": "9HyppgGiS9Aj"
      },
      "source": [
        "**Ответ: функция монотонна**"
      ]
    },
    {
      "cell_type": "markdown",
      "metadata": {
        "id": "UIH9lDU-TBdl"
      },
      "source": [
        "1. Дана **Binary step/Единичная ступенька**. $$f(x)=\\left\\{\\begin{array}{ll}0 & x<0 \\\\ 1 & x \\geqslant 0\\end{array}\\right.$$\r\n",
        "Тогда $$f'(x)=\\left\\{\\begin{array}{ll}0 & x<0 \\\\ 0 & x \\geqslant 0\\end{array}\\right.$$\r\n",
        "2. Область значений функции:\r\n",
        "$$-{\\infty}<x<+{\\infty};$$ $$ y= (0, 1)$$\r\n",
        "3. Определим моннотонна ли функция"
      ]
    },
    {
      "cell_type": "code",
      "metadata": {
        "colab": {
          "base_uri": "https://localhost:8080/",
          "height": 295
        },
        "id": "LNtfSfaeZrhr",
        "outputId": "7af2cc09-c072-41f1-ca16-cd1dca5a2680"
      },
      "source": [
        "import numpy as np\r\n",
        "import matplotlib.pyplot as plt\r\n",
        "\r\n",
        "def f(x):\r\n",
        "  y=np.array([])\r\n",
        "  for i in x:\r\n",
        "    if i <0:\r\n",
        "     y=np.append(y, 0)\r\n",
        "    else:\r\n",
        "     y=np.append(y, 1)\r\n",
        "  return y\r\n",
        "\r\n",
        "a = np.arange(-100, 100)\r\n",
        "plt.plot(a, f(a))\r\n",
        "\r\n",
        "plt.title('Binary step')\r\n",
        "plt.xlabel('x')\r\n",
        "plt.ylabel('f(x)')\r\n",
        "plt.show()"
      ],
      "execution_count": null,
      "outputs": [
        {
          "output_type": "display_data",
          "data": {
            "image/png": "[encoded data removed]",
            "text/plain": [
              "<Figure size 432x288 with 1 Axes>"
            ]
          },
          "metadata": {
            "tags": [],
            "needs_background": "light"
          }
        }
      ]
    },
    {
      "cell_type": "markdown",
      "metadata": {
        "id": "rKuP2lgegwT1"
      },
      "source": [
        "**Ответ: функция монотонна**"
      ]
    },
    {
      "cell_type": "markdown",
      "metadata": {
        "id": "XbBv1FPzhB3D"
      },
      "source": [
        "1. Дана функция **Hyperbolic tangent/Гиперболический тангенс**. $$f(x)=\\operatorname{th}(x)=\\frac{\\left(e^{x}-e^{-x}\\right)}{\\left(e^{x}+e^{-x}\\right)}$$\r\n",
        "Тогда $$f'(x)=((sinhx)'*coshx-sinhx*(coshx)')/cosh^2x= (cosh^2x-sinh^2x)/ cosh^2x=1/cosh^2x$$\r\n",
        "2. Область значений функции. \r\n",
        "$$-{\\infty}<x<+{\\infty}$$ $$-1<y<1$$"
      ]
    },
    {
      "cell_type": "markdown",
      "metadata": {
        "id": "cHKXSlU77cm-"
      },
      "source": [
        ""
      ]
    },
    {
      "cell_type": "code",
      "metadata": {
        "colab": {
          "base_uri": "https://localhost:8080/",
          "height": 295
        },
        "id": "c4z-QvJFMAV1",
        "outputId": "43b6b435-da4f-4d00-ae20-0255ff2dced2"
      },
      "source": [
        "def f(x):\r\n",
        "  e= 2.7182818284\r\n",
        "  y=(e**x-e**-x)/ (e**x+e**-x)\r\n",
        "  return y\r\n",
        "\r\n",
        "a = np.arange(-100, 100)\r\n",
        "plt.plot(a, f(a))\r\n",
        "plt.title(' Hyperbolic tangent')\r\n",
        "plt.xlabel('x')\r\n",
        "plt.ylabel('f(x)')\r\n",
        "plt.show()"
      ],
      "execution_count": null,
      "outputs": [
        {
          "output_type": "display_data",
          "data": {
            "image/png": "[encoded data removed]",
            "text/plain": [
              "<Figure size 432x288 with 1 Axes>"
            ]
          },
          "metadata": {
            "tags": [],
            "needs_background": "light"
          }
        }
      ]
    },
    {
      "cell_type": "markdown",
      "metadata": {
        "id": "zfZC0LIeC82P"
      },
      "source": [
        "**Ответ: функция монотонна**"
      ]
    },
    {
      "cell_type": "markdown",
      "metadata": {
        "id": "0TCcTWm0xUGn"
      },
      "source": [
        "1. Дана функция **ReLU**. $$f(x)=\\left\\{\\begin{array}{ll}0 & x<0 \\\\ x & x \\geqslant 0\\end{array}\\right.$$\r\n",
        "Тогда производная функции $$ f'(x)=\\left\\{\\begin{array}{ll}0 & x<0 \\\\ 1 & x \\geqslant 0\\end{array}\\right.$$\r\n",
        "2. Область значений: $$y= (0, -{\\infty}) $$"
      ]
    },
    {
      "cell_type": "code",
      "metadata": {
        "colab": {
          "base_uri": "https://localhost:8080/",
          "height": 295
        },
        "id": "oxEb2SZ4xxDK",
        "outputId": "443e1fc8-8ee8-4747-ee36-317bdedea241"
      },
      "source": [
        "import numpy as np\r\n",
        "import matplotlib.pyplot as plt\r\n",
        "\r\n",
        "def f(x):\r\n",
        "  y=np.array([])\r\n",
        "  for i in x:\r\n",
        "    if i <0:\r\n",
        "     y=np.append(y, 0)\r\n",
        "    else:\r\n",
        "     y=np.append(y, i)\r\n",
        "  return y\r\n",
        "\r\n",
        "a = np.arange(-100, 100)\r\n",
        "plt.plot(a, f(a))\r\n",
        "\r\n",
        "plt.title('ReLU')\r\n",
        "plt.xlabel('x')\r\n",
        "plt.ylabel('f(x)')\r\n",
        "plt.show()"
      ],
      "execution_count": null,
      "outputs": [
        {
          "output_type": "display_data",
          "data": {
            "image/png": "[encoded data removed]",
            "text/plain": [
              "<Figure size 432x288 with 1 Axes>"
            ]
          },
          "metadata": {
            "tags": [],
            "needs_background": "light"
          }
        }
      ]
    },
    {
      "cell_type": "markdown",
      "metadata": {
        "id": "bR2Qs5lpDBp-"
      },
      "source": [
        "**Ответ: функция монотонна**"
      ]
    },
    {
      "cell_type": "markdown",
      "metadata": {
        "id": "P_FGQkhbzBGv"
      },
      "source": [
        "1. Дана функция **Softplus**. $$f(x)=\\ln \\left(1+e^{x}\\right)$$\r\n",
        " Тогда производная: $$f'(x)=1/(1+e^x)* (0 + e^x)=e^x/(1+e^x)$$\r\n",
        " 2. Область значений $$y = (0, +{\\infty}) $$"
      ]
    },
    {
      "cell_type": "code",
      "metadata": {
        "colab": {
          "base_uri": "https://localhost:8080/",
          "height": 295
        },
        "id": "cwtEJgnZ71pk",
        "outputId": "ffea2de9-8d74-4f93-f2b2-1eb22d1ece5e"
      },
      "source": [
        "import numpy as np\r\n",
        "import matplotlib.pyplot as plt\r\n",
        "import math \r\n",
        "\r\n",
        "def f(x):\r\n",
        "  e= 2.7182818284\r\n",
        "  y=np.array([])\r\n",
        "  for i in x:\r\n",
        "    y=np.append(y, math.log1p(1+e**i))\r\n",
        "  return y\r\n",
        "\r\n",
        "a = np.arange(-100, 100)\r\n",
        "plt.plot(a, f(a))\r\n",
        "\r\n",
        "plt.title('Softplus')\r\n",
        "plt.xlabel('x')\r\n",
        "plt.ylabel('f(x)')\r\n",
        "plt.show()"
      ],
      "execution_count": null,
      "outputs": [
        {
          "output_type": "display_data",
          "data": {
            "image/png": "[encoded data removed]",
            "text/plain": [
              "<Figure size 432x288 with 1 Axes>"
            ]
          },
          "metadata": {
            "tags": [],
            "needs_background": "light"
          }
        }
      ]
    },
    {
      "cell_type": "markdown",
      "metadata": {
        "id": "S7OhvKyxDFq3"
      },
      "source": [
        "**Ответ: функция монотонна**"
      ]
    },
    {
      "cell_type": "markdown",
      "metadata": {
        "id": "Cz1fFhHbA370"
      },
      "source": [
        "1. Дана функция **Синусоида**. $$f(x)=\\sin (x)$$\r\n",
        "Тогда производная $$f'(x) = cos(x)$$\r\n",
        "2. Область значений:\r\n",
        "$$ y = (-1, 1)$$"
      ]
    },
    {
      "cell_type": "code",
      "metadata": {
        "colab": {
          "base_uri": "https://localhost:8080/",
          "height": 295
        },
        "id": "ArcyVRR4BlbF",
        "outputId": "0eb4e72c-3d29-454c-8a05-4da9e4fd165d"
      },
      "source": [
        "import numpy as np\r\n",
        "import matplotlib.pyplot as plt\r\n",
        "import math \r\n",
        "\r\n",
        "def f(x):\r\n",
        "  y=np.array([])\r\n",
        "  for i in x:\r\n",
        "    y=np.append(y, math.sin(i))\r\n",
        "  return y\r\n",
        "\r\n",
        "a = np.arange(-10, 10, 0.1)\r\n",
        "plt.plot(a, f(a))\r\n",
        "\r\n",
        "plt.title('Синусоида')\r\n",
        "plt.xlabel('x')\r\n",
        "plt.ylabel('f(x)')\r\n",
        "plt.show()"
      ],
      "execution_count": null,
      "outputs": [
        {
          "output_type": "display_data",
          "data": {
            "image/png": "[encoded data removed]",
            "text/plain": [
              "<Figure size 432x288 with 1 Axes>"
            ]
          },
          "metadata": {
            "tags": [],
            "needs_background": "light"
          }
        }
      ]
    },
    {
      "cell_type": "markdown",
      "metadata": {
        "id": "o3YRXGEUDeY8"
      },
      "source": [
        "**Ответ: функция не монотонна**"
      ]
    }
  ]
}
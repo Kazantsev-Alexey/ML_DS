{
  "nbformat": 4,
  "nbformat_minor": 0,
  "metadata": {
    "colab": {
      "name": "Копия блокнота \"HW_lessons_9-10.ipynb\"",
      "provenance": [],
      "collapsed_sections": [],
      "include_colab_link": true
    },
    "kernelspec": {
      "name": "python3",
      "display_name": "Python 3"
    }
  },
  "cells": [
    {
      "cell_type": "markdown",
      "metadata": {
        "id": "view-in-github",
        "colab_type": "text"
      },
      "source": [
        "<a href=\"https://colab.research.google.com/github/Kazantsev-Alexey/ML_DS/blob/main/%22HW_lessons_9_10_ipynb%22.ipynb\" target=\"_parent\"><img src=\"https://colab.research.google.com/assets/colab-badge.svg\" alt=\"Open In Colab\"/></a>"
      ]
    },
    {
      "cell_type": "markdown",
      "metadata": {
        "id": "SgxdX4L0dSw7"
      },
      "source": [
        "# Домашнее задание"
      ]
    },
    {
      "cell_type": "markdown",
      "metadata": {
        "id": "piodEhR7orUF"
      },
      "source": [
        "Ноутбук в колаб: https://colab.research.google.com/drive/1d-vvpJW8IWSPeodFnfaEVaZIQrys8uU0?usp=sharing"
      ]
    },
    {
      "cell_type": "markdown",
      "metadata": {
        "id": "JKMONGAQsYo1"
      },
      "source": [
        "Ссылка на дз https://colab.research.google.com/drive/1sEsPjnqCTcHNX7oaVPIecJtfeJPoTTkY?usp=sharing"
      ]
    },
    {
      "cell_type": "markdown",
      "metadata": {
        "id": "r3_T-pcpnme8"
      },
      "source": [
        "**Дедлайн: 01.01.2021, 23:59**\n"
      ]
    },
    {
      "cell_type": "markdown",
      "metadata": {
        "id": "B2RmFtRDn5vy"
      },
      "source": [
        "Формат отчетности - jupyter notebook. Однако вычислять производные не обязательно в Markdown. Если вычисляете вручную, то дополнительно с ноутбуком, отправляйте pdf-файл с расписанным решением."
      ]
    },
    {
      "cell_type": "markdown",
      "metadata": {
        "id": "aCDx6dKzeEhp"
      },
      "source": [
        "### Пример реализации градиентного спуска: https://github.com/ddvika/Data-Science-School-2020/blob/main/lecture_9/gradient_methods.ipynb"
      ]
    },
    {
      "cell_type": "markdown",
      "metadata": {
        "id": "t-G1btbwoStu"
      },
      "source": [
        "# Задания"
      ]
    },
    {
      "cell_type": "markdown",
      "metadata": {
        "id": "B1XambpmoeIj"
      },
      "source": [
        "Перед выполнением ДЗ посмотрите на ноутбук, прикрепленный по ссылке выше. Там вы найдете реализацию градиентного спуска с постоянным и дробным шагом."
      ]
    },
    {
      "cell_type": "markdown",
      "metadata": {
        "id": "VnSTXgrueAp0"
      },
      "source": [
        "### Задание 1. [1 point]"
      ]
    },
    {
      "cell_type": "markdown",
      "metadata": {
        "id": "-XmQ1AO9f1Qz"
      },
      "source": [
        "Релизуйте градиентный спуск с постоянным шагом и с дробным шагом для функции\n",
        "$$\n",
        "y = x_{1}^{2}+5 x_{2}^{2}\n",
        "$$\n",
        "\n",
        "в произвольно выбранной Вами точке."
      ]
    },
    {
      "cell_type": "markdown",
      "metadata": {
        "id": "t50sUuib0FVX"
      },
      "source": [
        "Производная: $$ f'(x[1,2])=2x[1]+10x[2]$$"
      ]
    },
    {
      "cell_type": "code",
      "metadata": {
        "id": "5vkjLkoaxjCl",
        "colab": {
          "base_uri": "https://localhost:8080/"
        },
        "outputId": "7c7731e9-0e62-4068-82c0-15f024f8ab51"
      },
      "source": [
        "import numpy as np\r\n",
        "import matplotlib.pyplot as plt\r\n",
        "\r\n",
        "\r\n",
        "def f(x):\r\n",
        "    return x[0]**2+ 5*(x[1]**2)   \r\n",
        "def df(x):\r\n",
        "    return np.array([2*x[0], 10*x[1]])\r\n",
        "step_sum=0\r\n",
        "def grad_descent_const_step(x = np.array([3, 8]), alpha = 0.001, epsilon = 0.05):\r\n",
        "    grad = df(x)\r\n",
        "    n = 0\r\n",
        "    check = 0\r\n",
        "    while (np.linalg.norm(grad) > epsilon) or (check < 3):\r\n",
        "        x = x - alpha*grad\r\n",
        "        grad = df(x)\r\n",
        "        n+=1\r\n",
        "        if (np.linalg.norm(grad) <= epsilon): check +=1\r\n",
        "    print(\"Градиентный спуст с постоянным шагом выполнил {} шагов\".format(n))\r\n",
        "    print(\"Точка с координатами х1 = {}, x2 = {}\".format(x[0], x[1]))\r\n",
        "    return x\r\n",
        "    \r\n",
        "x = grad_descent_const_step(alpha = 0.1)\r\n",
        "x = grad_descent_const_step(alpha = 0.19) #шаг стал больше почти в два раза и прошагать пришлось даже больше чем в два раза\r\n",
        "x = grad_descent_const_step(alpha = 0.01, epsilon = 0.05)"
      ],
      "execution_count": 1,
      "outputs": [
        {
          "output_type": "stream",
          "text": [
            "Градиентный спуст с постоянным шагом выполнил 24 шагов\n",
            "Точка с координатами х1 = 0.014167099448608939, x2 = 0.0\n",
            "Градиентный спуст с постоянным шагом выполнил 73 шагов\n",
            "Точка с координатами х1 = 2.0975609445461556e-15, x2 = -0.0036542072596062024\n",
            "Градиентный спуст с постоянным шагом выполнил 239 шагов\n",
            "Точка с координатами х1 = 0.023996800735217934, x2 = 9.269359862008459e-11\n"
          ],
          "name": "stdout"
        }
      ]
    },
    {
      "cell_type": "code",
      "metadata": {
        "colab": {
          "base_uri": "https://localhost:8080/"
        },
        "id": "yrseRTiyHLw0",
        "outputId": "ad78885e-6a86-4da1-b4c1-8abd586e8587"
      },
      "source": [
        "\r\n",
        "def grad_descent_step_splitting(x = np.array([3, 8]), alpha = 1, epsilon = 0.05, ksi = 0.5, lambda_d = 0.35):\r\n",
        "    grad = df(x)\r\n",
        "    n = 0\r\n",
        "    count_alpha = 0\r\n",
        "    alpha_k = alpha\r\n",
        "    x_const = x\r\n",
        "    check = 0\r\n",
        "    while np.linalg.norm(grad) > epsilon or check < 3:\r\n",
        "        grad = df(x_const)\r\n",
        "        x_new = x_const - alpha_k*grad\r\n",
        "        while f(x_new) - f(x_const) > - alpha_k * ksi * (np.linalg.norm(grad)**2):\r\n",
        "            alpha_k *= lambda_d\r\n",
        "            x_new = x_const - alpha_k*grad\r\n",
        "            count_alpha+=1\r\n",
        "            \r\n",
        "        x_const = x_const - alpha_k*grad\r\n",
        "        alpha_k = alpha\r\n",
        "        n+=1\r\n",
        "        if (np.linalg.norm(grad) <= epsilon): check +=1\r\n",
        "    x = x_const\r\n",
        "    print(\"Градиентный спуст с дроблением шага выполнил {} шагов\".format(n))\r\n",
        "    print(\"Выполнено {} итераций дробления шага\".format(count_alpha))\r\n",
        "    print(\"Точка с координатами х1 = {}, x2 = {}\".format(x[0], x[1]))\r\n",
        "    return x\r\n",
        "a = grad_descent_step_splitting()\r\n",
        "a = grad_descent_step_splitting(lambda_d = 0.3)\r\n",
        "a = grad_descent_step_splitting(alpha = 0.5, lambda_d = 0.4)"
      ],
      "execution_count": 2,
      "outputs": [
        {
          "output_type": "stream",
          "text": [
            "Градиентный спуст с дроблением шага выполнил 17 шагов\n",
            "Выполнено 37 итераций дробления шага\n",
            "Точка с координатами х1 = 0.002402939112415913, x2 = 0.0008048753406231878\n",
            "Градиентный спуст с дроблением шага выполнил 13 шагов\n",
            "Выполнено 20 итераций дробления шага\n",
            "Точка с координатами х1 = 0.0030632198623356532, x2 = 5.120000000000016e-05\n",
            "Градиентный спуст с дроблением шага выполнил 16 шагов\n",
            "Выполнено 22 итераций дробления шага\n",
            "Точка с координатами х1 = 0.006372494582443984, x2 = 0.0005119999999999977\n"
          ],
          "name": "stdout"
        }
      ]
    },
    {
      "cell_type": "markdown",
      "metadata": {
        "id": "XAXdL_PDgYpS"
      },
      "source": [
        "Поэксперементируйте с разными значениями шага (скорости обучения), попробуйте хотя бы по 2-3 разных значения."
      ]
    },
    {
      "cell_type": "markdown",
      "metadata": {
        "id": "ucbvMBsdgOwV"
      },
      "source": [
        "### Задание 2. [3 points]\n",
        "\n",
        "Для функции из предыдущего задания реализуйте градиентный спуск, в котором значение шага (скорости обучения) будет изменяться по формуле циклического косинусного ожига. ( в англ. литературе - cosine annealing learning rate или cosine decay lr). \n",
        "\n",
        "Доп. литература:\n",
        "- Циклический косинусный отжиг https://habr.com/ru/post/332534/\n",
        "\n",
        "- Пример colise decay в библиотеке Pytorch:\n",
        "https://www.programmersought.com/article/12164650026/"
      ]
    },
    {
      "cell_type": "code",
      "metadata": {
        "colab": {
          "base_uri": "https://localhost:8080/"
        },
        "id": "QdEHbTN2gXGl",
        "outputId": "9d006e51-dbe2-482b-b479-ae216d433bc8"
      },
      "source": [
        "import numpy as np\r\n",
        "import matplotlib.pyplot as plt\r\n",
        "import math as m\r\n",
        "def f(x):\r\n",
        "    return x[0]**2+ 5*(x[1]**2)   \r\n",
        "def df(x):\r\n",
        "    return np.array([2*x[0], 10*x[1]])\r\n",
        "\r\n",
        "all_iterations=50\r\n",
        "min_lr = 0.001\r\n",
        "def speed_decrease(iteration):\r\n",
        "  iteration = min(n, all_iterations)\r\n",
        "  anneal_lr = 0.5 * (1 + cos(pi * iteration / all_iterations))\r\n",
        "  decayed = (1 - min_lr) * anneal_lr + min_lr\r\n",
        "  alpha_k= alpha * decayed\r\n",
        "  return alpha_k\r\n",
        "def cosine_decay(x = np.array([3, 8]), alpha = 1, epsilon = 0.05, ksi = 0.5, min_lr = 0.001, all_iterations=50):\r\n",
        "    grad = df(x)\r\n",
        "    n = 0\r\n",
        "    n1=1\r\n",
        "    count_alpha = 0\r\n",
        "    alpha_k = alpha\r\n",
        "    x_const = x\r\n",
        "    check = 0\r\n",
        "    while np.linalg.norm(grad) > epsilon or check < 3:\r\n",
        "        grad = df(x_const)\r\n",
        "        x_new = x_const - alpha_k*grad\r\n",
        "        while f(x_new) - f(x_const) > - alpha_k * ksi * (np.linalg.norm(grad)**2):\r\n",
        "            iteration = min(n1, all_iterations)\r\n",
        "            anneal_lr = 0.5 * (1 + m.cos(m.pi * iteration / all_iterations))\r\n",
        "            decayed = (1 - min_lr) * anneal_lr + min_lr\r\n",
        "            alpha_k= alpha_k * decayed\r\n",
        "            \r\n",
        "            x_new = x_const - alpha_k*grad\r\n",
        "            count_alpha+=1\r\n",
        "            n1+=1\r\n",
        "        x_const = x_const - alpha_k*grad\r\n",
        "        alpha_k = alpha\r\n",
        "        n+=1\r\n",
        "        if (np.linalg.norm(grad) <= epsilon): check +=1\r\n",
        "    x = x_const\r\n",
        "    print(\"Градиентный спуст с косинусным отжигом выполнил {} шагов\".format(n))\r\n",
        "    print(\"Выполнено {} итераций дробления шага\".format(count_alpha))\r\n",
        "    print(\"Точка с координатами х1 = {}, x2 = {}\".format(x[0], x[1]))\r\n",
        "    return x\r\n",
        "a = cosine_decay()"
      ],
      "execution_count": 3,
      "outputs": [
        {
          "output_type": "stream",
          "text": [
            "Градиентный спуст с косинусным отжигом выполнил 14 шагов\n",
            "Выполнено 41 итераций дробления шага\n",
            "Точка с координатами х1 = 0.009434675349673172, x2 = 1.3533130452564714e-06\n"
          ],
          "name": "stdout"
        }
      ]
    },
    {
      "cell_type": "markdown",
      "metadata": {
        "id": "d2Non6JiiVoJ"
      },
      "source": [
        "### Задание 3. [0.75 point]\n",
        "Проверьте работу Вашего градиентного спуска с косинусным отжигом на произвольной функции ( полином должен быть не меньше 3-ьего порядка и задан в пространстве не меньше $R^3$)."
      ]
    },
    {
      "cell_type": "code",
      "metadata": {
        "colab": {
          "base_uri": "https://localhost:8080/"
        },
        "id": "uOP580_nreg_",
        "outputId": "7a213fad-2ecd-40c4-e41f-6a60fe7d1f84"
      },
      "source": [
        "\r\n",
        "def f(x):\r\n",
        "    return 1.5*(x[0]**3) + 2*(x[1]**2) + 3*x[1] + 11  \r\n",
        "def df(x):\r\n",
        "    return np.array([4.5*x[0],  4*x[1]+3])\r\n",
        "\r\n",
        "all_iterations=50\r\n",
        "min_lr = 0.001\r\n",
        "\r\n",
        "a = cosine_decay()"
      ],
      "execution_count": 4,
      "outputs": [
        {
          "output_type": "stream",
          "text": [
            "Градиентный спуст с косинусным отжигом выполнил 6 шагов\n",
            "Выполнено 30 итераций дробления шага\n",
            "Точка с координатами х1 = -5.261870802974091e-06, x2 = -0.7493665234115292\n"
          ],
          "name": "stdout"
        }
      ]
    },
    {
      "cell_type": "markdown",
      "metadata": {
        "id": "UpONErtji81D"
      },
      "source": [
        "### Задание 4.\n",
        "Случайная величина X задана следующей функцией распределения:\n",
        "$$\n",
        "f(x)=\\left\\{\\begin{array}{r}\n",
        "0 \\text { npu } x \\leq \\pi \\\\\n",
        "-\\cos x \\text { npu } \\pi<x \\leq \\frac{3}{2} \\pi \\\\\n",
        "\\text { 0 npu } x>\\frac{3}{2} \\pi\n",
        "\\end{array}\\right.\n",
        "$$\n",
        "\n",
        "1. Постройте данную функцию распределения при помощи библиотеки seaborn **[0.25 point]**\n",
        "2. Найдите плотность вероятности. **[1 point]**\n",
        "3. Постройте график полученной плотности вероятности **[0.25 point]**\n",
        "\n",
        "4. Определить вероятность попадания случайной величины X в интервал $\\left[\\pi, \\frac{5}{4} \\pi\\right]$ **[0.75 point]**\n",
        "\n",
        "5. Найти математическое ожидание и дисперсию случайной величины X . **[0.75 point]**\n",
        "\n",
        "Так как мы не проходили интегрирование, то в 4 и 5 пунктах можете использовать\n",
        "wolfram alpha (https://www.wolframalpha.com) для интегрирования. Однако 2ой пункт задания (на нахождение производной) должен быть расписан!"
      ]
    },
    {
      "cell_type": "code",
      "metadata": {
        "colab": {
          "base_uri": "https://localhost:8080/",
          "height": 336
        },
        "id": "9gFoDy0_glDh",
        "outputId": "93a46be2-97e8-4dff-ad70-74c6ef15fdc8"
      },
      "source": [
        "import seaborn as sns\r\n",
        "import math as m\r\n",
        "import numpy as np\r\n",
        "\r\n",
        "\r\n",
        "def f(x):\r\n",
        "  \r\n",
        "  if x <= m.pi:\r\n",
        "    y=0\r\n",
        "  if x> m.pi and x <= (m.pi * 3)/2:\r\n",
        "    y=  -m.cos(x)\r\n",
        "  if  x > ((m.pi * 3)/2):\r\n",
        "    y=0\r\n",
        "  return y\r\n",
        "x_axis= np.linspace (2, 6, 100)\r\n",
        "y_axis= (f(i) for i in x_axis)\r\n",
        "sns.lineplot(x_axis,y_axis)"
      ],
      "execution_count": 5,
      "outputs": [
        {
          "output_type": "stream",
          "text": [
            "/usr/local/lib/python3.6/dist-packages/seaborn/_decorators.py:43: FutureWarning: Pass the following variables as keyword args: x, y. From version 0.12, the only valid positional argument will be `data`, and passing other arguments without an explicit keyword will result in an error or misinterpretation.\n",
            "  FutureWarning\n"
          ],
          "name": "stderr"
        },
        {
          "output_type": "execute_result",
          "data": {
            "text/plain": [
              "<matplotlib.axes._subplots.AxesSubplot at 0x7f2b8ecaefd0>"
            ]
          },
          "metadata": {
            "tags": []
          },
          "execution_count": 5
        },
        {
          "output_type": "display_data",
          "data": {
            "image/png": "[encoded data removed]",
            "text/plain": [
              "<Figure size 432x288 with 1 Axes>"
            ]
          },
          "metadata": {
            "tags": [],
            "needs_background": "light"
          }
        }
      ]
    },
    {
      "cell_type": "markdown",
      "metadata": {
        "id": "auK14mWlOSWi"
      },
      "source": [
        "Плотность вероятности:\r\n",
        "$$\r\n",
        "f'(x)=\\left\\{\\begin{array}{r}\r\n",
        "0 \\text { npu } x \\leq \\pi \\\\\r\n",
        "-\\sin x \\text { npu } \\pi<x \\leq \\frac{3}{2} \\pi \\\\\r\n",
        "\\text { 0 npu } x>\\frac{3}{2} \\pi\r\n",
        "\\end{array}\\right.\r\n",
        "$$"
      ]
    },
    {
      "cell_type": "code",
      "metadata": {
        "colab": {
          "base_uri": "https://localhost:8080/",
          "height": 336
        },
        "id": "KHFwnkrkgvxH",
        "outputId": "68df8b58-95bc-4344-ea8c-f66aeb46c97d"
      },
      "source": [
        "#график плотности вероятности\r\n",
        "#тут в принципе просто табличное значение потому производную ососбо не расписать\r\n",
        "def df(x):\r\n",
        "    \r\n",
        "  if x <= m.pi:\r\n",
        "    y=0\r\n",
        "  if x> m.pi and x <= (m.pi * 3)/2:\r\n",
        "    y=  -m.sin(x)\r\n",
        "  if  x > ((m.pi * 3)/2):\r\n",
        "    y=0\r\n",
        "  return y\r\n",
        "x_axis= np.linspace (2, 6, 100)\r\n",
        "y_axis= (df(i) for i in x_axis)\r\n",
        "sns.lineplot(x_axis,y_axis)"
      ],
      "execution_count": 6,
      "outputs": [
        {
          "output_type": "stream",
          "text": [
            "/usr/local/lib/python3.6/dist-packages/seaborn/_decorators.py:43: FutureWarning: Pass the following variables as keyword args: x, y. From version 0.12, the only valid positional argument will be `data`, and passing other arguments without an explicit keyword will result in an error or misinterpretation.\n",
            "  FutureWarning\n"
          ],
          "name": "stderr"
        },
        {
          "output_type": "execute_result",
          "data": {
            "text/plain": [
              "<matplotlib.axes._subplots.AxesSubplot at 0x7f2b9d5820b8>"
            ]
          },
          "metadata": {
            "tags": []
          },
          "execution_count": 6
        },
        {
          "output_type": "display_data",
          "data": {
            "image/png": "[encoded data removed]",
            "text/plain": [
              "<Figure size 432x288 with 1 Axes>"
            ]
          },
          "metadata": {
            "tags": [],
            "needs_background": "light"
          }
        }
      ]
    },
    {
      "cell_type": "markdown",
      "metadata": {
        "id": "VG7XVGlDc0Pd"
      },
      "source": [
        "Вероятность попадания случайной величины X в интервал $\\left[\\pi, \\frac{5}{4} \\pi\\right]$\r\n",
        "$$\\int\\limits_\\pi^{\\frac{5}{4}\\pi} f(x)dx = \\int\\limits_\\pi^{\\frac{5}{4}\\pi} -sin(x)dx=  cos(x)\\bigg|_\\pi^{\\frac{5}{4}\\pi} = cos({\\frac{5}{4}\\pi}) - cos(\\pi)= 0.2928932188134523$$"
      ]
    },
    {
      "cell_type": "markdown",
      "metadata": {
        "id": "QkxwFxBkqvKg"
      },
      "source": [
        "Мат ожидание\r\n",
        "$$\\int\\limits_\\pi^{\\frac{3}{2}\\pi} xf(x)dx = \\int\\limits_\\pi^{\\frac{3}{2}\\pi} x*-sin(x)dx =  (xcos(x)-sin(x))\\bigg|_\\pi^{\\frac{3}{2}\\pi} = {\\frac{3}{2}\\pi}cos({\\frac{3}{2}\\pi})- sin({\\frac{3}{2}\\pi}) - \\pi cos(\\pi)- sin(\\pi)= 1 - (-\\pi) \\approx 4.14159  $$\r\n",
        "Дисперсия\r\n",
        "$$\\int\\limits_\\pi^{\\frac{3}{2}\\pi} x^2 f(x)dx - M[x]^2 = -\\int\\limits_\\pi^{\\frac{3}{2}\\pi} x^2*sin(x)dx - (1+\\pi)^2=  -2xsin(x)+ x^2cos(x) -2cos(x) - (1+pi)\\bigg|_\\pi^{\\frac{3}{2}\\pi}=(x^2-2)cos(x)-2*x*sin(x)-(1+\\pi)\\bigg|_\\pi^{\\frac{3}{2}\\pi}=({\\frac{3}{2}\\pi}^2-2)*cos({\\frac{3}{2}\\pi})-2({\\frac{3}{2}\\pi})*sin({\\frac{3}{2}\\pi})-(\\pi^2-2)*cos(\\pi)-2(\\pi)*sin(\\pi)-(1+\\pi)=9.42477-(-7.86960)-17.15278=0.14159$$"
      ]
    },
    {
      "cell_type": "code",
      "metadata": {
        "colab": {
          "base_uri": "https://localhost:8080/"
        },
        "id": "JrVhiBdZZeFH",
        "outputId": "a78e0dc1-b040-4a9e-d2ae-8d13afc79ab9"
      },
      "source": [
        "import math as m\r\n",
        "x=m.pi*3/2\r\n",
        "y=m.pi\r\n",
        "#оказывается флоат нельзя возводить в степень\r\n",
        "(x*x-2)*m.cos(x)-2*x*m.sin(x)-((y*y-2)*m.cos(y)-2*x*m.sin(y))-(1+m.pi)*(1+m.pi)"
      ],
      "execution_count": 7,
      "outputs": [
        {
          "output_type": "execute_result",
          "data": {
            "text/plain": [
              "0.14159265358978956"
            ]
          },
          "metadata": {
            "tags": []
          },
          "execution_count": 7
        }
      ]
    },
    {
      "cell_type": "markdown",
      "metadata": {
        "id": "-LrqILMHkgTd"
      },
      "source": [
        "### Задание 5 [1.5 point]\n",
        "\n",
        " Случайная величина Х задана функцией распределения F(x).\n",
        "\n",
        " $$F(x)=\\left\\{\\begin{array}{c}0, x \\leq 1 \\\\ x-1,1<x \\leq 2 \\\\ 1, x>2\\end{array}\\right.$$\n",
        "\n",
        " 1. Является ли случайная величина Х непрерывной?\n",
        "\n",
        " 2. имеет ли случайная величина Х плотность вероятности f(X)? Если имеет, найти ее. \n",
        " 3. постройте графики f(X) и F(X), если такое возможно.\n"
      ]
    },
    {
      "cell_type": "markdown",
      "metadata": {
        "id": "XKDOnoxLasRO"
      },
      "source": [
        "1. В точке x=1 получается 1-1=0, а вточке x=2, соответственно, 2-1=1 т.е величина неприрывна.\r\n",
        "2. Производная от 0 и от 1 это ноль и $x-1= 1 - 0 = 1$,\r\n",
        "тоже самое покажет интеграл вне зависимости от того какое значение приобретет константа  : $$\\int\\limits_1^2 1dx=x+ C\\bigg|_1^2= 2+C -(1+C)=2-1=1$$\r\n",
        "3. И соответственно графики:\r\n"
      ]
    },
    {
      "cell_type": "code",
      "metadata": {
        "colab": {
          "base_uri": "https://localhost:8080/",
          "height": 336
        },
        "id": "YM-NFKlSaV6g",
        "outputId": "9ae5a0c3-a58c-4894-be19-e0e365ea085b"
      },
      "source": [
        "def F(x):\r\n",
        "  y=0\r\n",
        "  if x <=0:\r\n",
        "    y=0\r\n",
        "  elif 1<x <2:\r\n",
        "    y=x-1\r\n",
        "  elif x>2:\r\n",
        "    y=1\r\n",
        "  return y\r\n",
        "x_axis= np.linspace (-1, 4, 100)\r\n",
        "y_axis= (F(i) for i in x_axis)\r\n",
        "sns.lineplot(x_axis,y_axis)\r\n"
      ],
      "execution_count": 8,
      "outputs": [
        {
          "output_type": "stream",
          "text": [
            "/usr/local/lib/python3.6/dist-packages/seaborn/_decorators.py:43: FutureWarning: Pass the following variables as keyword args: x, y. From version 0.12, the only valid positional argument will be `data`, and passing other arguments without an explicit keyword will result in an error or misinterpretation.\n",
            "  FutureWarning\n"
          ],
          "name": "stderr"
        },
        {
          "output_type": "execute_result",
          "data": {
            "text/plain": [
              "<matplotlib.axes._subplots.AxesSubplot at 0x7f2b8e70f080>"
            ]
          },
          "metadata": {
            "tags": []
          },
          "execution_count": 8
        },
        {
          "output_type": "display_data",
          "data": {
            "image/png": "[encoded data removed]",
            "text/plain": [
              "<Figure size 432x288 with 1 Axes>"
            ]
          },
          "metadata": {
            "tags": [],
            "needs_background": "light"
          }
        }
      ]
    },
    {
      "cell_type": "code",
      "metadata": {
        "colab": {
          "base_uri": "https://localhost:8080/",
          "height": 336
        },
        "id": "Cv9I3ujsdqGn",
        "outputId": "87f3b983-b3a8-47b8-9ac5-73f55d9963ec"
      },
      "source": [
        "def f(x):\r\n",
        "  y=0\r\n",
        "  if x <=0:\r\n",
        "    y=0\r\n",
        "  elif 1<x <2:\r\n",
        "    y=1\r\n",
        "  elif x>2:\r\n",
        "    y=0\r\n",
        "  return y\r\n",
        "x_axis= np.linspace (-1, 4, 100)\r\n",
        "y_axis= (f(i) for i in x_axis)\r\n",
        "sns.lineplot(x_axis,y_axis)"
      ],
      "execution_count": 9,
      "outputs": [
        {
          "output_type": "stream",
          "text": [
            "/usr/local/lib/python3.6/dist-packages/seaborn/_decorators.py:43: FutureWarning: Pass the following variables as keyword args: x, y. From version 0.12, the only valid positional argument will be `data`, and passing other arguments without an explicit keyword will result in an error or misinterpretation.\n",
            "  FutureWarning\n"
          ],
          "name": "stderr"
        },
        {
          "output_type": "execute_result",
          "data": {
            "text/plain": [
              "<matplotlib.axes._subplots.AxesSubplot at 0x7f2b8e66ea20>"
            ]
          },
          "metadata": {
            "tags": []
          },
          "execution_count": 9
        },
        {
          "output_type": "display_data",
          "data": {
            "image/png": "[encoded data removed]",
            "text/plain": [
              "<Figure size 432x288 with 1 Axes>"
            ]
          },
          "metadata": {
            "tags": [],
            "needs_background": "light"
          }
        }
      ]
    },
    {
      "cell_type": "markdown",
      "metadata": {
        "id": "xzQy9iYWmGD5"
      },
      "source": [
        "### Задание 6\n",
        "\n",
        "Рассмотрим несбалансированный набор данных с соотношением меньшего класса к большему 1: 100, где 100 экземпляров принадлежит меньшему классу, а 10 000 большему.\n",
        "\n",
        "Модель ML делает прогнозы и предсказывает 120 примеров как принадлежащих к классу меньшинства, 90 из которых верны, а 30 - неверны.\n",
        "\n",
        "Найти:\n",
        "\n",
        "- Precision **[0.5 point]**\n",
        "- Recall **[0.5 point]**\n",
        "- $F_1$ метрику **[0.5 point]**"
      ]
    },
    {
      "cell_type": "code",
      "metadata": {
        "id": "dnkSjI5tdWJe",
        "colab": {
          "base_uri": "https://localhost:8080/"
        },
        "outputId": "b72dca9c-7e00-4fc2-95a8-1082c7b99b1b"
      },
      "source": [
        "Precision = 90/ (90+30)\r\n",
        "Recall= 90/(90+10)\r\n",
        "F1= (Precision*Recall)/((1*Precision)+ Recall)\r\n",
        "print('Precision:', Precision, '\\nRecall:', Recall , '\\nF1:', F1, )"
      ],
      "execution_count": 10,
      "outputs": [
        {
          "output_type": "stream",
          "text": [
            "Precision: 0.75 \n",
            "Recall: 0.9 \n",
            "F1: 0.4090909090909091\n"
          ],
          "name": "stdout"
        }
      ]
    },
    {
      "cell_type": "code",
      "metadata": {
        "id": "Mye_Q-jgdP0g"
      },
      "source": [
        ""
      ],
      "execution_count": 10,
      "outputs": []
    }
  ]
}
{
  "nbformat": 4,
  "nbformat_minor": 0,
  "metadata": {
    "colab": {
      "name": "Выявление аномальной активности.ipynb",
      "provenance": [],
      "collapsed_sections": [],
      "mount_file_id": "1IoZ9SlwAabgTzZGvvmgJqpXUFSIgLZCY",
      "authorship_tag": "ABX9TyNbc6a1JLoPFBCL4UxACHBL",
      "include_colab_link": true
    },
    "kernelspec": {
      "display_name": "Python 3",
      "name": "python3"
    }
  },
  "cells": [
    {
      "cell_type": "markdown",
      "metadata": {
        "id": "view-in-github",
        "colab_type": "text"
      },
      "source": [
        "<a href=\"https://colab.research.google.com/github/Kazantsev-Alexey/ML_DS/blob/main/%D0%92%D1%8B%D1%8F%D0%B2%D0%BB%D0%B5%D0%BD%D0%B8%D0%B5_%D0%B0%D0%BD%D0%BE%D0%BC%D0%B0%D0%BB%D1%8C%D0%BD%D0%BE%D0%B9_%D0%B0%D0%BA%D1%82%D0%B8%D0%B2%D0%BD%D0%BE%D1%81%D1%82%D0%B8.ipynb\" target=\"_parent\"><img src=\"https://colab.research.google.com/assets/colab-badge.svg\" alt=\"Open In Colab\"/></a>"
      ]
    },
    {
      "cell_type": "markdown",
      "metadata": {
        "id": "xfB3A7lJFz1V"
      },
      "source": [
        "В представленном датасете находятся характеристики связанные с сетевым подключением. Задача: построить модель, которая будет отличать нормальную активность от подозрительной. Учитывая, что пропущенная подозрительная активность несет больше вреда, то и  основными метриками для оценки реузльтатов в данному случае является recall для значений атак в сети и presicion для нормальной активности.\n",
        "\n",
        "\n",
        "Описание датасета находится здесь: http://kdd.ics.uci.edu/databases/kddcup99/kddcup99.html\n",
        "\n",
        "Для начала загружаем библиотеки для работы с данными и сам датасет:\n",
        "\n"
      ]
    },
    {
      "cell_type": "code",
      "metadata": {
        "id": "LjVoOz48Ly6O"
      },
      "source": [
        "import pandas as pd\n",
        "import numpy as np\n",
        "import matplotlib.pyplot as plt\n",
        "from sklearn import preprocessing as p\n",
        "from sklearn.preprocessing import StandardScaler"
      ],
      "execution_count": null,
      "outputs": []
    },
    {
      "cell_type": "code",
      "source": [
        "names=[\"duration\",\"protocoltype\",\"service\",\"flag\",\"srcbytes\",\"dstbytes\",\"land\", \n",
        "        \"wrongfragment\",\"urgent\",\"hot\",\"numfailedlogins\",\"loggedin\", \"numcompromised\",\n",
        "        \"rootshell\",\"suattempted\",\"numroot\",\"numfilecreations\", \"numshells\",\"numaccessfiles\",\n",
        "        \"numoutboundcmds\",\"ishostlogin\", \"isguestlogin\",\"count\",\"srvcount\",\"serrorrate\", \"srvserrorrate\",\n",
        "        \"rerrorrate\",\"srvrerrorrate\",\"samesrvrate\", \"diffsrvrate\", \"srvdiffhostrate\",\"dsthostcount\",\n",
        "        \"dsthostsrvcount\",\"dsthostsamesrvrate\", \"dsthostdiffsrvrate\",\"dsthostsamesrcportrate\",\n",
        "        \"dsthostsrvdiffhostrate\",\"dsthostserrorrate\",\"dsthostsrvserrorrate\", \"dsthostrerrorrate\",\"dsthostsrvrerrorrate\",\"attack\", \"lastflag\"])"
      ],
      "metadata": {
        "id": "pSgs-_YHGZxt"
      },
      "execution_count": null,
      "outputs": []
    },
    {
      "cell_type": "code",
      "metadata": {
        "id": "sGZ1tW6ZP1Cv"
      },
      "source": [
        "df_train = pd.read_csv('/main/Train.csv', sep=',', header=0 , names=names)\n",
        "df_test = pd.read_csv('/main/Test.csv', sep=',', header=0 , names=names)"
      ],
      "execution_count": null,
      "outputs": []
    },
    {
      "cell_type": "code",
      "metadata": {
        "colab": {
          "base_uri": "https://localhost:8080/",
          "height": 218
        },
        "id": "d41f7veSN5MG",
        "outputId": "3fa2092d-2005-489e-e25c-d3941cee9218"
      },
      "source": [
        "df_train.head()"
      ],
      "execution_count": null,
      "outputs": [
        {
          "output_type": "execute_result",
          "data": {
            "text/html": [
              "<div>\n",
              "<style scoped>\n",
              "    .dataframe tbody tr th:only-of-type {\n",
              "        vertical-align: middle;\n",
              "    }\n",
              "\n",
              "    .dataframe tbody tr th {\n",
              "        vertical-align: top;\n",
              "    }\n",
              "\n",
              "    .dataframe thead th {\n",
              "        text-align: right;\n",
              "    }\n",
              "</style>\n",
              "<table border=\"1\" class=\"dataframe\">\n",
              "  <thead>\n",
              "    <tr style=\"text-align: right;\">\n",
              "      <th></th>\n",
              "      <th>duration</th>\n",
              "      <th>protocoltype</th>\n",
              "      <th>service</th>\n",
              "      <th>flag</th>\n",
              "      <th>srcbytes</th>\n",
              "      <th>dstbytes</th>\n",
              "      <th>land</th>\n",
              "      <th>wrongfragment</th>\n",
              "      <th>urgent</th>\n",
              "      <th>hot</th>\n",
              "      <th>numfailedlogins</th>\n",
              "      <th>loggedin</th>\n",
              "      <th>numcompromised</th>\n",
              "      <th>rootshell</th>\n",
              "      <th>suattempted</th>\n",
              "      <th>numroot</th>\n",
              "      <th>numfilecreations</th>\n",
              "      <th>numshells</th>\n",
              "      <th>numaccessfiles</th>\n",
              "      <th>numoutboundcmds</th>\n",
              "      <th>ishostlogin</th>\n",
              "      <th>isguestlogin</th>\n",
              "      <th>count</th>\n",
              "      <th>srvcount</th>\n",
              "      <th>serrorrate</th>\n",
              "      <th>srvserrorrate</th>\n",
              "      <th>rerrorrate</th>\n",
              "      <th>srvrerrorrate</th>\n",
              "      <th>samesrvrate</th>\n",
              "      <th>diffsrvrate</th>\n",
              "      <th>srvdiffhostrate</th>\n",
              "      <th>dsthostcount</th>\n",
              "      <th>dsthostsrvcount</th>\n",
              "      <th>dsthostsamesrvrate</th>\n",
              "      <th>dsthostdiffsrvrate</th>\n",
              "      <th>dsthostsamesrcportrate</th>\n",
              "      <th>dsthostsrvdiffhostrate</th>\n",
              "      <th>dsthostserrorrate</th>\n",
              "      <th>dsthostsrvserrorrate</th>\n",
              "      <th>dsthostrerrorrate</th>\n",
              "      <th>dsthostsrvrerrorrate</th>\n",
              "      <th>attack</th>\n",
              "      <th>lastflag</th>\n",
              "    </tr>\n",
              "  </thead>\n",
              "  <tbody>\n",
              "    <tr>\n",
              "      <th>0</th>\n",
              "      <td>0</td>\n",
              "      <td>tcp</td>\n",
              "      <td>ftp_data</td>\n",
              "      <td>SF</td>\n",
              "      <td>491</td>\n",
              "      <td>0</td>\n",
              "      <td>0</td>\n",
              "      <td>0</td>\n",
              "      <td>0</td>\n",
              "      <td>0</td>\n",
              "      <td>0</td>\n",
              "      <td>0</td>\n",
              "      <td>0</td>\n",
              "      <td>0</td>\n",
              "      <td>0</td>\n",
              "      <td>0</td>\n",
              "      <td>0</td>\n",
              "      <td>0</td>\n",
              "      <td>0</td>\n",
              "      <td>0</td>\n",
              "      <td>0</td>\n",
              "      <td>0</td>\n",
              "      <td>2</td>\n",
              "      <td>2</td>\n",
              "      <td>0.0</td>\n",
              "      <td>0.0</td>\n",
              "      <td>0.0</td>\n",
              "      <td>0.0</td>\n",
              "      <td>1.00</td>\n",
              "      <td>0.00</td>\n",
              "      <td>0.00</td>\n",
              "      <td>150</td>\n",
              "      <td>25</td>\n",
              "      <td>0.17</td>\n",
              "      <td>0.03</td>\n",
              "      <td>0.17</td>\n",
              "      <td>0.00</td>\n",
              "      <td>0.00</td>\n",
              "      <td>0.00</td>\n",
              "      <td>0.05</td>\n",
              "      <td>0.00</td>\n",
              "      <td>normal</td>\n",
              "      <td>20</td>\n",
              "    </tr>\n",
              "    <tr>\n",
              "      <th>1</th>\n",
              "      <td>0</td>\n",
              "      <td>udp</td>\n",
              "      <td>other</td>\n",
              "      <td>SF</td>\n",
              "      <td>146</td>\n",
              "      <td>0</td>\n",
              "      <td>0</td>\n",
              "      <td>0</td>\n",
              "      <td>0</td>\n",
              "      <td>0</td>\n",
              "      <td>0</td>\n",
              "      <td>0</td>\n",
              "      <td>0</td>\n",
              "      <td>0</td>\n",
              "      <td>0</td>\n",
              "      <td>0</td>\n",
              "      <td>0</td>\n",
              "      <td>0</td>\n",
              "      <td>0</td>\n",
              "      <td>0</td>\n",
              "      <td>0</td>\n",
              "      <td>0</td>\n",
              "      <td>13</td>\n",
              "      <td>1</td>\n",
              "      <td>0.0</td>\n",
              "      <td>0.0</td>\n",
              "      <td>0.0</td>\n",
              "      <td>0.0</td>\n",
              "      <td>0.08</td>\n",
              "      <td>0.15</td>\n",
              "      <td>0.00</td>\n",
              "      <td>255</td>\n",
              "      <td>1</td>\n",
              "      <td>0.00</td>\n",
              "      <td>0.60</td>\n",
              "      <td>0.88</td>\n",
              "      <td>0.00</td>\n",
              "      <td>0.00</td>\n",
              "      <td>0.00</td>\n",
              "      <td>0.00</td>\n",
              "      <td>0.00</td>\n",
              "      <td>normal</td>\n",
              "      <td>15</td>\n",
              "    </tr>\n",
              "    <tr>\n",
              "      <th>2</th>\n",
              "      <td>0</td>\n",
              "      <td>tcp</td>\n",
              "      <td>private</td>\n",
              "      <td>S0</td>\n",
              "      <td>0</td>\n",
              "      <td>0</td>\n",
              "      <td>0</td>\n",
              "      <td>0</td>\n",
              "      <td>0</td>\n",
              "      <td>0</td>\n",
              "      <td>0</td>\n",
              "      <td>0</td>\n",
              "      <td>0</td>\n",
              "      <td>0</td>\n",
              "      <td>0</td>\n",
              "      <td>0</td>\n",
              "      <td>0</td>\n",
              "      <td>0</td>\n",
              "      <td>0</td>\n",
              "      <td>0</td>\n",
              "      <td>0</td>\n",
              "      <td>0</td>\n",
              "      <td>123</td>\n",
              "      <td>6</td>\n",
              "      <td>1.0</td>\n",
              "      <td>1.0</td>\n",
              "      <td>0.0</td>\n",
              "      <td>0.0</td>\n",
              "      <td>0.05</td>\n",
              "      <td>0.07</td>\n",
              "      <td>0.00</td>\n",
              "      <td>255</td>\n",
              "      <td>26</td>\n",
              "      <td>0.10</td>\n",
              "      <td>0.05</td>\n",
              "      <td>0.00</td>\n",
              "      <td>0.00</td>\n",
              "      <td>1.00</td>\n",
              "      <td>1.00</td>\n",
              "      <td>0.00</td>\n",
              "      <td>0.00</td>\n",
              "      <td>neptune</td>\n",
              "      <td>19</td>\n",
              "    </tr>\n",
              "    <tr>\n",
              "      <th>3</th>\n",
              "      <td>0</td>\n",
              "      <td>tcp</td>\n",
              "      <td>http</td>\n",
              "      <td>SF</td>\n",
              "      <td>232</td>\n",
              "      <td>8153</td>\n",
              "      <td>0</td>\n",
              "      <td>0</td>\n",
              "      <td>0</td>\n",
              "      <td>0</td>\n",
              "      <td>0</td>\n",
              "      <td>1</td>\n",
              "      <td>0</td>\n",
              "      <td>0</td>\n",
              "      <td>0</td>\n",
              "      <td>0</td>\n",
              "      <td>0</td>\n",
              "      <td>0</td>\n",
              "      <td>0</td>\n",
              "      <td>0</td>\n",
              "      <td>0</td>\n",
              "      <td>0</td>\n",
              "      <td>5</td>\n",
              "      <td>5</td>\n",
              "      <td>0.2</td>\n",
              "      <td>0.2</td>\n",
              "      <td>0.0</td>\n",
              "      <td>0.0</td>\n",
              "      <td>1.00</td>\n",
              "      <td>0.00</td>\n",
              "      <td>0.00</td>\n",
              "      <td>30</td>\n",
              "      <td>255</td>\n",
              "      <td>1.00</td>\n",
              "      <td>0.00</td>\n",
              "      <td>0.03</td>\n",
              "      <td>0.04</td>\n",
              "      <td>0.03</td>\n",
              "      <td>0.01</td>\n",
              "      <td>0.00</td>\n",
              "      <td>0.01</td>\n",
              "      <td>normal</td>\n",
              "      <td>21</td>\n",
              "    </tr>\n",
              "    <tr>\n",
              "      <th>4</th>\n",
              "      <td>0</td>\n",
              "      <td>tcp</td>\n",
              "      <td>http</td>\n",
              "      <td>SF</td>\n",
              "      <td>199</td>\n",
              "      <td>420</td>\n",
              "      <td>0</td>\n",
              "      <td>0</td>\n",
              "      <td>0</td>\n",
              "      <td>0</td>\n",
              "      <td>0</td>\n",
              "      <td>1</td>\n",
              "      <td>0</td>\n",
              "      <td>0</td>\n",
              "      <td>0</td>\n",
              "      <td>0</td>\n",
              "      <td>0</td>\n",
              "      <td>0</td>\n",
              "      <td>0</td>\n",
              "      <td>0</td>\n",
              "      <td>0</td>\n",
              "      <td>0</td>\n",
              "      <td>30</td>\n",
              "      <td>32</td>\n",
              "      <td>0.0</td>\n",
              "      <td>0.0</td>\n",
              "      <td>0.0</td>\n",
              "      <td>0.0</td>\n",
              "      <td>1.00</td>\n",
              "      <td>0.00</td>\n",
              "      <td>0.09</td>\n",
              "      <td>255</td>\n",
              "      <td>255</td>\n",
              "      <td>1.00</td>\n",
              "      <td>0.00</td>\n",
              "      <td>0.00</td>\n",
              "      <td>0.00</td>\n",
              "      <td>0.00</td>\n",
              "      <td>0.00</td>\n",
              "      <td>0.00</td>\n",
              "      <td>0.00</td>\n",
              "      <td>normal</td>\n",
              "      <td>21</td>\n",
              "    </tr>\n",
              "  </tbody>\n",
              "</table>\n",
              "</div>"
            ],
            "text/plain": [
              "   duration protocoltype   service  ... dsthostsrvrerrorrate   attack  lastflag\n",
              "0         0          tcp  ftp_data  ...                 0.00   normal        20\n",
              "1         0          udp     other  ...                 0.00   normal        15\n",
              "2         0          tcp   private  ...                 0.00  neptune        19\n",
              "3         0          tcp      http  ...                 0.01   normal        21\n",
              "4         0          tcp      http  ...                 0.00   normal        21\n",
              "\n",
              "[5 rows x 43 columns]"
            ]
          },
          "metadata": {
            "tags": []
          },
          "execution_count": 86
        }
      ]
    },
    {
      "cell_type": "code",
      "metadata": {
        "colab": {
          "base_uri": "https://localhost:8080/"
        },
        "id": "BtgBsbbmXLmL",
        "outputId": "e3fad480-0f14-4e3b-de42-2c8d0358d9f8"
      },
      "source": [
        "df_train.info()"
      ],
      "execution_count": null,
      "outputs": [
        {
          "output_type": "stream",
          "text": [
            "<class 'pandas.core.frame.DataFrame'>\n",
            "RangeIndex: 125973 entries, 0 to 125972\n",
            "Data columns (total 43 columns):\n",
            " #   Column                  Non-Null Count   Dtype  \n",
            "---  ------                  --------------   -----  \n",
            " 0   duration                125973 non-null  int64  \n",
            " 1   protocoltype            125973 non-null  object \n",
            " 2   service                 125973 non-null  object \n",
            " 3   flag                    125973 non-null  object \n",
            " 4   srcbytes                125973 non-null  int64  \n",
            " 5   dstbytes                125973 non-null  int64  \n",
            " 6   land                    125973 non-null  int64  \n",
            " 7   wrongfragment           125973 non-null  int64  \n",
            " 8   urgent                  125973 non-null  int64  \n",
            " 9   hot                     125973 non-null  int64  \n",
            " 10  numfailedlogins         125973 non-null  int64  \n",
            " 11  loggedin                125973 non-null  int64  \n",
            " 12  numcompromised          125973 non-null  int64  \n",
            " 13  rootshell               125973 non-null  int64  \n",
            " 14  suattempted             125973 non-null  int64  \n",
            " 15  numroot                 125973 non-null  int64  \n",
            " 16  numfilecreations        125973 non-null  int64  \n",
            " 17  numshells               125973 non-null  int64  \n",
            " 18  numaccessfiles          125973 non-null  int64  \n",
            " 19  numoutboundcmds         125973 non-null  int64  \n",
            " 20  ishostlogin             125973 non-null  int64  \n",
            " 21  isguestlogin            125973 non-null  int64  \n",
            " 22  count                   125973 non-null  int64  \n",
            " 23  srvcount                125973 non-null  int64  \n",
            " 24  serrorrate              125973 non-null  float64\n",
            " 25  srvserrorrate           125973 non-null  float64\n",
            " 26  rerrorrate              125973 non-null  float64\n",
            " 27  srvrerrorrate           125973 non-null  float64\n",
            " 28  samesrvrate             125973 non-null  float64\n",
            " 29  diffsrvrate             125973 non-null  float64\n",
            " 30  srvdiffhostrate         125973 non-null  float64\n",
            " 31  dsthostcount            125973 non-null  int64  \n",
            " 32  dsthostsrvcount         125973 non-null  int64  \n",
            " 33  dsthostsamesrvrate      125973 non-null  float64\n",
            " 34  dsthostdiffsrvrate      125973 non-null  float64\n",
            " 35  dsthostsamesrcportrate  125973 non-null  float64\n",
            " 36  dsthostsrvdiffhostrate  125973 non-null  float64\n",
            " 37  dsthostserrorrate       125973 non-null  float64\n",
            " 38  dsthostsrvserrorrate    125973 non-null  float64\n",
            " 39  dsthostrerrorrate       125973 non-null  float64\n",
            " 40  dsthostsrvrerrorrate    125973 non-null  float64\n",
            " 41  attack                  125973 non-null  object \n",
            " 42  lastflag                125973 non-null  int64  \n",
            "dtypes: float64(15), int64(24), object(4)\n",
            "memory usage: 41.3+ MB\n"
          ],
          "name": "stdout"
        }
      ]
    },
    {
      "cell_type": "code",
      "metadata": {
        "colab": {
          "base_uri": "https://localhost:8080/",
          "height": 308
        },
        "id": "rEoHb94CRc0J",
        "outputId": "4b557d2a-59cf-4a67-8a3f-c7429d1ffe04"
      },
      "source": [
        "df_train.describe()"
      ],
      "execution_count": null,
      "outputs": [
        {
          "output_type": "execute_result",
          "data": {
            "text/html": [
              "<div>\n",
              "<style scoped>\n",
              "    .dataframe tbody tr th:only-of-type {\n",
              "        vertical-align: middle;\n",
              "    }\n",
              "\n",
              "    .dataframe tbody tr th {\n",
              "        vertical-align: top;\n",
              "    }\n",
              "\n",
              "    .dataframe thead th {\n",
              "        text-align: right;\n",
              "    }\n",
              "</style>\n",
              "<table border=\"1\" class=\"dataframe\">\n",
              "  <thead>\n",
              "    <tr style=\"text-align: right;\">\n",
              "      <th></th>\n",
              "      <th>duration</th>\n",
              "      <th>srcbytes</th>\n",
              "      <th>dstbytes</th>\n",
              "      <th>land</th>\n",
              "      <th>wrongfragment</th>\n",
              "      <th>urgent</th>\n",
              "      <th>hot</th>\n",
              "      <th>numfailedlogins</th>\n",
              "      <th>loggedin</th>\n",
              "      <th>numcompromised</th>\n",
              "      <th>rootshell</th>\n",
              "      <th>suattempted</th>\n",
              "      <th>numroot</th>\n",
              "      <th>numfilecreations</th>\n",
              "      <th>numshells</th>\n",
              "      <th>numaccessfiles</th>\n",
              "      <th>numoutboundcmds</th>\n",
              "      <th>ishostlogin</th>\n",
              "      <th>isguestlogin</th>\n",
              "      <th>count</th>\n",
              "      <th>srvcount</th>\n",
              "      <th>serrorrate</th>\n",
              "      <th>srvserrorrate</th>\n",
              "      <th>rerrorrate</th>\n",
              "      <th>srvrerrorrate</th>\n",
              "      <th>samesrvrate</th>\n",
              "      <th>diffsrvrate</th>\n",
              "      <th>srvdiffhostrate</th>\n",
              "      <th>dsthostcount</th>\n",
              "      <th>dsthostsrvcount</th>\n",
              "      <th>dsthostsamesrvrate</th>\n",
              "      <th>dsthostdiffsrvrate</th>\n",
              "      <th>dsthostsamesrcportrate</th>\n",
              "      <th>dsthostsrvdiffhostrate</th>\n",
              "      <th>dsthostserrorrate</th>\n",
              "      <th>dsthostsrvserrorrate</th>\n",
              "      <th>dsthostrerrorrate</th>\n",
              "      <th>dsthostsrvrerrorrate</th>\n",
              "      <th>lastflag</th>\n",
              "    </tr>\n",
              "  </thead>\n",
              "  <tbody>\n",
              "    <tr>\n",
              "      <th>count</th>\n",
              "      <td>125973.00000</td>\n",
              "      <td>1.259730e+05</td>\n",
              "      <td>1.259730e+05</td>\n",
              "      <td>125973.000000</td>\n",
              "      <td>125973.000000</td>\n",
              "      <td>125973.000000</td>\n",
              "      <td>125973.000000</td>\n",
              "      <td>125973.000000</td>\n",
              "      <td>125973.000000</td>\n",
              "      <td>125973.000000</td>\n",
              "      <td>125973.000000</td>\n",
              "      <td>125973.000000</td>\n",
              "      <td>125973.000000</td>\n",
              "      <td>125973.000000</td>\n",
              "      <td>125973.000000</td>\n",
              "      <td>125973.000000</td>\n",
              "      <td>125973.0</td>\n",
              "      <td>125973.000000</td>\n",
              "      <td>125973.000000</td>\n",
              "      <td>125973.000000</td>\n",
              "      <td>125973.000000</td>\n",
              "      <td>125973.000000</td>\n",
              "      <td>125973.000000</td>\n",
              "      <td>125973.000000</td>\n",
              "      <td>125973.000000</td>\n",
              "      <td>125973.000000</td>\n",
              "      <td>125973.000000</td>\n",
              "      <td>125973.000000</td>\n",
              "      <td>125973.000000</td>\n",
              "      <td>125973.000000</td>\n",
              "      <td>125973.000000</td>\n",
              "      <td>125973.000000</td>\n",
              "      <td>125973.000000</td>\n",
              "      <td>125973.000000</td>\n",
              "      <td>125973.000000</td>\n",
              "      <td>125973.000000</td>\n",
              "      <td>125973.000000</td>\n",
              "      <td>125973.000000</td>\n",
              "      <td>125973.000000</td>\n",
              "    </tr>\n",
              "    <tr>\n",
              "      <th>mean</th>\n",
              "      <td>287.14465</td>\n",
              "      <td>4.556674e+04</td>\n",
              "      <td>1.977911e+04</td>\n",
              "      <td>0.000198</td>\n",
              "      <td>0.022687</td>\n",
              "      <td>0.000111</td>\n",
              "      <td>0.204409</td>\n",
              "      <td>0.001222</td>\n",
              "      <td>0.395736</td>\n",
              "      <td>0.279250</td>\n",
              "      <td>0.001342</td>\n",
              "      <td>0.001103</td>\n",
              "      <td>0.302192</td>\n",
              "      <td>0.012669</td>\n",
              "      <td>0.000413</td>\n",
              "      <td>0.004096</td>\n",
              "      <td>0.0</td>\n",
              "      <td>0.000008</td>\n",
              "      <td>0.009423</td>\n",
              "      <td>84.107555</td>\n",
              "      <td>27.737888</td>\n",
              "      <td>0.284485</td>\n",
              "      <td>0.282485</td>\n",
              "      <td>0.119958</td>\n",
              "      <td>0.121183</td>\n",
              "      <td>0.660928</td>\n",
              "      <td>0.063053</td>\n",
              "      <td>0.097322</td>\n",
              "      <td>182.148945</td>\n",
              "      <td>115.653005</td>\n",
              "      <td>0.521242</td>\n",
              "      <td>0.082951</td>\n",
              "      <td>0.148379</td>\n",
              "      <td>0.032542</td>\n",
              "      <td>0.284452</td>\n",
              "      <td>0.278485</td>\n",
              "      <td>0.118832</td>\n",
              "      <td>0.120240</td>\n",
              "      <td>19.504060</td>\n",
              "    </tr>\n",
              "    <tr>\n",
              "      <th>std</th>\n",
              "      <td>2604.51531</td>\n",
              "      <td>5.870331e+06</td>\n",
              "      <td>4.021269e+06</td>\n",
              "      <td>0.014086</td>\n",
              "      <td>0.253530</td>\n",
              "      <td>0.014366</td>\n",
              "      <td>2.149968</td>\n",
              "      <td>0.045239</td>\n",
              "      <td>0.489010</td>\n",
              "      <td>23.942042</td>\n",
              "      <td>0.036603</td>\n",
              "      <td>0.045154</td>\n",
              "      <td>24.399618</td>\n",
              "      <td>0.483935</td>\n",
              "      <td>0.022181</td>\n",
              "      <td>0.099370</td>\n",
              "      <td>0.0</td>\n",
              "      <td>0.002817</td>\n",
              "      <td>0.096612</td>\n",
              "      <td>114.508607</td>\n",
              "      <td>72.635840</td>\n",
              "      <td>0.446456</td>\n",
              "      <td>0.447022</td>\n",
              "      <td>0.320436</td>\n",
              "      <td>0.323647</td>\n",
              "      <td>0.439623</td>\n",
              "      <td>0.180314</td>\n",
              "      <td>0.259830</td>\n",
              "      <td>99.206213</td>\n",
              "      <td>110.702741</td>\n",
              "      <td>0.448949</td>\n",
              "      <td>0.188922</td>\n",
              "      <td>0.308997</td>\n",
              "      <td>0.112564</td>\n",
              "      <td>0.444784</td>\n",
              "      <td>0.445669</td>\n",
              "      <td>0.306557</td>\n",
              "      <td>0.319459</td>\n",
              "      <td>2.291503</td>\n",
              "    </tr>\n",
              "    <tr>\n",
              "      <th>min</th>\n",
              "      <td>0.00000</td>\n",
              "      <td>0.000000e+00</td>\n",
              "      <td>0.000000e+00</td>\n",
              "      <td>0.000000</td>\n",
              "      <td>0.000000</td>\n",
              "      <td>0.000000</td>\n",
              "      <td>0.000000</td>\n",
              "      <td>0.000000</td>\n",
              "      <td>0.000000</td>\n",
              "      <td>0.000000</td>\n",
              "      <td>0.000000</td>\n",
              "      <td>0.000000</td>\n",
              "      <td>0.000000</td>\n",
              "      <td>0.000000</td>\n",
              "      <td>0.000000</td>\n",
              "      <td>0.000000</td>\n",
              "      <td>0.0</td>\n",
              "      <td>0.000000</td>\n",
              "      <td>0.000000</td>\n",
              "      <td>0.000000</td>\n",
              "      <td>0.000000</td>\n",
              "      <td>0.000000</td>\n",
              "      <td>0.000000</td>\n",
              "      <td>0.000000</td>\n",
              "      <td>0.000000</td>\n",
              "      <td>0.000000</td>\n",
              "      <td>0.000000</td>\n",
              "      <td>0.000000</td>\n",
              "      <td>0.000000</td>\n",
              "      <td>0.000000</td>\n",
              "      <td>0.000000</td>\n",
              "      <td>0.000000</td>\n",
              "      <td>0.000000</td>\n",
              "      <td>0.000000</td>\n",
              "      <td>0.000000</td>\n",
              "      <td>0.000000</td>\n",
              "      <td>0.000000</td>\n",
              "      <td>0.000000</td>\n",
              "      <td>0.000000</td>\n",
              "    </tr>\n",
              "    <tr>\n",
              "      <th>25%</th>\n",
              "      <td>0.00000</td>\n",
              "      <td>0.000000e+00</td>\n",
              "      <td>0.000000e+00</td>\n",
              "      <td>0.000000</td>\n",
              "      <td>0.000000</td>\n",
              "      <td>0.000000</td>\n",
              "      <td>0.000000</td>\n",
              "      <td>0.000000</td>\n",
              "      <td>0.000000</td>\n",
              "      <td>0.000000</td>\n",
              "      <td>0.000000</td>\n",
              "      <td>0.000000</td>\n",
              "      <td>0.000000</td>\n",
              "      <td>0.000000</td>\n",
              "      <td>0.000000</td>\n",
              "      <td>0.000000</td>\n",
              "      <td>0.0</td>\n",
              "      <td>0.000000</td>\n",
              "      <td>0.000000</td>\n",
              "      <td>2.000000</td>\n",
              "      <td>2.000000</td>\n",
              "      <td>0.000000</td>\n",
              "      <td>0.000000</td>\n",
              "      <td>0.000000</td>\n",
              "      <td>0.000000</td>\n",
              "      <td>0.090000</td>\n",
              "      <td>0.000000</td>\n",
              "      <td>0.000000</td>\n",
              "      <td>82.000000</td>\n",
              "      <td>10.000000</td>\n",
              "      <td>0.050000</td>\n",
              "      <td>0.000000</td>\n",
              "      <td>0.000000</td>\n",
              "      <td>0.000000</td>\n",
              "      <td>0.000000</td>\n",
              "      <td>0.000000</td>\n",
              "      <td>0.000000</td>\n",
              "      <td>0.000000</td>\n",
              "      <td>18.000000</td>\n",
              "    </tr>\n",
              "    <tr>\n",
              "      <th>50%</th>\n",
              "      <td>0.00000</td>\n",
              "      <td>4.400000e+01</td>\n",
              "      <td>0.000000e+00</td>\n",
              "      <td>0.000000</td>\n",
              "      <td>0.000000</td>\n",
              "      <td>0.000000</td>\n",
              "      <td>0.000000</td>\n",
              "      <td>0.000000</td>\n",
              "      <td>0.000000</td>\n",
              "      <td>0.000000</td>\n",
              "      <td>0.000000</td>\n",
              "      <td>0.000000</td>\n",
              "      <td>0.000000</td>\n",
              "      <td>0.000000</td>\n",
              "      <td>0.000000</td>\n",
              "      <td>0.000000</td>\n",
              "      <td>0.0</td>\n",
              "      <td>0.000000</td>\n",
              "      <td>0.000000</td>\n",
              "      <td>14.000000</td>\n",
              "      <td>8.000000</td>\n",
              "      <td>0.000000</td>\n",
              "      <td>0.000000</td>\n",
              "      <td>0.000000</td>\n",
              "      <td>0.000000</td>\n",
              "      <td>1.000000</td>\n",
              "      <td>0.000000</td>\n",
              "      <td>0.000000</td>\n",
              "      <td>255.000000</td>\n",
              "      <td>63.000000</td>\n",
              "      <td>0.510000</td>\n",
              "      <td>0.020000</td>\n",
              "      <td>0.000000</td>\n",
              "      <td>0.000000</td>\n",
              "      <td>0.000000</td>\n",
              "      <td>0.000000</td>\n",
              "      <td>0.000000</td>\n",
              "      <td>0.000000</td>\n",
              "      <td>20.000000</td>\n",
              "    </tr>\n",
              "    <tr>\n",
              "      <th>75%</th>\n",
              "      <td>0.00000</td>\n",
              "      <td>2.760000e+02</td>\n",
              "      <td>5.160000e+02</td>\n",
              "      <td>0.000000</td>\n",
              "      <td>0.000000</td>\n",
              "      <td>0.000000</td>\n",
              "      <td>0.000000</td>\n",
              "      <td>0.000000</td>\n",
              "      <td>1.000000</td>\n",
              "      <td>0.000000</td>\n",
              "      <td>0.000000</td>\n",
              "      <td>0.000000</td>\n",
              "      <td>0.000000</td>\n",
              "      <td>0.000000</td>\n",
              "      <td>0.000000</td>\n",
              "      <td>0.000000</td>\n",
              "      <td>0.0</td>\n",
              "      <td>0.000000</td>\n",
              "      <td>0.000000</td>\n",
              "      <td>143.000000</td>\n",
              "      <td>18.000000</td>\n",
              "      <td>1.000000</td>\n",
              "      <td>1.000000</td>\n",
              "      <td>0.000000</td>\n",
              "      <td>0.000000</td>\n",
              "      <td>1.000000</td>\n",
              "      <td>0.060000</td>\n",
              "      <td>0.000000</td>\n",
              "      <td>255.000000</td>\n",
              "      <td>255.000000</td>\n",
              "      <td>1.000000</td>\n",
              "      <td>0.070000</td>\n",
              "      <td>0.060000</td>\n",
              "      <td>0.020000</td>\n",
              "      <td>1.000000</td>\n",
              "      <td>1.000000</td>\n",
              "      <td>0.000000</td>\n",
              "      <td>0.000000</td>\n",
              "      <td>21.000000</td>\n",
              "    </tr>\n",
              "    <tr>\n",
              "      <th>max</th>\n",
              "      <td>42908.00000</td>\n",
              "      <td>1.379964e+09</td>\n",
              "      <td>1.309937e+09</td>\n",
              "      <td>1.000000</td>\n",
              "      <td>3.000000</td>\n",
              "      <td>3.000000</td>\n",
              "      <td>77.000000</td>\n",
              "      <td>5.000000</td>\n",
              "      <td>1.000000</td>\n",
              "      <td>7479.000000</td>\n",
              "      <td>1.000000</td>\n",
              "      <td>2.000000</td>\n",
              "      <td>7468.000000</td>\n",
              "      <td>43.000000</td>\n",
              "      <td>2.000000</td>\n",
              "      <td>9.000000</td>\n",
              "      <td>0.0</td>\n",
              "      <td>1.000000</td>\n",
              "      <td>1.000000</td>\n",
              "      <td>511.000000</td>\n",
              "      <td>511.000000</td>\n",
              "      <td>1.000000</td>\n",
              "      <td>1.000000</td>\n",
              "      <td>1.000000</td>\n",
              "      <td>1.000000</td>\n",
              "      <td>1.000000</td>\n",
              "      <td>1.000000</td>\n",
              "      <td>1.000000</td>\n",
              "      <td>255.000000</td>\n",
              "      <td>255.000000</td>\n",
              "      <td>1.000000</td>\n",
              "      <td>1.000000</td>\n",
              "      <td>1.000000</td>\n",
              "      <td>1.000000</td>\n",
              "      <td>1.000000</td>\n",
              "      <td>1.000000</td>\n",
              "      <td>1.000000</td>\n",
              "      <td>1.000000</td>\n",
              "      <td>21.000000</td>\n",
              "    </tr>\n",
              "  </tbody>\n",
              "</table>\n",
              "</div>"
            ],
            "text/plain": [
              "           duration      srcbytes  ...  dsthostsrvrerrorrate       lastflag\n",
              "count  125973.00000  1.259730e+05  ...         125973.000000  125973.000000\n",
              "mean      287.14465  4.556674e+04  ...              0.120240      19.504060\n",
              "std      2604.51531  5.870331e+06  ...              0.319459       2.291503\n",
              "min         0.00000  0.000000e+00  ...              0.000000       0.000000\n",
              "25%         0.00000  0.000000e+00  ...              0.000000      18.000000\n",
              "50%         0.00000  4.400000e+01  ...              0.000000      20.000000\n",
              "75%         0.00000  2.760000e+02  ...              0.000000      21.000000\n",
              "max     42908.00000  1.379964e+09  ...              1.000000      21.000000\n",
              "\n",
              "[8 rows x 39 columns]"
            ]
          },
          "metadata": {
            "tags": []
          },
          "execution_count": 88
        }
      ]
    },
    {
      "cell_type": "markdown",
      "metadata": {
        "id": "4_QD1Okn0Kub"
      },
      "source": [
        "По нескольким столбцам наблюдаются значения среднего близкие к нулю. Если значения отличные от нуля носят характер выброса, то от подобных столбцов лучше будет избавиться.\n",
        "\n",
        "Посмотрим какими значениями представлены стобцы и как проявляется корреляция c целевой переменной. Для этого потребуется перекодировать столбцы представленные строками."
      ]
    },
    {
      "cell_type": "code",
      "metadata": {
        "colab": {
          "base_uri": "https://localhost:8080/"
        },
        "id": "0ipA9eJJsYjZ",
        "outputId": "9d38fd9b-c405-4ab8-c277-36482b038848"
      },
      "source": [
        "for i in df_train.describe():\n",
        "  if df_train.describe()[i]['mean'] < 0.001:\n",
        "    print(df_train[i].value_counts())"
      ],
      "execution_count": null,
      "outputs": [
        {
          "output_type": "stream",
          "text": [
            "0    125948\n",
            "1        25\n",
            "Name: land, dtype: int64\n",
            "0    125964\n",
            "1         5\n",
            "2         3\n",
            "3         1\n",
            "Name: urgent, dtype: int64\n",
            "0    125926\n",
            "1        42\n",
            "2         5\n",
            "Name: numshells, dtype: int64\n",
            "0    125973\n",
            "Name: numoutboundcmds, dtype: int64\n",
            "0    125972\n",
            "1         1\n",
            "Name: ishostlogin, dtype: int64\n"
          ],
          "name": "stdout"
        }
      ]
    },
    {
      "cell_type": "code",
      "metadata": {
        "id": "aeg4iBhT7p1R"
      },
      "source": [
        "# переведем категориальные значения в числовые\n",
        "def encoder(df):\n",
        "    df_copy = df.copy() \n",
        "    enc_dict = {}\n",
        "    for i in df_copy.columns:\n",
        "        if df_copy.dtypes[i] == np.object:\n",
        "            enc_dict[i] = p.LabelEncoder()\n",
        "            df_copy[i] = enc_dict[i].fit_transform(df_copy[i]) \n",
        "    return df_copy, enc_dict\n",
        "\n",
        "encoded_train, encoders_train = encoder(df_train) \n",
        "encoded_test, encoders_test = encoder(df_test) "
      ],
      "execution_count": null,
      "outputs": []
    },
    {
      "cell_type": "code",
      "metadata": {
        "colab": {
          "base_uri": "https://localhost:8080/"
        },
        "id": "L-10FLbzVlBk",
        "outputId": "3d6f9177-231c-4bab-aa14-83bf4b37ba7c"
      },
      "source": [
        "for i in encoded_train:\n",
        "  if i in ['land', 'urgent', 'numshells', 'numoutboundcmds', 'ishostlogin']:\n",
        "    print(i, encoded_train['attack'].corr(encoded_train[i]))"
      ],
      "execution_count": null,
      "outputs": [
        {
          "output_type": "stream",
          "text": [
            "land -0.01723898324061636\n",
            "urgent -0.0035125317957662968\n",
            "numshells 0.0007432878609525767\n",
            "numoutboundcmds nan\n",
            "ishostlogin 0.0004002918414059992\n"
          ],
          "name": "stdout"
        }
      ]
    },
    {
      "cell_type": "markdown",
      "metadata": {
        "id": "AjBLtkguZoUg"
      },
      "source": [
        "Удалим из перечисленных столбцов лишние. \n",
        "\n",
        "В данном случае есть смысл оставить только столбец land, остальные нам не понадобятся."
      ]
    },
    {
      "cell_type": "code",
      "metadata": {
        "id": "Lug8uFJ4aJM4"
      },
      "source": [
        "for i in ['urgent', 'numshells', 'numoutboundcmds', 'ishostlogin']:\n",
        "  del encoded_train[i]\n",
        "  del encoded_test[i]"
      ],
      "execution_count": null,
      "outputs": []
    },
    {
      "cell_type": "markdown",
      "metadata": {
        "id": "A3Q1e-PKi7AF"
      },
      "source": [
        "Теперь необходимо понимать в каком виде у нас представлена целевая переменная. Для этого посмотрим на соотношение видов активности."
      ]
    },
    {
      "cell_type": "code",
      "metadata": {
        "colab": {
          "base_uri": "https://localhost:8080/"
        },
        "id": "e9FbcpkW678u",
        "outputId": "ee356b23-fd56-4c98-cdce-7e220266d201"
      },
      "source": [
        "df_train['attack'].value_counts()"
      ],
      "execution_count": null,
      "outputs": [
        {
          "output_type": "execute_result",
          "data": {
            "text/plain": [
              "normal             67343\n",
              "neptune            41214\n",
              "satan               3633\n",
              "ipsweep             3599\n",
              "portsweep           2931\n",
              "smurf               2646\n",
              "nmap                1493\n",
              "back                 956\n",
              "teardrop             892\n",
              "warezclient          890\n",
              "pod                  201\n",
              "guess_passwd          53\n",
              "buffer_overflow       30\n",
              "warezmaster           20\n",
              "land                  18\n",
              "imap                  11\n",
              "rootkit               10\n",
              "loadmodule             9\n",
              "ftp_write              8\n",
              "multihop               7\n",
              "phf                    4\n",
              "perl                   3\n",
              "spy                    2\n",
              "Name: attack, dtype: int64"
            ]
          },
          "metadata": {
            "tags": []
          },
          "execution_count": 93
        }
      ]
    },
    {
      "cell_type": "code",
      "metadata": {
        "colab": {
          "base_uri": "https://localhost:8080/",
          "height": 689
        },
        "id": "hs0B5H_929CK",
        "outputId": "8d489b0c-4358-4779-8930-cde60df4e9dc"
      },
      "source": [
        "df = df_train.groupby('attack').size()\n",
        "df.plot(kind='bar', subplots=True, figsize=(10, 10), )\n",
        "plt.title(\"Количство экземпляров для видов активности\")\n",
        "plt.ylabel(\"Количество\")\n",
        "plt.xlabel(\"Виды активности\")\n",
        "plt.show()"
      ],
      "execution_count": null,
      "outputs": [
        {
          "output_type": "display_data",
          "data": {
            "image/png": "[encoded data removed]",
            "text/plain": [
              "<Figure size 720x720 with 1 Axes>"
            ]
          },
          "metadata": {
            "tags": [],
            "needs_background": "light"
          }
        }
      ]
    },
    {
      "cell_type": "markdown",
      "metadata": {
        "id": "o-aIWC2xjlsu"
      },
      "source": [
        "Так как некоторые виды представлены в количестве меньше десяти, то построить классификатор, для таких значений мы сможем наврядли. Поэтому самым оптимальным будет перевести переменную в бинарный формат:"
      ]
    },
    {
      "cell_type": "code",
      "metadata": {
        "id": "yHlAgRRn4M69"
      },
      "source": [
        "y_train = []  \n",
        "for i in (df_train['attack']):\n",
        "  if i == 'normal':\n",
        "   y_train.append(0)\n",
        "  else:\n",
        "   y_train.append(1)\n",
        "y_train = np.array(y_train)\n",
        "\n",
        "y_test = []\n",
        "for i in (df_test['attack']):\n",
        "  if i == 'normal':\n",
        "   y_test.append(0)\n",
        "  else:\n",
        "   y_test.append(1)\n",
        "y_test = np.array(y_test)"
      ],
      "execution_count": null,
      "outputs": []
    },
    {
      "cell_type": "code",
      "metadata": {
        "colab": {
          "base_uri": "https://localhost:8080/",
          "height": 607
        },
        "id": "6eJJzz2J4-YD",
        "outputId": "261278f2-cdee-4eb0-cf71-86ed07277d8f"
      },
      "source": [
        "attack = np.argwhere(y_train == 1).sum()\n",
        "normal = np.argwhere(y_train == 0).sum()\n",
        "x = ['Атаки', 'Нормальная активность']\n",
        "y = [attack, normal]\n",
        "fig, ax = plt.subplots(figsize=(10,10))\n",
        "ax.bar(x, y, color=('cornflowerblue', 'sandybrown' ))\n",
        "plt.title('Соотношение атак и нормальной активности в датасете')\n",
        "plt.show()"
      ],
      "execution_count": null,
      "outputs": [
        {
          "output_type": "display_data",
          "data": {
            "image/png": "[encoded data removed]",
            "text/plain": [
              "<Figure size 720x720 with 1 Axes>"
            ]
          },
          "metadata": {
            "tags": [],
            "needs_background": "light"
          }
        }
      ]
    },
    {
      "cell_type": "code",
      "metadata": {
        "id": "fGZWhxYff5J1"
      },
      "source": [
        "del encoded_train['attack']\n",
        "del encoded_test['attack']"
      ],
      "execution_count": null,
      "outputs": []
    },
    {
      "cell_type": "markdown",
      "metadata": {
        "id": "ZQ1HSPOzoG0I"
      },
      "source": [
        "Теперь посмотрим на корреляцию в данных и выведем значения близкие к единице."
      ]
    },
    {
      "cell_type": "code",
      "metadata": {
        "colab": {
          "base_uri": "https://localhost:8080/",
          "height": 1000
        },
        "id": "VhfvTmgleBwr",
        "outputId": "5d9e7a83-0925-414f-8f1d-d812a3bcedf9"
      },
      "source": [
        "import seaborn as sns \n",
        "plt.figure(figsize=(15,15), dpi=80)\n",
        "heatmap = sns.heatmap(encoded_train.corr(), annot=False, )"
      ],
      "execution_count": null,
      "outputs": [
        {
          "output_type": "display_data",
          "data": {
            "image/png": "[encoded data removed]",
            "text/plain": [
              "<Figure size 1200x1200 with 2 Axes>"
            ]
          },
          "metadata": {
            "tags": [],
            "needs_background": "light"
          }
        }
      ]
    },
    {
      "cell_type": "code",
      "metadata": {
        "colab": {
          "base_uri": "https://localhost:8080/"
        },
        "id": "h-bJZaEri9YC",
        "outputId": "a48e7af0-6321-43b3-f603-cf124868d124"
      },
      "source": [
        "corr = encoded_train.corr()\n",
        "count = 0\n",
        "for i in list(corr):\n",
        "  if str(i) != corr.index[corr[i] >= 0.9].tolist()[0]:\n",
        "    print(str(i), corr.index[corr[i] >= 0.9].tolist()[0])\n",
        "    count+=1\n",
        "if count == 0:\n",
        "  print('Единичные корреляции отсутствуют')"
      ],
      "execution_count": null,
      "outputs": [
        {
          "output_type": "stream",
          "text": [
            "numroot numcompromised\n",
            "srvserrorrate serrorrate\n",
            "srvrerrorrate rerrorrate\n",
            "dsthostserrorrate serrorrate\n",
            "dsthostsrvserrorrate serrorrate\n",
            "dsthostrerrorrate rerrorrate\n",
            "dsthostsrvrerrorrate rerrorrate\n"
          ],
          "name": "stdout"
        }
      ]
    },
    {
      "cell_type": "markdown",
      "metadata": {
        "id": "l251ePU0pQZ5"
      },
      "source": [
        "Из описания датасета известно, что некоторые столбцы указывают на значения в столбце flag и частично дублируют друг друга. Сейчас очевидно, что это практически одни и теже значения. Удалим эти повторы:"
      ]
    },
    {
      "cell_type": "code",
      "metadata": {
        "id": "Lrb2AL1JnWxn"
      },
      "source": [
        "del encoded_train['serrorrate']\n",
        "del encoded_train['rerrorrate']\n",
        "del encoded_test['serrorrate']\n",
        "del encoded_test['rerrorrate']"
      ],
      "execution_count": null,
      "outputs": []
    },
    {
      "cell_type": "markdown",
      "metadata": {
        "id": "0p4vlGh2rNGK"
      },
      "source": [
        "Теперь необходимо нормализовать данные для использования классическими моделями и перемешать их, чтобы исключить связь последовательности."
      ]
    },
    {
      "cell_type": "code",
      "metadata": {
        "colab": {
          "base_uri": "https://localhost:8080/"
        },
        "id": "4HRlBZXf_a5E",
        "outputId": "7cb42100-8c4e-4148-cc0c-bd20a0c7cdea"
      },
      "source": [
        "from sklearn.utils import shuffle\n",
        "X = np.array(encoded_train)\n",
        "X_train = StandardScaler().fit(X).transform(X)\n",
        "X1 = np.array(encoded_test)\n",
        "X_test = StandardScaler().fit(X1).transform(X1)\n",
        "X_train = shuffle(X_train, random_state = 42)\n",
        "y_train = shuffle(y_train, random_state = 42)\n",
        "print(X_test.shape, X_train.shape)"
      ],
      "execution_count": null,
      "outputs": [
        {
          "output_type": "stream",
          "text": [
            "(22544, 36) (125973, 36)\n"
          ],
          "name": "stdout"
        }
      ]
    },
    {
      "cell_type": "markdown",
      "metadata": {
        "id": "CfSh1cI1riw3"
      },
      "source": [
        "Пока работа с датасетом закончена, теперь нужны библиотеки, для обучения моделей. "
      ]
    },
    {
      "cell_type": "code",
      "metadata": {
        "id": "egumepvgaMub",
        "colab": {
          "base_uri": "https://localhost:8080/"
        },
        "outputId": "0fc93ebc-528a-40a1-b992-d1c3173c8ce4"
      },
      "source": [
        "! pip install catboost"
      ],
      "execution_count": null,
      "outputs": [
        {
          "output_type": "stream",
          "text": [
            "Requirement already satisfied: catboost in /usr/local/lib/python3.6/dist-packages (0.24.4)\n",
            "Requirement already satisfied: six in /usr/local/lib/python3.6/dist-packages (from catboost) (1.15.0)\n",
            "Requirement already satisfied: graphviz in /usr/local/lib/python3.6/dist-packages (from catboost) (0.10.1)\n",
            "Requirement already satisfied: pandas>=0.24.0 in /usr/local/lib/python3.6/dist-packages (from catboost) (1.1.5)\n",
            "Requirement already satisfied: matplotlib in /usr/local/lib/python3.6/dist-packages (from catboost) (3.2.2)\n",
            "Requirement already satisfied: numpy>=1.16.0 in /usr/local/lib/python3.6/dist-packages (from catboost) (1.19.5)\n",
            "Requirement already satisfied: scipy in /usr/local/lib/python3.6/dist-packages (from catboost) (1.4.1)\n",
            "Requirement already satisfied: plotly in /usr/local/lib/python3.6/dist-packages (from catboost) (4.4.1)\n",
            "Requirement already satisfied: pytz>=2017.2 in /usr/local/lib/python3.6/dist-packages (from pandas>=0.24.0->catboost) (2018.9)\n",
            "Requirement already satisfied: python-dateutil>=2.7.3 in /usr/local/lib/python3.6/dist-packages (from pandas>=0.24.0->catboost) (2.8.1)\n",
            "Requirement already satisfied: kiwisolver>=1.0.1 in /usr/local/lib/python3.6/dist-packages (from matplotlib->catboost) (1.3.1)\n",
            "Requirement already satisfied: cycler>=0.10 in /usr/local/lib/python3.6/dist-packages (from matplotlib->catboost) (0.10.0)\n",
            "Requirement already satisfied: pyparsing!=2.0.4,!=2.1.2,!=2.1.6,>=2.0.1 in /usr/local/lib/python3.6/dist-packages (from matplotlib->catboost) (2.4.7)\n",
            "Requirement already satisfied: retrying>=1.3.3 in /usr/local/lib/python3.6/dist-packages (from plotly->catboost) (1.3.3)\n"
          ],
          "name": "stdout"
        }
      ]
    },
    {
      "cell_type": "code",
      "metadata": {
        "id": "7XQyQYtHsMNb"
      },
      "source": [
        "from sklearn.model_selection import GridSearchCV\n",
        "from sklearn import metrics\n",
        "from sklearn.ensemble import RandomForestClassifier\n",
        "from sklearn.externals import joblib\n",
        "from keras.models import model_from_json\n",
        "from keras.models import Sequential\n",
        "from keras.layers import Dense\n",
        "from keras.callbacks import EarlyStopping\n",
        "from catboost import CatBoostClassifier\n",
        "import matplotlib.pyplot as plt\n",
        "import lightgbm as lgb\n",
        "import multiprocessing\n",
        "import time\n",
        "import os\n"
      ],
      "execution_count": null,
      "outputs": []
    },
    {
      "cell_type": "markdown",
      "metadata": {
        "id": "mrjT-lhestbg"
      },
      "source": [
        "Построим модель на основе бэгинга и посмотрим какие характеристики модель определит как наиболее ценные. "
      ]
    },
    {
      "cell_type": "code",
      "metadata": {
        "colab": {
          "base_uri": "https://localhost:8080/"
        },
        "id": "pypSN2LnsjU9",
        "outputId": "643d2d55-00cc-41be-a17f-fe91a3dd6afd"
      },
      "source": [
        "start_time = time.time()\n",
        "rfc = RandomForestClassifier(random_state=42)\n",
        "param_gs = { \n",
        "    'n_estimators': [50, 100, 150],\n",
        "    'max_features': ['auto', 'sqrt', 'log2'],\n",
        "    'max_depth' : [4,5,6,7,8],\n",
        "    'criterion' :['gini', 'entropy']}\n",
        "gs = GridSearchCV(rfc, param_gs,  cv= 5)\n",
        "gs.fit(X_train, y_train)\n",
        "print(time.time() - start_time)"
      ],
      "execution_count": null,
      "outputs": [
        {
          "output_type": "stream",
          "text": [
            "3597.220796585083\n"
          ],
          "name": "stdout"
        }
      ]
    },
    {
      "cell_type": "code",
      "metadata": {
        "colab": {
          "base_uri": "https://localhost:8080/"
        },
        "id": "KjswQr5IvVdg",
        "outputId": "fdeeeec5-c12c-4809-a8e1-0f099ac960f4"
      },
      "source": [
        "best_p = gs.best_params_\n",
        "rfc = RandomForestClassifier(random_state=42, n_estimators = best_p['n_estimators'],\n",
        "          max_features = best_p['max_features'],\n",
        "          max_depth = best_p['max_depth'],\n",
        "          criterion = best_p['criterion'])\n",
        "print(best_p)\n",
        "rfc.fit(X_train, y_train)\n",
        "print(rfc.feature_importances_)"
      ],
      "execution_count": null,
      "outputs": [
        {
          "output_type": "stream",
          "text": [
            "{'criterion': 'gini', 'max_depth': 8, 'max_features': 'auto', 'n_estimators': 150}\n",
            "[1.93331582e-03 3.14089682e-02 1.81209815e-02 7.14493724e-02\n",
            " 1.57685576e-01 1.41082543e-01 1.94707409e-05 2.02484149e-03\n",
            " 5.50284890e-03 1.21273129e-04 3.11410942e-02 3.65605002e-03\n",
            " 1.53874077e-05 8.05491832e-06 9.27935767e-05 1.47005292e-05\n",
            " 5.17871203e-06 5.65805335e-04 3.97977844e-02 1.59018067e-02\n",
            " 1.87020293e-02 2.45552764e-03 7.19775653e-02 6.94257761e-02\n",
            " 3.68875672e-03 1.39046385e-02 7.70135830e-02 3.60500502e-02\n",
            " 3.25303381e-02 2.12225240e-02 1.56636742e-02 1.77513762e-02\n",
            " 1.81908794e-02 8.02058612e-03 7.26796631e-03 6.55868821e-02]\n"
          ],
          "name": "stdout"
        }
      ]
    },
    {
      "cell_type": "code",
      "metadata": {
        "colab": {
          "base_uri": "https://localhost:8080/"
        },
        "id": "lJOWs27clBT0",
        "outputId": "dcca39ff-a3f0-4a76-9490-4956c614e6b7"
      },
      "source": [
        "print(metrics.classification_report(y_test, rfc.predict(X_test)))\n",
        "print(metrics.roc_auc_score(y_test, rfc.predict(X_test)))\n",
        "filename = '/content/drive/MyDrive/rfc.sav'\n",
        "joblib.dump(rfc, filename)\n",
        "for name, importance in zip(encoded_train.columns, rfc.feature_importances_):\n",
        "  if importance>0.05:\n",
        "    print(name, \"=\", importance)"
      ],
      "execution_count": null,
      "outputs": [
        {
          "output_type": "stream",
          "text": [
            "              precision    recall  f1-score   support\n",
            "\n",
            "           0       0.72      0.93      0.81      9711\n",
            "           1       0.93      0.72      0.81     12833\n",
            "\n",
            "    accuracy                           0.81     22544\n",
            "   macro avg       0.82      0.82      0.81     22544\n",
            "weighted avg       0.84      0.81      0.81     22544\n",
            "\n",
            "0.8246287192579648\n",
            "flag = 0.07144937241615043\n",
            "srcbytes = 0.15768557575180267\n",
            "dstbytes = 0.14108254321407188\n",
            "samesrvrate = 0.07197756526747537\n",
            "diffsrvrate = 0.06942577609026643\n",
            "dsthostsrvcount = 0.07701358298907339\n",
            "lastflag = 0.06558688206579871\n"
          ],
          "name": "stdout"
        }
      ]
    },
    {
      "cell_type": "markdown",
      "metadata": {
        "id": "_SRmG3zGtQAs"
      },
      "source": [
        "Сохраним эту модель и загрузим ее повторно."
      ]
    },
    {
      "cell_type": "markdown",
      "metadata": {
        "id": "nwbXNTz4tixK"
      },
      "source": [
        "Теперь создадим нейронную сеть на основе keras. Для нее, конечно, тоже можно было бы запустить поиск гипперпараметров по сетке (и просто для интереса я размещу этот блок кода в конце ноутбука), но временные затраты для такого подбора слишком большие. Поэтому гиперпараметры выбраны по следующей логике:\n",
        "\n",
        "\n",
        "Количество выходных нейронов на каждом слое все меньше т.к. в конце концов нам необходимо получить бинарную классификацию. Входного и скротого слоев используется функция активация \"elu\" для того, чтобы сохранить способность слоев к обратному распространению. Для этих же слоев используется нейрон смещения, чтобы убрать пересечения выходных значений (без него точность была ниже примерно на 4 процента). Также для каждого слоя предусмотренно выключение 10% нейронов, для того, чтобы сохранить возможность сети к обобщению. "
      ]
    },
    {
      "cell_type": "code",
      "metadata": {
        "colab": {
          "base_uri": "https://localhost:8080/"
        },
        "id": "dxqb8XyaT8OS",
        "outputId": "b095a40f-e6c1-48bf-f489-1f342cb7aaf5"
      },
      "source": [
        "from keras.layers import Dropout\n",
        "model = Sequential()\n",
        "model.add(Dense(20, input_dim=36, activation='elu', use_bias = True))\n",
        "model.add(Dropout(0.2))\n",
        "model.add(Dense(15, activation='elu', use_bias = True))\n",
        "model.add(Dropout(0.2))\n",
        "model.add(Dense(1, activation='sigmoid'))\n",
        "model.compile(loss='binary_crossentropy', optimizer='adam', metrics=['accuracy'])\n",
        "\n",
        "callback = EarlyStopping(monitor='loss', patience=40, restore_best_weights=True)\n",
        "start_time = time.time()\n",
        "history = model.fit(X_train, y_train, epochs=1000, batch_size=20, verbose=1, callbacks=[callback])\n",
        "print(time.time() - start_time)\n",
        "pred = model.predict_classes(X_test)\n",
        "print(metrics.classification_report(y_test, pred))\n",
        "print(metrics.roc_auc_score(y_test, pred))"
      ],
      "execution_count": null,
      "outputs": [
        {
          "output_type": "stream",
          "text": [
            "Epoch 1/1000\n",
            "6299/6299 [==============================] - 10s 2ms/step - loss: 0.0874 - accuracy: 0.9683\n",
            "Epoch 2/1000\n",
            "6299/6299 [==============================] - 9s 1ms/step - loss: 0.0262 - accuracy: 0.9903\n",
            "Epoch 3/1000\n",
            "6299/6299 [==============================] - 9s 1ms/step - loss: 0.0197 - accuracy: 0.9923\n",
            "Epoch 4/1000\n",
            "6299/6299 [==============================] - 9s 1ms/step - loss: 0.0176 - accuracy: 0.9934\n",
            "Epoch 5/1000\n",
            "6299/6299 [==============================] - 9s 2ms/step - loss: 0.0172 - accuracy: 0.9938\n",
            "Epoch 6/1000\n",
            "6299/6299 [==============================] - 10s 2ms/step - loss: 0.0133 - accuracy: 0.9948\n",
            "Epoch 7/1000\n",
            "6299/6299 [==============================] - 9s 1ms/step - loss: 0.0140 - accuracy: 0.9945\n",
            "Epoch 8/1000\n",
            "6299/6299 [==============================] - 9s 1ms/step - loss: 0.0122 - accuracy: 0.9953\n",
            "Epoch 9/1000\n",
            "6299/6299 [==============================] - 9s 1ms/step - loss: 0.0121 - accuracy: 0.9954\n",
            "Epoch 10/1000\n",
            "6299/6299 [==============================] - 9s 1ms/step - loss: 0.0125 - accuracy: 0.9951\n",
            "Epoch 11/1000\n",
            "6299/6299 [==============================] - 9s 1ms/step - loss: 0.0119 - accuracy: 0.9953\n",
            "Epoch 12/1000\n",
            "6299/6299 [==============================] - 9s 1ms/step - loss: 0.0118 - accuracy: 0.9956\n",
            "Epoch 13/1000\n",
            "6299/6299 [==============================] - 9s 1ms/step - loss: 0.0121 - accuracy: 0.9953\n",
            "Epoch 14/1000\n",
            "6299/6299 [==============================] - 9s 1ms/step - loss: 0.0114 - accuracy: 0.9955\n",
            "Epoch 15/1000\n",
            "6299/6299 [==============================] - 9s 1ms/step - loss: 0.0118 - accuracy: 0.9956\n",
            "Epoch 16/1000\n",
            "6299/6299 [==============================] - 9s 1ms/step - loss: 0.0111 - accuracy: 0.9957\n",
            "Epoch 17/1000\n",
            "6299/6299 [==============================] - 9s 1ms/step - loss: 0.0106 - accuracy: 0.9957\n",
            "Epoch 18/1000\n",
            "6299/6299 [==============================] - 9s 1ms/step - loss: 0.0101 - accuracy: 0.9960\n",
            "Epoch 19/1000\n",
            "6299/6299 [==============================] - 9s 1ms/step - loss: 0.0105 - accuracy: 0.9962\n",
            "Epoch 20/1000\n",
            "6299/6299 [==============================] - 9s 1ms/step - loss: 0.0111 - accuracy: 0.9959\n",
            "Epoch 21/1000\n",
            "6299/6299 [==============================] - 10s 2ms/step - loss: 0.0111 - accuracy: 0.9960\n",
            "Epoch 22/1000\n",
            "6299/6299 [==============================] - 9s 1ms/step - loss: 0.0094 - accuracy: 0.9965\n",
            "Epoch 23/1000\n",
            "6299/6299 [==============================] - 9s 1ms/step - loss: 0.0103 - accuracy: 0.9964\n",
            "Epoch 24/1000\n",
            "6299/6299 [==============================] - 9s 1ms/step - loss: 0.0097 - accuracy: 0.9964\n",
            "Epoch 25/1000\n",
            "6299/6299 [==============================] - 9s 1ms/step - loss: 0.0093 - accuracy: 0.9965\n",
            "Epoch 26/1000\n",
            "6299/6299 [==============================] - 9s 1ms/step - loss: 0.0097 - accuracy: 0.9961\n",
            "Epoch 27/1000\n",
            "6299/6299 [==============================] - 9s 1ms/step - loss: 0.0102 - accuracy: 0.9964\n",
            "Epoch 28/1000\n",
            "6299/6299 [==============================] - 9s 1ms/step - loss: 0.0088 - accuracy: 0.9965\n",
            "Epoch 29/1000\n",
            "6299/6299 [==============================] - 9s 1ms/step - loss: 0.0091 - accuracy: 0.9966\n",
            "Epoch 30/1000\n",
            "6299/6299 [==============================] - 9s 1ms/step - loss: 0.0097 - accuracy: 0.9963\n",
            "Epoch 31/1000\n",
            "6299/6299 [==============================] - 9s 1ms/step - loss: 0.0092 - accuracy: 0.9964\n",
            "Epoch 32/1000\n",
            "6299/6299 [==============================] - 9s 1ms/step - loss: 0.0088 - accuracy: 0.9965\n",
            "Epoch 33/1000\n",
            "6299/6299 [==============================] - 9s 1ms/step - loss: 0.0097 - accuracy: 0.9962\n",
            "Epoch 34/1000\n",
            "6299/6299 [==============================] - 9s 1ms/step - loss: 0.0086 - accuracy: 0.9966\n",
            "Epoch 35/1000\n",
            "6299/6299 [==============================] - 10s 2ms/step - loss: 0.0094 - accuracy: 0.9967\n",
            "Epoch 36/1000\n",
            "6299/6299 [==============================] - 9s 1ms/step - loss: 0.0086 - accuracy: 0.9967\n",
            "Epoch 37/1000\n",
            "6299/6299 [==============================] - 9s 1ms/step - loss: 0.0083 - accuracy: 0.9969\n",
            "Epoch 38/1000\n",
            "6299/6299 [==============================] - 9s 1ms/step - loss: 0.0099 - accuracy: 0.9967\n",
            "Epoch 39/1000\n",
            "6299/6299 [==============================] - 9s 1ms/step - loss: 0.0090 - accuracy: 0.9968\n",
            "Epoch 40/1000\n",
            "6299/6299 [==============================] - 9s 1ms/step - loss: 0.0093 - accuracy: 0.9967\n",
            "Epoch 41/1000\n",
            "6299/6299 [==============================] - 10s 2ms/step - loss: 0.0087 - accuracy: 0.9968\n",
            "Epoch 42/1000\n",
            "6299/6299 [==============================] - 9s 1ms/step - loss: 0.0078 - accuracy: 0.9972\n",
            "Epoch 43/1000\n",
            "6299/6299 [==============================] - 9s 1ms/step - loss: 0.0096 - accuracy: 0.9969\n",
            "Epoch 44/1000\n",
            "6299/6299 [==============================] - 9s 1ms/step - loss: 0.0081 - accuracy: 0.9968\n",
            "Epoch 45/1000\n",
            "6299/6299 [==============================] - 9s 1ms/step - loss: 0.0084 - accuracy: 0.9965\n",
            "Epoch 46/1000\n",
            "6299/6299 [==============================] - 9s 1ms/step - loss: 0.0084 - accuracy: 0.9966\n",
            "Epoch 47/1000\n",
            "6299/6299 [==============================] - 9s 1ms/step - loss: 0.0092 - accuracy: 0.9968\n",
            "Epoch 48/1000\n",
            "6299/6299 [==============================] - 9s 1ms/step - loss: 0.0080 - accuracy: 0.9971\n",
            "Epoch 49/1000\n",
            "6299/6299 [==============================] - 9s 1ms/step - loss: 0.0079 - accuracy: 0.9972\n",
            "Epoch 50/1000\n",
            "6299/6299 [==============================] - 9s 1ms/step - loss: 0.0075 - accuracy: 0.9973\n",
            "Epoch 51/1000\n",
            "6299/6299 [==============================] - 9s 1ms/step - loss: 0.0081 - accuracy: 0.9973\n",
            "Epoch 52/1000\n",
            "6299/6299 [==============================] - 9s 1ms/step - loss: 0.0078 - accuracy: 0.9971\n",
            "Epoch 53/1000\n",
            "6299/6299 [==============================] - 9s 1ms/step - loss: 0.0083 - accuracy: 0.9972\n",
            "Epoch 54/1000\n",
            "6299/6299 [==============================] - 9s 1ms/step - loss: 0.0079 - accuracy: 0.9972\n",
            "Epoch 55/1000\n",
            "6299/6299 [==============================] - 9s 1ms/step - loss: 0.0081 - accuracy: 0.9970\n",
            "Epoch 56/1000\n",
            "6299/6299 [==============================] - 9s 1ms/step - loss: 0.0081 - accuracy: 0.9970\n",
            "Epoch 57/1000\n",
            "6299/6299 [==============================] - 9s 1ms/step - loss: 0.0078 - accuracy: 0.9972\n",
            "Epoch 58/1000\n",
            "6299/6299 [==============================] - 9s 1ms/step - loss: 0.0076 - accuracy: 0.9972\n",
            "Epoch 59/1000\n",
            "6299/6299 [==============================] - 9s 1ms/step - loss: 0.0089 - accuracy: 0.9969\n",
            "Epoch 60/1000\n",
            "6299/6299 [==============================] - 9s 1ms/step - loss: 0.0095 - accuracy: 0.9971\n",
            "Epoch 61/1000\n",
            "6299/6299 [==============================] - 9s 1ms/step - loss: 0.0083 - accuracy: 0.9973\n",
            "Epoch 62/1000\n",
            "6299/6299 [==============================] - 9s 1ms/step - loss: 0.0081 - accuracy: 0.9970\n",
            "Epoch 63/1000\n",
            "6299/6299 [==============================] - 9s 1ms/step - loss: 0.0083 - accuracy: 0.9968\n",
            "Epoch 64/1000\n",
            "6299/6299 [==============================] - 9s 1ms/step - loss: 0.0078 - accuracy: 0.9972\n",
            "Epoch 65/1000\n",
            "6299/6299 [==============================] - 9s 1ms/step - loss: 0.0083 - accuracy: 0.9972\n",
            "Epoch 66/1000\n",
            "6299/6299 [==============================] - 9s 1ms/step - loss: 0.0083 - accuracy: 0.9973\n",
            "Epoch 67/1000\n",
            "6299/6299 [==============================] - 9s 1ms/step - loss: 0.0077 - accuracy: 0.9967\n",
            "Epoch 68/1000\n",
            "6299/6299 [==============================] - 9s 1ms/step - loss: 0.0071 - accuracy: 0.9973\n",
            "Epoch 69/1000\n",
            "6299/6299 [==============================] - 11s 2ms/step - loss: 0.0085 - accuracy: 0.9974\n",
            "Epoch 70/1000\n",
            "6299/6299 [==============================] - 9s 1ms/step - loss: 0.0079 - accuracy: 0.9974\n",
            "Epoch 71/1000\n",
            "6299/6299 [==============================] - 9s 1ms/step - loss: 0.0075 - accuracy: 0.9972\n",
            "Epoch 72/1000\n",
            "6299/6299 [==============================] - 9s 1ms/step - loss: 0.0072 - accuracy: 0.9975\n",
            "Epoch 73/1000\n",
            "6299/6299 [==============================] - 9s 1ms/step - loss: 0.0073 - accuracy: 0.9975\n",
            "Epoch 74/1000\n",
            "6299/6299 [==============================] - 9s 1ms/step - loss: 0.0072 - accuracy: 0.9974\n",
            "Epoch 75/1000\n",
            "6299/6299 [==============================] - 10s 2ms/step - loss: 0.0068 - accuracy: 0.9976\n",
            "Epoch 76/1000\n",
            "6299/6299 [==============================] - 9s 1ms/step - loss: 0.0080 - accuracy: 0.9973\n",
            "Epoch 77/1000\n",
            "6299/6299 [==============================] - 10s 2ms/step - loss: 0.0071 - accuracy: 0.9974\n",
            "Epoch 78/1000\n",
            "6299/6299 [==============================] - 9s 1ms/step - loss: 0.0077 - accuracy: 0.9974\n",
            "Epoch 79/1000\n",
            "6299/6299 [==============================] - 9s 1ms/step - loss: 0.0106 - accuracy: 0.9973\n",
            "Epoch 80/1000\n",
            "6299/6299 [==============================] - 9s 1ms/step - loss: 0.0113 - accuracy: 0.9973\n",
            "Epoch 81/1000\n",
            "6299/6299 [==============================] - 9s 2ms/step - loss: 0.0077 - accuracy: 0.9974\n",
            "Epoch 82/1000\n",
            "6299/6299 [==============================] - 9s 1ms/step - loss: 0.0071 - accuracy: 0.9976\n",
            "Epoch 83/1000\n",
            "6299/6299 [==============================] - 10s 2ms/step - loss: 0.0079 - accuracy: 0.9970\n",
            "Epoch 84/1000\n",
            "6299/6299 [==============================] - 9s 1ms/step - loss: 0.0079 - accuracy: 0.9976\n",
            "Epoch 85/1000\n",
            "6299/6299 [==============================] - 10s 2ms/step - loss: 0.0071 - accuracy: 0.9975\n",
            "Epoch 86/1000\n",
            "6299/6299 [==============================] - 9s 1ms/step - loss: 0.0161 - accuracy: 0.9972\n",
            "Epoch 87/1000\n",
            "6299/6299 [==============================] - 9s 1ms/step - loss: 0.0099 - accuracy: 0.9975\n",
            "Epoch 88/1000\n",
            "6299/6299 [==============================] - 9s 1ms/step - loss: 0.0067 - accuracy: 0.9978\n",
            "Epoch 89/1000\n",
            "6299/6299 [==============================] - 10s 2ms/step - loss: 0.0070 - accuracy: 0.9975\n",
            "Epoch 90/1000\n",
            "6299/6299 [==============================] - 9s 1ms/step - loss: 0.0068 - accuracy: 0.9977\n",
            "Epoch 91/1000\n",
            "6299/6299 [==============================] - 9s 1ms/step - loss: 0.0075 - accuracy: 0.9973\n",
            "Epoch 92/1000\n",
            "6299/6299 [==============================] - 9s 1ms/step - loss: 0.0088 - accuracy: 0.9972\n",
            "Epoch 93/1000\n",
            "6299/6299 [==============================] - 10s 2ms/step - loss: 0.0074 - accuracy: 0.9975\n",
            "Epoch 94/1000\n",
            "6299/6299 [==============================] - 10s 2ms/step - loss: 0.0078 - accuracy: 0.9973\n",
            "Epoch 95/1000\n",
            "6299/6299 [==============================] - 9s 1ms/step - loss: 0.0085 - accuracy: 0.9973\n",
            "Epoch 96/1000\n",
            "6299/6299 [==============================] - 9s 1ms/step - loss: 0.0064 - accuracy: 0.9978\n",
            "Epoch 97/1000\n",
            "6299/6299 [==============================] - 9s 2ms/step - loss: 0.0063 - accuracy: 0.9977\n",
            "Epoch 98/1000\n",
            "6299/6299 [==============================] - 9s 2ms/step - loss: 0.0076 - accuracy: 0.9975\n",
            "Epoch 99/1000\n",
            "6299/6299 [==============================] - 10s 2ms/step - loss: 0.0071 - accuracy: 0.9977\n",
            "Epoch 100/1000\n",
            "6299/6299 [==============================] - 9s 1ms/step - loss: 0.0066 - accuracy: 0.9976\n",
            "Epoch 101/1000\n",
            "6299/6299 [==============================] - 9s 2ms/step - loss: 0.0068 - accuracy: 0.9976\n",
            "Epoch 102/1000\n",
            "6299/6299 [==============================] - 12s 2ms/step - loss: 0.0068 - accuracy: 0.9974\n",
            "Epoch 103/1000\n",
            "6299/6299 [==============================] - 9s 1ms/step - loss: 0.0091 - accuracy: 0.9975\n",
            "Epoch 104/1000\n",
            "6299/6299 [==============================] - 10s 2ms/step - loss: 0.0088 - accuracy: 0.9977\n",
            "Epoch 105/1000\n",
            "6299/6299 [==============================] - 10s 2ms/step - loss: 0.0062 - accuracy: 0.9979\n",
            "Epoch 106/1000\n",
            "6299/6299 [==============================] - 9s 1ms/step - loss: 0.0109 - accuracy: 0.9975\n",
            "Epoch 107/1000\n",
            "6299/6299 [==============================] - 9s 1ms/step - loss: 0.0067 - accuracy: 0.9977\n",
            "Epoch 108/1000\n",
            "6299/6299 [==============================] - 10s 2ms/step - loss: 0.0065 - accuracy: 0.9978\n",
            "Epoch 109/1000\n",
            "6299/6299 [==============================] - 10s 2ms/step - loss: 0.0066 - accuracy: 0.9976\n",
            "Epoch 110/1000\n",
            "6299/6299 [==============================] - 10s 2ms/step - loss: 0.0123 - accuracy: 0.9977\n",
            "Epoch 111/1000\n",
            "6299/6299 [==============================] - 9s 1ms/step - loss: 0.0071 - accuracy: 0.9974\n",
            "Epoch 112/1000\n",
            "6299/6299 [==============================] - 10s 2ms/step - loss: 0.0078 - accuracy: 0.9976\n",
            "Epoch 113/1000\n",
            "6299/6299 [==============================] - 9s 2ms/step - loss: 0.0068 - accuracy: 0.9979\n",
            "Epoch 114/1000\n",
            "6299/6299 [==============================] - 9s 2ms/step - loss: 0.0066 - accuracy: 0.9978\n",
            "Epoch 115/1000\n",
            "6299/6299 [==============================] - 10s 2ms/step - loss: 0.0211 - accuracy: 0.9977\n",
            "Epoch 116/1000\n",
            "6299/6299 [==============================] - 10s 2ms/step - loss: 0.0081 - accuracy: 0.9976\n",
            "Epoch 117/1000\n",
            "6299/6299 [==============================] - 9s 1ms/step - loss: 0.0071 - accuracy: 0.9975\n",
            "Epoch 118/1000\n",
            "6299/6299 [==============================] - 10s 2ms/step - loss: 0.0067 - accuracy: 0.9980\n",
            "Epoch 119/1000\n",
            "6299/6299 [==============================] - 10s 2ms/step - loss: 0.0064 - accuracy: 0.9975\n",
            "Epoch 120/1000\n",
            "6299/6299 [==============================] - 9s 1ms/step - loss: 0.0071 - accuracy: 0.9975\n",
            "Epoch 121/1000\n",
            "6299/6299 [==============================] - 9s 1ms/step - loss: 0.0064 - accuracy: 0.9976\n",
            "Epoch 122/1000\n",
            "6299/6299 [==============================] - 10s 2ms/step - loss: 0.0070 - accuracy: 0.9978\n",
            "Epoch 123/1000\n",
            "6299/6299 [==============================] - 9s 1ms/step - loss: 0.0123 - accuracy: 0.9977\n",
            "Epoch 124/1000\n",
            "6299/6299 [==============================] - 9s 1ms/step - loss: 0.0075 - accuracy: 0.9975\n",
            "Epoch 125/1000\n",
            "6299/6299 [==============================] - 9s 1ms/step - loss: 0.0058 - accuracy: 0.9981\n",
            "Epoch 126/1000\n",
            "6299/6299 [==============================] - 9s 1ms/step - loss: 0.0075 - accuracy: 0.9974\n",
            "Epoch 127/1000\n",
            "6299/6299 [==============================] - 10s 2ms/step - loss: 0.0067 - accuracy: 0.9979\n",
            "Epoch 128/1000\n",
            "6299/6299 [==============================] - 9s 1ms/step - loss: 0.0060 - accuracy: 0.9979\n",
            "Epoch 129/1000\n",
            "6299/6299 [==============================] - 10s 2ms/step - loss: 0.0113 - accuracy: 0.9975\n",
            "Epoch 130/1000\n",
            "6299/6299 [==============================] - 9s 1ms/step - loss: 0.0069 - accuracy: 0.9977\n",
            "Epoch 131/1000\n",
            "6299/6299 [==============================] - 10s 2ms/step - loss: 0.0063 - accuracy: 0.9978\n",
            "Epoch 132/1000\n",
            "6299/6299 [==============================] - 10s 2ms/step - loss: 0.0062 - accuracy: 0.9978\n",
            "Epoch 133/1000\n",
            "6299/6299 [==============================] - 9s 2ms/step - loss: 0.0068 - accuracy: 0.9976\n",
            "Epoch 134/1000\n",
            "6299/6299 [==============================] - 11s 2ms/step - loss: 0.0063 - accuracy: 0.9977\n",
            "Epoch 135/1000\n",
            "6299/6299 [==============================] - 10s 2ms/step - loss: 0.0068 - accuracy: 0.9975\n",
            "Epoch 136/1000\n",
            "6299/6299 [==============================] - 9s 1ms/step - loss: 0.0121 - accuracy: 0.9977\n",
            "Epoch 137/1000\n",
            "6299/6299 [==============================] - 9s 1ms/step - loss: 0.0078 - accuracy: 0.9978\n",
            "Epoch 138/1000\n",
            "6299/6299 [==============================] - 9s 1ms/step - loss: 0.0060 - accuracy: 0.9981\n",
            "Epoch 139/1000\n",
            "6299/6299 [==============================] - 9s 1ms/step - loss: 0.0067 - accuracy: 0.9975\n",
            "Epoch 140/1000\n",
            "6299/6299 [==============================] - 10s 2ms/step - loss: 0.0067 - accuracy: 0.9978\n",
            "Epoch 141/1000\n",
            "6299/6299 [==============================] - 9s 1ms/step - loss: 0.0065 - accuracy: 0.9980\n",
            "Epoch 142/1000\n",
            "6299/6299 [==============================] - 10s 2ms/step - loss: 0.0093 - accuracy: 0.9977\n",
            "Epoch 143/1000\n",
            "6299/6299 [==============================] - 11s 2ms/step - loss: 0.0059 - accuracy: 0.9979\n",
            "Epoch 144/1000\n",
            "6299/6299 [==============================] - 10s 2ms/step - loss: 0.0068 - accuracy: 0.9977\n",
            "Epoch 145/1000\n",
            "6299/6299 [==============================] - 10s 2ms/step - loss: 0.0064 - accuracy: 0.9978\n",
            "Epoch 146/1000\n",
            "6299/6299 [==============================] - 10s 2ms/step - loss: 0.0083 - accuracy: 0.9979\n",
            "Epoch 147/1000\n",
            "6299/6299 [==============================] - 10s 2ms/step - loss: 0.0101 - accuracy: 0.9975\n",
            "Epoch 148/1000\n",
            "6299/6299 [==============================] - 9s 1ms/step - loss: 0.0071 - accuracy: 0.9978\n",
            "Epoch 149/1000\n",
            "6299/6299 [==============================] - 9s 1ms/step - loss: 0.0063 - accuracy: 0.9980\n",
            "Epoch 150/1000\n",
            "6299/6299 [==============================] - 9s 2ms/step - loss: 0.0085 - accuracy: 0.9977\n",
            "Epoch 151/1000\n",
            "6299/6299 [==============================] - 9s 1ms/step - loss: 0.0075 - accuracy: 0.9976\n",
            "Epoch 152/1000\n",
            "6299/6299 [==============================] - 9s 2ms/step - loss: 0.0066 - accuracy: 0.9977\n",
            "Epoch 153/1000\n",
            "6299/6299 [==============================] - 9s 1ms/step - loss: 0.0064 - accuracy: 0.9977\n",
            "Epoch 154/1000\n",
            "6299/6299 [==============================] - 9s 1ms/step - loss: 0.0072 - accuracy: 0.9979\n",
            "Epoch 155/1000\n",
            "6299/6299 [==============================] - 9s 1ms/step - loss: 0.0064 - accuracy: 0.9979\n",
            "Epoch 156/1000\n",
            "6299/6299 [==============================] - 9s 1ms/step - loss: 0.0077 - accuracy: 0.9980\n",
            "Epoch 157/1000\n",
            "6299/6299 [==============================] - 9s 1ms/step - loss: 0.0128 - accuracy: 0.9977\n",
            "Epoch 158/1000\n",
            "6299/6299 [==============================] - 9s 1ms/step - loss: 0.0064 - accuracy: 0.9979\n",
            "Epoch 159/1000\n",
            "6299/6299 [==============================] - 10s 2ms/step - loss: 0.0067 - accuracy: 0.9974\n",
            "Epoch 160/1000\n",
            "6299/6299 [==============================] - 10s 2ms/step - loss: 0.0060 - accuracy: 0.9981\n",
            "Epoch 161/1000\n",
            "6299/6299 [==============================] - 10s 2ms/step - loss: 0.0073 - accuracy: 0.9980\n",
            "Epoch 162/1000\n",
            "6299/6299 [==============================] - 10s 2ms/step - loss: 0.0064 - accuracy: 0.9978\n",
            "Epoch 163/1000\n",
            "6299/6299 [==============================] - 10s 2ms/step - loss: 0.0064 - accuracy: 0.9978\n",
            "Epoch 164/1000\n",
            "6299/6299 [==============================] - 9s 1ms/step - loss: 0.0069 - accuracy: 0.9976\n",
            "Epoch 165/1000\n",
            "6299/6299 [==============================] - 10s 2ms/step - loss: 0.0071 - accuracy: 0.9974\n",
            "Epoch 166/1000\n",
            "6299/6299 [==============================] - 11s 2ms/step - loss: 0.0069 - accuracy: 0.9978\n",
            "Epoch 167/1000\n",
            "6299/6299 [==============================] - 10s 2ms/step - loss: 0.0058 - accuracy: 0.9980\n",
            "Epoch 168/1000\n",
            "6299/6299 [==============================] - 10s 2ms/step - loss: 0.0053 - accuracy: 0.9981\n",
            "Epoch 169/1000\n",
            "6299/6299 [==============================] - 9s 1ms/step - loss: 0.0062 - accuracy: 0.9979\n",
            "Epoch 170/1000\n",
            "6299/6299 [==============================] - 9s 1ms/step - loss: 0.0068 - accuracy: 0.9981\n",
            "Epoch 171/1000\n",
            "6299/6299 [==============================] - 9s 1ms/step - loss: 0.0065 - accuracy: 0.9977\n",
            "Epoch 172/1000\n",
            "6299/6299 [==============================] - 9s 1ms/step - loss: 0.0063 - accuracy: 0.9977\n",
            "Epoch 173/1000\n",
            "6299/6299 [==============================] - 10s 2ms/step - loss: 0.0070 - accuracy: 0.9978\n",
            "Epoch 174/1000\n",
            "6299/6299 [==============================] - 10s 2ms/step - loss: 0.0066 - accuracy: 0.9977\n",
            "Epoch 175/1000\n",
            "6299/6299 [==============================] - 11s 2ms/step - loss: 0.0061 - accuracy: 0.9982\n",
            "Epoch 176/1000\n",
            "6299/6299 [==============================] - 10s 2ms/step - loss: 0.0066 - accuracy: 0.9975\n",
            "Epoch 177/1000\n",
            "6299/6299 [==============================] - 10s 2ms/step - loss: 0.0107 - accuracy: 0.9974\n",
            "Epoch 178/1000\n",
            "6299/6299 [==============================] - 10s 2ms/step - loss: 0.0069 - accuracy: 0.9979\n",
            "Epoch 179/1000\n",
            "6299/6299 [==============================] - 10s 2ms/step - loss: 0.0065 - accuracy: 0.9979\n",
            "Epoch 180/1000\n",
            "6299/6299 [==============================] - 10s 2ms/step - loss: 0.0067 - accuracy: 0.9979\n",
            "Epoch 181/1000\n",
            "6299/6299 [==============================] - 10s 2ms/step - loss: 0.0064 - accuracy: 0.9978\n",
            "Epoch 182/1000\n",
            "6299/6299 [==============================] - 10s 2ms/step - loss: 0.0063 - accuracy: 0.9977\n",
            "Epoch 183/1000\n",
            "6299/6299 [==============================] - 10s 2ms/step - loss: 0.0063 - accuracy: 0.9979\n",
            "Epoch 184/1000\n",
            "6299/6299 [==============================] - 10s 2ms/step - loss: 0.0072 - accuracy: 0.9977\n",
            "Epoch 185/1000\n",
            "6299/6299 [==============================] - 10s 2ms/step - loss: 0.0061 - accuracy: 0.9980\n",
            "Epoch 186/1000\n",
            "6299/6299 [==============================] - 10s 2ms/step - loss: 0.0060 - accuracy: 0.9978\n",
            "Epoch 187/1000\n",
            "6299/6299 [==============================] - 10s 2ms/step - loss: 0.0068 - accuracy: 0.9977\n",
            "Epoch 188/1000\n",
            "6299/6299 [==============================] - 10s 2ms/step - loss: 0.0076 - accuracy: 0.9976\n",
            "Epoch 189/1000\n",
            "6299/6299 [==============================] - 10s 2ms/step - loss: 0.0062 - accuracy: 0.9981\n",
            "Epoch 190/1000\n",
            "6299/6299 [==============================] - 10s 2ms/step - loss: 0.0068 - accuracy: 0.9977\n",
            "Epoch 191/1000\n",
            "6299/6299 [==============================] - 10s 2ms/step - loss: 0.0078 - accuracy: 0.9977\n",
            "Epoch 192/1000\n",
            "6299/6299 [==============================] - 10s 2ms/step - loss: 0.0063 - accuracy: 0.9977\n",
            "Epoch 193/1000\n",
            "6299/6299 [==============================] - 10s 2ms/step - loss: 0.0069 - accuracy: 0.9978\n",
            "Epoch 194/1000\n",
            "6299/6299 [==============================] - 10s 2ms/step - loss: 0.0073 - accuracy: 0.9978\n",
            "Epoch 195/1000\n",
            "6299/6299 [==============================] - 10s 2ms/step - loss: 0.0070 - accuracy: 0.9979\n",
            "Epoch 196/1000\n",
            "6299/6299 [==============================] - 10s 2ms/step - loss: 0.0088 - accuracy: 0.9982\n",
            "Epoch 197/1000\n",
            "6299/6299 [==============================] - 10s 2ms/step - loss: 0.0062 - accuracy: 0.9975\n",
            "Epoch 198/1000\n",
            "6299/6299 [==============================] - 12s 2ms/step - loss: 0.0076 - accuracy: 0.9978\n",
            "Epoch 199/1000\n",
            "6299/6299 [==============================] - 10s 2ms/step - loss: 0.0068 - accuracy: 0.9978\n",
            "Epoch 200/1000\n",
            "6299/6299 [==============================] - 10s 2ms/step - loss: 0.0063 - accuracy: 0.9979\n",
            "Epoch 201/1000\n",
            "6299/6299 [==============================] - 10s 2ms/step - loss: 0.0066 - accuracy: 0.9981\n",
            "Epoch 202/1000\n",
            "6299/6299 [==============================] - 10s 2ms/step - loss: 0.0067 - accuracy: 0.9976\n",
            "Epoch 203/1000\n",
            "6299/6299 [==============================] - 10s 2ms/step - loss: 0.0059 - accuracy: 0.9981\n",
            "Epoch 204/1000\n",
            "6299/6299 [==============================] - 10s 2ms/step - loss: 0.0056 - accuracy: 0.9979\n",
            "Epoch 205/1000\n",
            "6299/6299 [==============================] - 10s 2ms/step - loss: 0.0061 - accuracy: 0.9981\n",
            "Epoch 206/1000\n",
            "6299/6299 [==============================] - 10s 2ms/step - loss: 0.0060 - accuracy: 0.9979\n",
            "Epoch 207/1000\n",
            "6299/6299 [==============================] - 11s 2ms/step - loss: 0.0071 - accuracy: 0.9976\n",
            "Epoch 208/1000\n",
            "6299/6299 [==============================] - 10s 2ms/step - loss: 0.0089 - accuracy: 0.9977\n",
            "Epoch 209/1000\n",
            "6299/6299 [==============================] - 10s 2ms/step - loss: 0.0061 - accuracy: 0.9979\n",
            "Epoch 210/1000\n",
            "6299/6299 [==============================] - 10s 2ms/step - loss: 0.0073 - accuracy: 0.9979\n",
            "Epoch 211/1000\n",
            "6299/6299 [==============================] - 10s 2ms/step - loss: 0.0066 - accuracy: 0.9979\n",
            "Epoch 212/1000\n",
            "6299/6299 [==============================] - 10s 2ms/step - loss: 0.0062 - accuracy: 0.9980\n",
            "Epoch 213/1000\n",
            "6299/6299 [==============================] - 10s 2ms/step - loss: 0.0059 - accuracy: 0.9980\n",
            "Epoch 214/1000\n",
            "6299/6299 [==============================] - 10s 2ms/step - loss: 0.0063 - accuracy: 0.9981\n",
            "Epoch 215/1000\n",
            "6299/6299 [==============================] - 10s 2ms/step - loss: 0.0056 - accuracy: 0.9980\n",
            "Epoch 216/1000\n",
            "6299/6299 [==============================] - 10s 2ms/step - loss: 0.0059 - accuracy: 0.9980\n",
            "Epoch 217/1000\n",
            "6299/6299 [==============================] - 10s 2ms/step - loss: 0.0070 - accuracy: 0.9979\n",
            "Epoch 218/1000\n",
            "6299/6299 [==============================] - 10s 2ms/step - loss: 0.0065 - accuracy: 0.9977\n",
            "Epoch 219/1000\n",
            "6299/6299 [==============================] - 10s 2ms/step - loss: 0.0057 - accuracy: 0.9981\n",
            "Epoch 220/1000\n",
            "6299/6299 [==============================] - 9s 1ms/step - loss: 0.0062 - accuracy: 0.9979\n",
            "Epoch 221/1000\n",
            "6299/6299 [==============================] - 10s 2ms/step - loss: 0.0058 - accuracy: 0.9980\n",
            "Epoch 222/1000\n",
            "6299/6299 [==============================] - 10s 2ms/step - loss: 0.0065 - accuracy: 0.9977\n",
            "Epoch 223/1000\n",
            "6299/6299 [==============================] - 9s 1ms/step - loss: 0.0065 - accuracy: 0.9980\n",
            "Epoch 224/1000\n",
            "6299/6299 [==============================] - 10s 2ms/step - loss: 0.0060 - accuracy: 0.9978\n",
            "Epoch 225/1000\n",
            "6299/6299 [==============================] - 10s 2ms/step - loss: 0.0060 - accuracy: 0.9979\n",
            "Epoch 226/1000\n",
            "6299/6299 [==============================] - 10s 2ms/step - loss: 0.0080 - accuracy: 0.9978\n",
            "Epoch 227/1000\n",
            "6299/6299 [==============================] - 10s 2ms/step - loss: 0.0065 - accuracy: 0.9979\n",
            "Epoch 228/1000\n",
            "6299/6299 [==============================] - 10s 2ms/step - loss: 0.0074 - accuracy: 0.9978\n",
            "Epoch 229/1000\n",
            "6299/6299 [==============================] - 11s 2ms/step - loss: 0.0057 - accuracy: 0.9978\n",
            "Epoch 230/1000\n",
            "6299/6299 [==============================] - 10s 2ms/step - loss: 0.0064 - accuracy: 0.9978\n",
            "Epoch 231/1000\n",
            "6299/6299 [==============================] - 10s 2ms/step - loss: 0.0096 - accuracy: 0.9979\n",
            "Epoch 232/1000\n",
            "6299/6299 [==============================] - 10s 2ms/step - loss: 0.0072 - accuracy: 0.9976\n",
            "Epoch 233/1000\n",
            "6299/6299 [==============================] - 10s 2ms/step - loss: 0.0057 - accuracy: 0.9980\n",
            "Epoch 234/1000\n",
            "6299/6299 [==============================] - 10s 2ms/step - loss: 0.0063 - accuracy: 0.9978\n",
            "Epoch 235/1000\n",
            "6299/6299 [==============================] - 10s 2ms/step - loss: 0.0058 - accuracy: 0.9980\n",
            "Epoch 236/1000\n",
            "6299/6299 [==============================] - 10s 2ms/step - loss: 0.0057 - accuracy: 0.9980\n",
            "Epoch 237/1000\n",
            "6299/6299 [==============================] - 9s 2ms/step - loss: 0.0072 - accuracy: 0.9978\n",
            "Epoch 238/1000\n",
            "6299/6299 [==============================] - 9s 2ms/step - loss: 0.0056 - accuracy: 0.9981\n",
            "Epoch 239/1000\n",
            "6299/6299 [==============================] - 11s 2ms/step - loss: 0.0078 - accuracy: 0.9974\n",
            "Epoch 240/1000\n",
            "6299/6299 [==============================] - 10s 2ms/step - loss: 0.0059 - accuracy: 0.9980\n",
            "Epoch 241/1000\n",
            "6299/6299 [==============================] - 11s 2ms/step - loss: 0.0066 - accuracy: 0.9977\n",
            "Epoch 242/1000\n",
            "6299/6299 [==============================] - 10s 2ms/step - loss: 0.0091 - accuracy: 0.9981\n",
            "Epoch 243/1000\n",
            "6299/6299 [==============================] - 9s 2ms/step - loss: 0.0074 - accuracy: 0.9978\n",
            "Epoch 244/1000\n",
            "6299/6299 [==============================] - 10s 2ms/step - loss: 0.0061 - accuracy: 0.9979\n",
            "Epoch 245/1000\n",
            "6299/6299 [==============================] - 10s 2ms/step - loss: 0.0066 - accuracy: 0.9979\n",
            "Epoch 246/1000\n",
            "6299/6299 [==============================] - 10s 2ms/step - loss: 0.0054 - accuracy: 0.9980\n",
            "Epoch 247/1000\n",
            "6299/6299 [==============================] - 10s 2ms/step - loss: 0.0069 - accuracy: 0.9982\n",
            "Epoch 248/1000\n",
            "6299/6299 [==============================] - 10s 2ms/step - loss: 0.0069 - accuracy: 0.9979\n",
            "Epoch 249/1000\n",
            "6299/6299 [==============================] - 10s 2ms/step - loss: 0.0076 - accuracy: 0.9980\n",
            "Epoch 250/1000\n",
            "6299/6299 [==============================] - 10s 2ms/step - loss: 0.0066 - accuracy: 0.9980\n",
            "Epoch 251/1000\n",
            "6299/6299 [==============================] - 10s 2ms/step - loss: 0.0060 - accuracy: 0.9980\n",
            "Epoch 252/1000\n",
            "6299/6299 [==============================] - 10s 2ms/step - loss: 0.0063 - accuracy: 0.9980\n",
            "Epoch 253/1000\n",
            "6299/6299 [==============================] - 10s 2ms/step - loss: 0.0059 - accuracy: 0.9979\n",
            "Epoch 254/1000\n",
            "6299/6299 [==============================] - 10s 2ms/step - loss: 0.0058 - accuracy: 0.9981\n",
            "Epoch 255/1000\n",
            "6299/6299 [==============================] - 9s 1ms/step - loss: 0.0061 - accuracy: 0.9979\n",
            "2429.4034864902496\n"
          ],
          "name": "stdout"
        },
        {
          "output_type": "stream",
          "text": [
            "/usr/local/lib/python3.6/dist-packages/tensorflow/python/keras/engine/sequential.py:450: UserWarning: `model.predict_classes()` is deprecated and will be removed after 2021-01-01. Please use instead:* `np.argmax(model.predict(x), axis=-1)`,   if your model does multi-class classification   (e.g. if it uses a `softmax` last-layer activation).* `(model.predict(x) > 0.5).astype(\"int32\")`,   if your model does binary classification   (e.g. if it uses a `sigmoid` last-layer activation).\n",
            "  warnings.warn('`model.predict_classes()` is deprecated and '\n"
          ],
          "name": "stderr"
        },
        {
          "output_type": "stream",
          "text": [
            "              precision    recall  f1-score   support\n",
            "\n",
            "           0       0.70      0.94      0.80      9711\n",
            "           1       0.94      0.69      0.80     12833\n",
            "\n",
            "    accuracy                           0.80     22544\n",
            "   macro avg       0.82      0.82      0.80     22544\n",
            "weighted avg       0.83      0.80      0.80     22544\n",
            "\n",
            "0.8159376863320668\n"
          ],
          "name": "stdout"
        }
      ]
    },
    {
      "cell_type": "code",
      "metadata": {
        "colab": {
          "base_uri": "https://localhost:8080/",
          "height": 281
        },
        "id": "UAXn-imoh59T",
        "outputId": "2b93657b-bd82-489b-8a65-567734d4987e"
      },
      "source": [
        "plt.plot(history.history['loss'], label = 'Функция потерь ')\n",
        "plt.grid(True)\n",
        "plt.legend()\n",
        "plt.title('Изменение функции потерь с количеством эпох', fontsize=12)\n",
        "plt.show()"
      ],
      "execution_count": null,
      "outputs": [
        {
          "output_type": "display_data",
          "data": {
            "image/png": "[encoded data removed]",
            "text/plain": [
              "<Figure size 432x288 with 1 Axes>"
            ]
          },
          "metadata": {
            "tags": [],
            "needs_background": "light"
          }
        }
      ]
    },
    {
      "cell_type": "markdown",
      "metadata": {
        "id": "NJ0bRdYJ4cln"
      },
      "source": [
        "Теперь построим модели градиентного бустинга и сохраним все модели на диск."
      ]
    },
    {
      "cell_type": "code",
      "metadata": {
        "colab": {
          "base_uri": "https://localhost:8080/"
        },
        "id": "Kaj6OFwFLW9Z",
        "outputId": "4aabc82b-4458-4f1e-ef9b-bf5cacec2096"
      },
      "source": [
        "Cat = CatBoostClassifier(iterations=1000,\n",
        "                           learning_rate=0.1,\n",
        "                           depth=2, verbose=0,)\n",
        "Cat.fit(X_train, y_train,)"
      ],
      "execution_count": null,
      "outputs": [
        {
          "output_type": "execute_result",
          "data": {
            "text/plain": [
              "<catboost.core.CatBoostClassifier at 0x7f6781e4e438>"
            ]
          },
          "metadata": {
            "tags": []
          },
          "execution_count": 35
        }
      ]
    },
    {
      "cell_type": "code",
      "metadata": {
        "id": "3bzbl31PUBxq",
        "colab": {
          "base_uri": "https://localhost:8080/"
        },
        "outputId": "5e49e079-4352-415c-d5d5-5e1860e45899"
      },
      "source": [
        "Cat.save_model('/content/drive/MyDrive/Cat.sav')\n",
        "print(metrics.classification_report(y_test, Cat.predict(X_test)))\n",
        "print(metrics.roc_auc_score(y_test, Cat.predict(X_test)))"
      ],
      "execution_count": null,
      "outputs": [
        {
          "output_type": "stream",
          "text": [
            "              precision    recall  f1-score   support\n",
            "\n",
            "           0       0.83      0.83      0.83      9711\n",
            "           1       0.87      0.87      0.87     12833\n",
            "\n",
            "    accuracy                           0.85     22544\n",
            "   macro avg       0.85      0.85      0.85     22544\n",
            "weighted avg       0.85      0.85      0.85     22544\n",
            "\n",
            "0.8504165777873716\n"
          ],
          "name": "stdout"
        }
      ]
    },
    {
      "cell_type": "code",
      "metadata": {
        "id": "EiMra6E_NWyT"
      },
      "source": [
        "model_json = model.to_json()\n",
        "with open(\"/content/drive/MyDrive/model.json\", \"w\") as json_file:\n",
        "    json_file.write(model_json)\n",
        "model.save_weights(\"/content/drive/MyDrive/model.h5\")"
      ],
      "execution_count": null,
      "outputs": []
    },
    {
      "cell_type": "code",
      "metadata": {
        "colab": {
          "base_uri": "https://localhost:8080/"
        },
        "id": "pctAup-yXUfK",
        "outputId": "da9a3e43-deaf-409e-b646-64f1314cad5c"
      },
      "source": [
        "lgb_train_data = lgb.Dataset(X_train, label=y_train)\n",
        "model_lgb = lgb.LGBMClassifier(num_boost_round=5000)\n",
        "model_lgb.fit(X_train, y_train)"
      ],
      "execution_count": null,
      "outputs": [
        {
          "output_type": "stream",
          "text": [
            "/usr/local/lib/python3.6/dist-packages/lightgbm/engine.py:118: UserWarning: Found `num_boost_round` in params. Will use it instead of argument\n",
            "  warnings.warn(\"Found `{}` in params. Will use it instead of argument\".format(alias))\n"
          ],
          "name": "stderr"
        },
        {
          "output_type": "execute_result",
          "data": {
            "text/plain": [
              "LGBMClassifier(boosting_type='gbdt', class_weight=None, colsample_bytree=1.0,\n",
              "               importance_type='split', learning_rate=0.1, max_depth=-1,\n",
              "               min_child_samples=20, min_child_weight=0.001, min_split_gain=0.0,\n",
              "               n_estimators=100, n_jobs=-1, num_boost_round=5000, num_leaves=31,\n",
              "               objective=None, random_state=None, reg_alpha=0.0, reg_lambda=0.0,\n",
              "               silent=True, subsample=1.0, subsample_for_bin=200000,\n",
              "               subsample_freq=0)"
            ]
          },
          "metadata": {
            "tags": []
          },
          "execution_count": 39
        }
      ]
    },
    {
      "cell_type": "code",
      "metadata": {
        "colab": {
          "base_uri": "https://localhost:8080/"
        },
        "id": "Bo36tQofc-xn",
        "outputId": "be4927ec-98b5-4ca0-f73a-c3a7b815cb17"
      },
      "source": [
        "lgb_preds = model_lgb.predict(X_test)\n",
        "filename = '/content/drive/MyDrive/model_lgb.sav'\n",
        "joblib.dump(model_lgb, filename)\n",
        "print(metrics.classification_report(y_test, lgb_preds))\n",
        "print(metrics.roc_auc_score(y_test, lgb_preds))"
      ],
      "execution_count": null,
      "outputs": [
        {
          "output_type": "stream",
          "text": [
            "              precision    recall  f1-score   support\n",
            "\n",
            "           0       0.73      0.94      0.82      9711\n",
            "           1       0.94      0.73      0.82     12833\n",
            "\n",
            "    accuracy                           0.82     22544\n",
            "   macro avg       0.83      0.83      0.82     22544\n",
            "weighted avg       0.85      0.82      0.82     22544\n",
            "\n",
            "0.8348189185018933\n"
          ],
          "name": "stdout"
        }
      ]
    },
    {
      "cell_type": "markdown",
      "metadata": {
        "id": "Nf7NZX666lR8"
      },
      "source": [
        "Результаты  показывают, что все модели кроме CatBoost склонны слишком часто признавать активность нормальной. Но для нас первичной задачей является не пропустить аномальную активность и определить ее. В то время как, recall для аномалий у CatBoost доходит до 0.82, у других моделей этот показатель находится, примерно, на уровне 0.70. Посмотрим сколько атак было пропущено каждой моделью и составим анасамбль с максимальной нетерпимостью к атакам."
      ]
    },
    {
      "cell_type": "code",
      "metadata": {
        "colab": {
          "base_uri": "https://localhost:8080/"
        },
        "id": "4DhfUchZ9-8r",
        "outputId": "bf570ede-0685-4fc3-8ecc-aa1b2df1f58c"
      },
      "source": [
        "Cat = CatBoostClassifier()\n",
        "cat = Cat.load_model('/content/drive/MyDrive/Cat.sav')\n",
        "cat_preds = cat.predict(X_test)\n",
        "\n",
        "model_lgb = joblib.load('/content/drive/MyDrive/model_lgb.sav')\n",
        "lgb_preds = model_lgb.predict(X_test)\n",
        "\n",
        "json_file = open('/content/drive/MyDrive/model.json', 'r')\n",
        "loaded_model_json = json_file.read()\n",
        "json_file.close()\n",
        "loaded_model = model_from_json(loaded_model_json)\n",
        "loaded_model.load_weights(\"/content/drive/MyDrive/model.h5\")\n",
        "loaded_model.compile(loss='binary_crossentropy', optimizer='adam', metrics=['accuracy'])\n",
        "net_preds = loaded_model.predict_classes(X_test)\n",
        "\n",
        "loaded_rfc = joblib.load('/content/drive/MyDrive/rfc.sav')\n",
        "rfc_preds = loaded_rfc.predict(X_test)"
      ],
      "execution_count": null,
      "outputs": [
        {
          "output_type": "stream",
          "text": [
            "/usr/local/lib/python3.6/dist-packages/tensorflow/python/keras/engine/sequential.py:450: UserWarning: `model.predict_classes()` is deprecated and will be removed after 2021-01-01. Please use instead:* `np.argmax(model.predict(x), axis=-1)`,   if your model does multi-class classification   (e.g. if it uses a `softmax` last-layer activation).* `(model.predict(x) > 0.5).astype(\"int32\")`,   if your model does binary classification   (e.g. if it uses a `sigmoid` last-layer activation).\n",
            "  warnings.warn('`model.predict_classes()` is deprecated and '\n"
          ],
          "name": "stderr"
        }
      ]
    },
    {
      "cell_type": "markdown",
      "metadata": {
        "id": "wplAgFgg-d2K"
      },
      "source": [
        "Как мы можем увидеть ниже - нейросеть демонстрирует не самые лучшие показатели по самой значимой метрике, но это от части связано с тем, что она выходном нейроне используется сигмойда определяющая вероятностный исход с границей в 0,5. Это значит, что мы можем понизить порог терпимости к аномалиям, сместив границу класса ближе к нулю:\n"
      ]
    },
    {
      "cell_type": "code",
      "metadata": {
        "colab": {
          "base_uri": "https://localhost:8080/"
        },
        "id": "nw9bOXM79w5D",
        "outputId": "42e630b5-5e2c-49eb-deb7-b9a769eee867"
      },
      "source": [
        "net_strict= []\n",
        "for i in loaded_model.predict(X_test):\n",
        "  if i > 1e-13:\n",
        "    net_strict.append(1)\n",
        "  else:\n",
        "    net_strict.append(0)\n",
        "print(metrics.classification_report(y_test, net_strict))\n",
        "print(metrics.roc_auc_score(y_test, net_strict))"
      ],
      "execution_count": null,
      "outputs": [
        {
          "output_type": "stream",
          "text": [
            "              precision    recall  f1-score   support\n",
            "\n",
            "           0       0.98      0.89      0.93      9711\n",
            "           1       0.92      0.99      0.95     12833\n",
            "\n",
            "    accuracy                           0.94     22544\n",
            "   macro avg       0.95      0.94      0.94     22544\n",
            "weighted avg       0.95      0.94      0.94     22544\n",
            "\n",
            "0.9376358430904363\n"
          ],
          "name": "stdout"
        }
      ]
    },
    {
      "cell_type": "code",
      "metadata": {
        "colab": {
          "base_uri": "https://localhost:8080/",
          "height": 198
        },
        "id": "uazVHVZsgT35",
        "outputId": "f7913e12-9943-465c-c11f-6857fa97d29c"
      },
      "source": [
        "confusion_df= pd.DataFrame(columns=['Model', 'False Negatives', 'False Positive'])\n",
        "from sklearn.metrics import confusion_matrix\n",
        "cm = confusion_matrix(y_test, cat_preds)\n",
        "confusion_df.loc[0] = ['CatBoost', cm[1,0], cm[0,1]]\n",
        "cm = confusion_matrix(y_test, lgb_preds)\n",
        "confusion_df.loc[1] = ['LightGBM', cm[1,0], cm[0,1]]\n",
        "cm = confusion_matrix(y_test, net_preds)\n",
        "confusion_df.loc[2] = ['Net', cm[1,0], cm[0,1]]\n",
        "cm = confusion_matrix(y_test, rfc_preds)\n",
        "confusion_df.loc[3] = ['RFC', cm[1,0], cm[0,1]]\n",
        "cm = confusion_matrix(y_test, net_strict)\n",
        "confusion_df.loc[4] = ['net_strict', cm[1,0], cm[0,1]]\n",
        "\n",
        "\n",
        "confusion_df"
      ],
      "execution_count": null,
      "outputs": [
        {
          "output_type": "execute_result",
          "data": {
            "text/html": [
              "<div>\n",
              "<style scoped>\n",
              "    .dataframe tbody tr th:only-of-type {\n",
              "        vertical-align: middle;\n",
              "    }\n",
              "\n",
              "    .dataframe tbody tr th {\n",
              "        vertical-align: top;\n",
              "    }\n",
              "\n",
              "    .dataframe thead th {\n",
              "        text-align: right;\n",
              "    }\n",
              "</style>\n",
              "<table border=\"1\" class=\"dataframe\">\n",
              "  <thead>\n",
              "    <tr style=\"text-align: right;\">\n",
              "      <th></th>\n",
              "      <th>Model</th>\n",
              "      <th>False Negatives</th>\n",
              "      <th>False Positive</th>\n",
              "    </tr>\n",
              "  </thead>\n",
              "  <tbody>\n",
              "    <tr>\n",
              "      <th>0</th>\n",
              "      <td>CatBoost</td>\n",
              "      <td>1705</td>\n",
              "      <td>1615</td>\n",
              "    </tr>\n",
              "    <tr>\n",
              "      <th>1</th>\n",
              "      <td>LightGBM</td>\n",
              "      <td>3444</td>\n",
              "      <td>602</td>\n",
              "    </tr>\n",
              "    <tr>\n",
              "      <th>2</th>\n",
              "      <td>Net</td>\n",
              "      <td>3959</td>\n",
              "      <td>579</td>\n",
              "    </tr>\n",
              "    <tr>\n",
              "      <th>3</th>\n",
              "      <td>RFC</td>\n",
              "      <td>3580</td>\n",
              "      <td>697</td>\n",
              "    </tr>\n",
              "    <tr>\n",
              "      <th>4</th>\n",
              "      <td>net_strict</td>\n",
              "      <td>184</td>\n",
              "      <td>1072</td>\n",
              "    </tr>\n",
              "  </tbody>\n",
              "</table>\n",
              "</div>"
            ],
            "text/plain": [
              "        Model False Negatives False Positive\n",
              "0    CatBoost            1705           1615\n",
              "1    LightGBM            3444            602\n",
              "2         Net            3959            579\n",
              "3         RFC            3580            697\n",
              "4  net_strict             184           1072"
            ]
          },
          "metadata": {
            "tags": []
          },
          "execution_count": 112
        }
      ]
    },
    {
      "cell_type": "markdown",
      "metadata": {
        "id": "1zFjINusXuVa"
      },
      "source": [
        "Составим ансамбль моделей, без использования смещения в нейросети:"
      ]
    },
    {
      "cell_type": "code",
      "metadata": {
        "id": "o4hMIDcIipX7"
      },
      "source": [
        "ansamble = []\n",
        "for a, b, c, d in zip(cat_preds, lgb_preds, net_strict, rfc_preds):\n",
        "  sum = a*0.5+b*0.25+d*0.25\n",
        "  if sum >= 0.25:\n",
        "    ansamble.append(1)\n",
        "  else:\n",
        "    ansamble.append(0)"
      ],
      "execution_count": null,
      "outputs": []
    },
    {
      "cell_type": "code",
      "metadata": {
        "colab": {
          "base_uri": "https://localhost:8080/"
        },
        "id": "0jjFINYKjuFF",
        "outputId": "7c262801-60d2-415b-a33e-016b6590b3ce"
      },
      "source": [
        "print(metrics.classification_report(y_test, ansamble))\n",
        "print(metrics.roc_auc_score(y_test, ansamble))"
      ],
      "execution_count": null,
      "outputs": [
        {
          "output_type": "stream",
          "text": [
            "              precision    recall  f1-score   support\n",
            "\n",
            "           0       0.84      0.82      0.83      9711\n",
            "           1       0.87      0.89      0.88     12833\n",
            "\n",
            "    accuracy                           0.86     22544\n",
            "   macro avg       0.86      0.85      0.86     22544\n",
            "weighted avg       0.86      0.86      0.86     22544\n",
            "\n",
            "0.8549777015179183\n"
          ],
          "name": "stdout"
        }
      ]
    },
    {
      "cell_type": "markdown",
      "metadata": {
        "id": "iVu3EPuhk4k7"
      },
      "source": [
        "Готово! Получен ансамбль, который определяет аномальную активность в 89% случаев и нейросеть в 99% случаев.\n",
        "\n",
        "Однако, даже комбинация трёх моделей делает ошибки и надо пологать, что некоторые виды атак значительно отличаются своими характеристиками от остальных. Для дальнейших исследований мы можем выделить характеристики, которые связаны с ошибкой и их значения."
      ]
    },
    {
      "cell_type": "code",
      "metadata": {
        "id": "HZOo5BQUkxWr"
      },
      "source": [
        "mistake = []\n",
        "for i, j in zip(y_test, ansamble):\n",
        "  if i != j:\n",
        "    mistake.append(1)\n",
        "  else:\n",
        "    mistake.append(0)"
      ],
      "execution_count": null,
      "outputs": []
    },
    {
      "cell_type": "code",
      "metadata": {
        "id": "aoX8OvQ5kpfg"
      },
      "source": [
        "encoded_test['mistake'] =  mistake\n",
        "df_test['mistake'] = mistake"
      ],
      "execution_count": null,
      "outputs": []
    },
    {
      "cell_type": "markdown",
      "metadata": {
        "id": "uCazkCFh6I5G"
      },
      "source": [
        "Посмотрим какой процент составляют пропущенные атаки от всех атак для видов аномалий, которые вызвали затруднения у моделей:"
      ]
    },
    {
      "cell_type": "code",
      "metadata": {
        "colab": {
          "base_uri": "https://localhost:8080/",
          "height": 607
        },
        "id": "KyVNmmg1p4d7",
        "outputId": "d3f532d4-2f8f-41c7-8dc8-6e4f7b0264a5"
      },
      "source": [
        "total_miss = df_test['attack'].loc[df_test['mistake'] == 1].value_counts()\n",
        "total = df_test['attack'].value_counts()\n",
        "top = []\n",
        "for i in df_test['attack'].unique():\n",
        "  try:\n",
        "    top.append([i, (total_miss[i]/total[i]) * 100])\n",
        "  except:\n",
        "    pass\n",
        "for i in range(len(top)):\n",
        "  top[i][1] = top[i][1].round()\n",
        "top = np.array(top)\n",
        "top = pd.DataFrame(top, columns=['type', 'percent of False'])\n",
        "top"
      ],
      "execution_count": null,
      "outputs": [
        {
          "output_type": "execute_result",
          "data": {
            "text/html": [
              "<div>\n",
              "<style scoped>\n",
              "    .dataframe tbody tr th:only-of-type {\n",
              "        vertical-align: middle;\n",
              "    }\n",
              "\n",
              "    .dataframe tbody tr th {\n",
              "        vertical-align: top;\n",
              "    }\n",
              "\n",
              "    .dataframe thead th {\n",
              "        text-align: right;\n",
              "    }\n",
              "</style>\n",
              "<table border=\"1\" class=\"dataframe\">\n",
              "  <thead>\n",
              "    <tr style=\"text-align: right;\">\n",
              "      <th></th>\n",
              "      <th>type</th>\n",
              "      <th>percent of False</th>\n",
              "    </tr>\n",
              "  </thead>\n",
              "  <tbody>\n",
              "    <tr>\n",
              "      <th>0</th>\n",
              "      <td>normal</td>\n",
              "      <td>18.0</td>\n",
              "    </tr>\n",
              "    <tr>\n",
              "      <th>1</th>\n",
              "      <td>guess_passwd</td>\n",
              "      <td>45.0</td>\n",
              "    </tr>\n",
              "    <tr>\n",
              "      <th>2</th>\n",
              "      <td>apache2</td>\n",
              "      <td>63.0</td>\n",
              "    </tr>\n",
              "    <tr>\n",
              "      <th>3</th>\n",
              "      <td>buffer_overflow</td>\n",
              "      <td>5.0</td>\n",
              "    </tr>\n",
              "    <tr>\n",
              "      <th>4</th>\n",
              "      <td>back</td>\n",
              "      <td>51.0</td>\n",
              "    </tr>\n",
              "    <tr>\n",
              "      <th>5</th>\n",
              "      <td>warezmaster</td>\n",
              "      <td>20.0</td>\n",
              "    </tr>\n",
              "    <tr>\n",
              "      <th>6</th>\n",
              "      <td>processtable</td>\n",
              "      <td>0.0</td>\n",
              "    </tr>\n",
              "    <tr>\n",
              "      <th>7</th>\n",
              "      <td>httptunnel</td>\n",
              "      <td>1.0</td>\n",
              "    </tr>\n",
              "    <tr>\n",
              "      <th>8</th>\n",
              "      <td>ps</td>\n",
              "      <td>13.0</td>\n",
              "    </tr>\n",
              "    <tr>\n",
              "      <th>9</th>\n",
              "      <td>snmpguess</td>\n",
              "      <td>17.0</td>\n",
              "    </tr>\n",
              "    <tr>\n",
              "      <th>10</th>\n",
              "      <td>multihop</td>\n",
              "      <td>6.0</td>\n",
              "    </tr>\n",
              "    <tr>\n",
              "      <th>11</th>\n",
              "      <td>named</td>\n",
              "      <td>6.0</td>\n",
              "    </tr>\n",
              "    <tr>\n",
              "      <th>12</th>\n",
              "      <td>xterm</td>\n",
              "      <td>46.0</td>\n",
              "    </tr>\n",
              "    <tr>\n",
              "      <th>13</th>\n",
              "      <td>rootkit</td>\n",
              "      <td>31.0</td>\n",
              "    </tr>\n",
              "    <tr>\n",
              "      <th>14</th>\n",
              "      <td>xlock</td>\n",
              "      <td>56.0</td>\n",
              "    </tr>\n",
              "    <tr>\n",
              "      <th>15</th>\n",
              "      <td>xsnoop</td>\n",
              "      <td>25.0</td>\n",
              "    </tr>\n",
              "    <tr>\n",
              "      <th>16</th>\n",
              "      <td>ftp_write</td>\n",
              "      <td>33.0</td>\n",
              "    </tr>\n",
              "    <tr>\n",
              "      <th>17</th>\n",
              "      <td>phf</td>\n",
              "      <td>100.0</td>\n",
              "    </tr>\n",
              "  </tbody>\n",
              "</table>\n",
              "</div>"
            ],
            "text/plain": [
              "               type percent of False\n",
              "0            normal             18.0\n",
              "1      guess_passwd             45.0\n",
              "2           apache2             63.0\n",
              "3   buffer_overflow              5.0\n",
              "4              back             51.0\n",
              "5       warezmaster             20.0\n",
              "6      processtable              0.0\n",
              "7        httptunnel              1.0\n",
              "8                ps             13.0\n",
              "9         snmpguess             17.0\n",
              "10         multihop              6.0\n",
              "11            named              6.0\n",
              "12            xterm             46.0\n",
              "13          rootkit             31.0\n",
              "14            xlock             56.0\n",
              "15           xsnoop             25.0\n",
              "16        ftp_write             33.0\n",
              "17              phf            100.0"
            ]
          },
          "metadata": {
            "tags": []
          },
          "execution_count": 146
        }
      ]
    },
    {
      "cell_type": "markdown",
      "metadata": {
        "id": "r75-38mGBQBA"
      },
      "source": [
        "В полученном списке есть виды атак, которых не было в тренировочной выборке т.е. ансамбль различает даже не столько конкретные атаки, сколько необычную активность. Теперь посмотрим какие значения оказывают наибольшее влияния на шанс ошибки:"
      ]
    },
    {
      "cell_type": "code",
      "metadata": {
        "colab": {
          "base_uri": "https://localhost:8080/"
        },
        "id": "2q3QHIPyHe79",
        "outputId": "0a600a38-16b9-4d88-9cec-f140c8bfaee3"
      },
      "source": [
        "corr_list = []\n",
        "for i in encoded_test:\n",
        "  if encoded_test['mistake'].corr(encoded_test[i]) > 0.01 and i!= 'mistake':\n",
        "   print(i, encoded_test['mistake'].corr(encoded_test[i]))\n",
        "   corr_list.append(i)\n",
        "corr_list.append('mistake')"
      ],
      "execution_count": null,
      "outputs": [
        {
          "output_type": "stream",
          "text": [
            "protocoltype 0.32117592407963946\n",
            "flag 0.158979472093433\n",
            "srcbytes 0.032563541722271744\n",
            "wrongfragment 0.08876760375725487\n",
            "hot 0.043887059157583064\n",
            "loggedin 0.02168644233165526\n",
            "isguestlogin 0.030503457416751294\n",
            "count 0.06136354505642723\n",
            "srvcount 0.31748429376874976\n",
            "samesrvrate 0.20199082229674137\n",
            "dsthostcount 0.16203386019555122\n",
            "dsthostsrvcount 0.16853563616093098\n",
            "dsthostsamesrvrate 0.16753390750394484\n",
            "dsthostsamesrcportrate 0.13595684685324988\n"
          ],
          "name": "stdout"
        }
      ]
    },
    {
      "cell_type": "markdown",
      "metadata": {
        "id": "UxLGBjVRB4VT"
      },
      "source": [
        "И просто для наглядности посмотрим на моду для строк и среднее для чисел по этим характеристикам, просто чтобы увидеть есть ли ощутимая разница:"
      ]
    },
    {
      "cell_type": "code",
      "metadata": {
        "colab": {
          "base_uri": "https://localhost:8080/",
          "height": 131
        },
        "id": "A3AvIXhgPx0r",
        "outputId": "2911036b-021f-46e4-c8f5-4faf51c6fa66"
      },
      "source": [
        "miss = df_test.loc[df_test['mistake'] == 1].mode()\n",
        "trust = df_test.loc[df_test['mistake'] == 0].mode()\n",
        "df_cor = [[], []]\n",
        "for i in corr_list[:-1]:\n",
        "  if type(df_test[i][0]) == type('str'):\n",
        "    df_cor[0].append(trust[i][0])\n",
        "    df_cor[1].append(miss[i][0])\n",
        "  else:\n",
        "    df_cor[0].append(encoded_test[i].loc[df_test['mistake'] == 0].mean())\n",
        "    df_cor[1].append(encoded_test[i].loc[df_test['mistake'] == 1].mean())\n",
        "df_cor[0].append(0)\n",
        "df_cor[1].append(1)\n",
        "df_cor = pd.DataFrame(np.array(df_cor))\n",
        "\n",
        "for i in np.arange(-1, len(corr_list), 1):\n",
        "  df_cor = df_cor.rename(columns={i:corr_list[i]})\n",
        "df_cor"
      ],
      "execution_count": null,
      "outputs": [
        {
          "output_type": "execute_result",
          "data": {
            "text/html": [
              "<div>\n",
              "<style scoped>\n",
              "    .dataframe tbody tr th:only-of-type {\n",
              "        vertical-align: middle;\n",
              "    }\n",
              "\n",
              "    .dataframe tbody tr th {\n",
              "        vertical-align: top;\n",
              "    }\n",
              "\n",
              "    .dataframe thead th {\n",
              "        text-align: right;\n",
              "    }\n",
              "</style>\n",
              "<table border=\"1\" class=\"dataframe\">\n",
              "  <thead>\n",
              "    <tr style=\"text-align: right;\">\n",
              "      <th></th>\n",
              "      <th>protocoltype</th>\n",
              "      <th>service</th>\n",
              "      <th>flag</th>\n",
              "      <th>dstbytes</th>\n",
              "      <th>wrongfragment</th>\n",
              "      <th>count</th>\n",
              "      <th>srvcount</th>\n",
              "      <th>samesrvrate</th>\n",
              "      <th>dsthostcount</th>\n",
              "      <th>dsthostsrvcount</th>\n",
              "      <th>dsthostsamesrvrate</th>\n",
              "      <th>dsthostsamesrcportrate</th>\n",
              "      <th>mistake</th>\n",
              "    </tr>\n",
              "  </thead>\n",
              "  <tbody>\n",
              "    <tr>\n",
              "      <th>0</th>\n",
              "      <td>tcp</td>\n",
              "      <td>http</td>\n",
              "      <td>SF</td>\n",
              "      <td>1837.8146626404634</td>\n",
              "      <td>0.0031681599920796</td>\n",
              "      <td>73.48349091629127</td>\n",
              "      <td>19.661501905846244</td>\n",
              "      <td>0.7187921390030347</td>\n",
              "      <td>189.686401663284</td>\n",
              "      <td>135.94584426513538</td>\n",
              "      <td>0.5894450769763955</td>\n",
              "      <td>0.1116137814959652</td>\n",
              "      <td>0</td>\n",
              "    </tr>\n",
              "    <tr>\n",
              "      <th>1</th>\n",
              "      <td>udp</td>\n",
              "      <td>private</td>\n",
              "      <td>SF</td>\n",
              "      <td>3937.342723004695</td>\n",
              "      <td>0.05377720870678617</td>\n",
              "      <td>126.83525394793</td>\n",
              "      <td>129.95561246265473</td>\n",
              "      <td>0.9261673068715319</td>\n",
              "      <td>229.9346991037132</td>\n",
              "      <td>182.17584293640633</td>\n",
              "      <td>0.7749210413999155</td>\n",
              "      <td>0.3102774221084076</td>\n",
              "      <td>1</td>\n",
              "    </tr>\n",
              "  </tbody>\n",
              "</table>\n",
              "</div>"
            ],
            "text/plain": [
              "  protocoltype  service flag  ...  dsthostsamesrvrate dsthostsamesrcportrate mistake\n",
              "0          tcp     http   SF  ...  0.5894450769763955     0.1116137814959652       0\n",
              "1          udp  private   SF  ...  0.7749210413999155     0.3102774221084076       1\n",
              "\n",
              "[2 rows x 13 columns]"
            ]
          },
          "metadata": {
            "tags": []
          },
          "execution_count": 77
        }
      ]
    },
    {
      "cell_type": "markdown",
      "metadata": {
        "id": "wvXHu3V_CYDT"
      },
      "source": [
        "На данном этапе заканчивается работа с данными. В результате у нас есть ансамбль предсказывающий аномальную активность и мы знаем с каким данными в дальнейшем можно работать, чтобы повысить точность алгоритмов."
      ]
    }
  ]
}
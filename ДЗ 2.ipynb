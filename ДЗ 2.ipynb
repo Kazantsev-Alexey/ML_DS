{
  "nbformat": 4,
  "nbformat_minor": 0,
  "metadata": {
    "colab": {
      "name": "Копия блокнота \"Копия блокнота \"Занятие 2: ООП. Библиотеки для DS_solved.ipynb\"\"",
      "provenance": [],
      "collapsed_sections": [],
      "include_colab_link": true
    },
    "kernelspec": {
      "name": "python3",
      "display_name": "Python 3"
    }
  },
  "cells": [
    {
      "cell_type": "markdown",
      "metadata": {
        "id": "view-in-github",
        "colab_type": "text"
      },
      "source": [
        "<a href=\"https://colab.research.google.com/github/Kazantsev-Alexey/ML_DS/blob/main/%D0%94%D0%97%202.ipynb\" target=\"_parent\"><img src=\"https://colab.research.google.com/assets/colab-badge.svg\" alt=\"Open In Colab\"/></a>"
      ]
    },
    {
      "cell_type": "markdown",
      "metadata": {
        "id": "DgjE2TBfFGyS"
      },
      "source": [
        "# ДЗ"
      ]
    },
    {
      "cell_type": "code",
      "metadata": {
        "id": "D-Lc19J4WL-3"
      },
      "source": [
        "# загрузим библиотеки\n",
        "import numpy as np\n",
        "import pandas as pd"
      ],
      "execution_count": 2,
      "outputs": []
    },
    {
      "cell_type": "markdown",
      "metadata": {
        "id": "ZYcKnimkFRrD"
      },
      "source": [
        "## Задание 1\n",
        "\n",
        "Создайте массив массив из 100 элементов (от 1 до 100), переформатируйте в формат (10 * 10), сделайте слайсинг с шагом 2 по каждой оси."
      ]
    },
    {
      "cell_type": "code",
      "metadata": {
        "id": "wAPfX3erFUqa",
        "colab": {
          "base_uri": "https://localhost:8080/"
        },
        "outputId": "2219a1ea-8baf-4b97-9354-e72a872da251"
      },
      "source": [
        "import numpy as np\n",
        "import pandas as pd\n",
        "\n",
        "arra = np.arange(1, 101)\n",
        "arra=arra.reshape((10, 10))\n",
        "arra=arra[::2]\n",
        "sliced=[]\n",
        "for i in arra:\n",
        "  sliced.append(list(i[::2]))\n",
        "sliced\n",
        "array1=np.asarray(sliced)\n",
        "array1\n"
      ],
      "execution_count": null,
      "outputs": [
        {
          "output_type": "execute_result",
          "data": {
            "text/plain": [
              "array([[ 1,  3,  5,  7,  9],\n",
              "       [21, 23, 25, 27, 29],\n",
              "       [41, 43, 45, 47, 49],\n",
              "       [61, 63, 65, 67, 69],\n",
              "       [81, 83, 85, 87, 89]])"
            ]
          },
          "metadata": {
            "tags": []
          },
          "execution_count": 23
        }
      ]
    },
    {
      "cell_type": "markdown",
      "metadata": {
        "id": "SrI3heKeV7nP"
      },
      "source": [
        "## Задание 2\n",
        "\n",
        "Написать функцию, которая по заданной длине последовательности находит среднее арифметическое ее членов.\n",
        "\n",
        "Реализуйте задачу с и без помощи numpy, сравните время выполнения"
      ]
    },
    {
      "cell_type": "code",
      "metadata": {
        "id": "2-5-E2pCV_Ot",
        "colab": {
          "base_uri": "https://localhost:8080/"
        },
        "outputId": "67dbd7ec-6394-42df-8252-fe96b208584d"
      },
      "source": [
        "# решение с использованием numpy\n",
        "# для оценки времени исоплнения блока\n",
        "%%time\n",
        "# зададим длину нашей последовательности\n",
        "dlina_posl = 100_000_000\n",
        "# ваш код тут\n",
        "import numpy as np\n",
        "import time\n",
        "\n",
        "dlina_posl = 100_000_000\n",
        "def avg(x):\n",
        "  \"\"\"выводит среднее арифметическое\n",
        "  для заданной последовательности\"\"\"\n",
        "  a_row= np.arange(dlina_posl)\n",
        "  count= np.mean(a_row)\n",
        "  print(f'Среднее арифметическое последовательности {count}')\n",
        "avg(dlina_posl)\n"
      ],
      "execution_count": null,
      "outputs": [
        {
          "output_type": "stream",
          "text": [
            "Среднее арифметическое последовательности 49999999.5\n",
            "CPU times: user 315 ms, sys: 340 ms, total: 655 ms\n",
            "Wall time: 657 ms\n"
          ],
          "name": "stdout"
        }
      ]
    },
    {
      "cell_type": "code",
      "metadata": {
        "id": "9e3X5PEpWBjA",
        "colab": {
          "base_uri": "https://localhost:8080/"
        },
        "outputId": "72e40437-0a02-4372-b297-a855d8681c9e"
      },
      "source": [
        "# решение без использования numpy\n",
        "# для оценки времени исоплнения блока\n",
        "%%time\n",
        "\n",
        "# ваш код тут\n",
        "def avg(x):\n",
        "  \"\"\"выводит среднее арифметическое\n",
        "  для заданной последовательности\"\"\"\n",
        "  row= (i for i in range(dlina_posl))\n",
        "  count =0\n",
        "  for i in row:\n",
        "    count+=i\n",
        "  count/=dlina_posl\n",
        "  print(f'Среднее арифметическое последовательности {count}')\n",
        "avg(dlina_posl)"
      ],
      "execution_count": null,
      "outputs": [
        {
          "output_type": "stream",
          "text": [
            "Среднее арифметическое последовательности 49999999.5\n",
            "CPU times: user 9.46 s, sys: 12 µs, total: 9.46 s\n",
            "Wall time: 9.47 s\n"
          ],
          "name": "stdout"
        }
      ]
    },
    {
      "cell_type": "markdown",
      "metadata": {
        "id": "rN5yJLU4WF_6"
      },
      "source": [
        ""
      ]
    },
    {
      "cell_type": "markdown",
      "metadata": {
        "id": "aF_IhXzJFWzJ"
      },
      "source": [
        "## Задание 3 *(необязательно)\n",
        "\n",
        "Задан Series объект s, найти индекс первого элемента отсортированного s, где значения больше 5"
      ]
    },
    {
      "cell_type": "code",
      "metadata": {
        "id": "PzrBc2RRFYom",
        "colab": {
          "base_uri": "https://localhost:8080/"
        },
        "outputId": "1b63700d-df34-490f-e51b-5aa409210483"
      },
      "source": [
        "# задано изначально\n",
        "r = np.random.RandomState(1)\n",
        "s = pd.Series(r.uniform(0, 10, 100))\n",
        "s=s.sort_values()\n",
        "for i in s.index:\n",
        "  if s[i]>5:\n",
        "    print(i)\n",
        "    break\n"
      ],
      "execution_count": 6,
      "outputs": [
        {
          "output_type": "stream",
          "text": [
            "67\n"
          ],
          "name": "stdout"
        }
      ]
    },
    {
      "cell_type": "markdown",
      "metadata": {
        "id": "lK7mPJPRWcs2"
      },
      "source": [
        "## Задание 4\n",
        "\n",
        "Предположим, что мы наблюдаем за некоторым признаком нашего датасета, но в данных есть пропуски. Ваша задача: реализовать алгоритм заполнения пропущенных значений последним известным с помощью средств python и pandas. (подсказка: вам может помочь функция np.isnan(), которая возвращает True, если число - nan. Для реализации с пандас стоит посмотреть на метод .fillna).\n",
        "\n",
        "Изначальный код с инициализацией такого датасета предоставлен."
      ]
    },
    {
      "cell_type": "code",
      "metadata": {
        "id": "Eu5g1x-hWcA1",
        "colab": {
          "base_uri": "https://localhost:8080/",
          "height": 282
        },
        "outputId": "ee3672af-223b-4e1e-ee01-9097ebd12dbd"
      },
      "source": [
        "# импортируем библиотеку для создания шума\n",
        "import random\n",
        "# библиотека для визуализации\n",
        "import matplotlib.pyplot as plt\n",
        "import numpy as np\n",
        "import pandas as pd\n",
        "# создадим наши данные и добавим к каждой точке синусоиды случайный шум\n",
        "a = np.linspace(0, 25, 100)\n",
        "a = np.sin(a) + [random.gauss(0, 0.2) for i in range(len(a))]\n",
        "\n",
        "# создадим 10 случайных пропусков\n",
        "for i in range(10):\n",
        "    a[random.randint(0, len(a) - 1)] = None\n",
        "# создадим датафрейм\n",
        "df = pd.DataFrame({'target':a})\n",
        "\n",
        "# ваш код тут\n",
        "# по какой-то причине результат сохраняется только через приравнивание\n",
        "df = df.fillna(method =\"ffill\")\n",
        "# отобразим\n",
        "plt.plot(df.target.values)"
      ],
      "execution_count": 3,
      "outputs": [
        {
          "output_type": "execute_result",
          "data": {
            "text/plain": [
              "[<matplotlib.lines.Line2D at 0x7f7da804bf98>]"
            ]
          },
          "metadata": {
            "tags": []
          },
          "execution_count": 3
        },
        {
          "output_type": "display_data",
          "data": {
            "image/png": "[encoded data removed]",
            "text/plain": [
              "<Figure size 432x288 with 1 Axes>"
            ]
          },
          "metadata": {
            "tags": [],
            "needs_background": "light"
          }
        }
      ]
    },
    {
      "cell_type": "markdown",
      "metadata": {
        "id": "5gYj1TeyW9Aq"
      },
      "source": [
        "## Задание 5 *(необязательно)\n",
        "\n",
        "Имеется небольшой игрушечный датафрейм, в котором необходимо провести несколько типов фильтраций (ответы ищите в решениях) и отобразить результат:\n",
        "\n",
        "* всех, кто старше 40\n",
        "* всех, кто имеет доход выше среднего по датасету\n",
        "* всех, кто имеет доход выше среднего по датасету, но надежность ниже среднего по датасету\n",
        "\n",
        "создать новые столбцы:\n",
        "\n",
        "\n",
        "* важность клиента = доход * надежность\n",
        "* возможная долгосрочность клиента = важность клиента * (средний возраст по датасету - возраст клиента)\n",
        "\n",
        "`подсказка: двойные условия записываются так: (условие 1) & (условие 2)`\n",
        "\n",
        "\n",
        "** примечание: столбцы не имеют отношения к реальным формулам или моделям, они необходимы только для наглядности"
      ]
    },
    {
      "cell_type": "code",
      "metadata": {
        "id": "vHvedF6tXAWF",
        "colab": {
          "base_uri": "https://localhost:8080/"
        },
        "outputId": "2e3d697e-f333-44d7-be29-e3f47d458eab"
      },
      "source": [
        "# создадим тестовый датасет\n",
        "df = pd.DataFrame({\n",
        "    'имя': ['Петя', 'Вася', 'Аня', 'Света'],\n",
        "    'возраст': [45, 26, 41 , 21],\n",
        "    'доход': [100000, 80000, 150000, 60000],\n",
        "    'надежность клиента (0..1)': [0.65, 0.74, 0.87, 0.68],\n",
        "    'пол': ['муж', 'муж', 'жен', 'жен']},\n",
        "    index=[0, 1, 2, 3])\n",
        "\n",
        "# ваш код тут\n",
        "pd.options.display.max_columns= 6\n",
        "age=df.loc[df['возраст']>40]\n",
        "income = df.loc[df['доход']>df.доход.mean()]\n",
        "inc2= df.loc[df['доход']>df.доход.mean()]\n",
        "# по какой то причине схема (условие 1) & (условие 2) не сработала\n",
        "# и появлялась ошибка unsupported operand type(s) for &: 'float' and 'float'\n",
        "# но если разбить действия на два этапа (inc2 & inc3), то ошибки нет\n",
        "inc3= inc2.loc[inc2['надежность клиента (0..1)'] < df.iloc[:, 3].mean()]\n",
        "df['важность'] = df['доход']*df['надежность клиента (0..1)']\n",
        "df['долгосрочность'] = df['важность']*(df.возраст.mean()-df.возраст)\n",
        "print('Полный фрейм: \\n',df,'\\n')\n",
        "print('Старше сорока: \\n',age, '\\n')\n",
        "print('Доход выше среднего: \\n',income, '\\n')\n",
        "print('Доход и надежность: \\n',inc3)\n",
        "# я все вывел через print т.к. без него выводится только последний указанный датафрейм"
      ],
      "execution_count": 18,
      "outputs": [
        {
          "output_type": "stream",
          "text": [
            "Полный фрейм: \n",
            "      имя  возраст   доход  ...  пол  важность  долгосрочность\n",
            "0   Петя       45  100000  ...  муж   65000.0       -763750.0\n",
            "1   Вася       26   80000  ...  муж   59200.0        429200.0\n",
            "2    Аня       41  150000  ...  жен  130500.0      -1011375.0\n",
            "3  Света       21   60000  ...  жен   40800.0        499800.0\n",
            "\n",
            "[4 rows x 7 columns] \n",
            "\n",
            "Старше сорока: \n",
            "     имя  возраст   доход  надежность клиента (0..1)  пол\n",
            "0  Петя       45  100000                       0.65  муж\n",
            "2   Аня       41  150000                       0.87  жен \n",
            "\n",
            "Доход выше среднего: \n",
            "     имя  возраст   доход  надежность клиента (0..1)  пол\n",
            "0  Петя       45  100000                       0.65  муж\n",
            "2   Аня       41  150000                       0.87  жен \n",
            "\n",
            "Доход и надежность: \n",
            "     имя  возраст   доход  надежность клиента (0..1)  пол\n",
            "0  Петя       45  100000                       0.65  муж\n"
          ],
          "name": "stdout"
        }
      ]
    }
  ]
}